{
 "cells": [
  {
   "cell_type": "code",
   "execution_count": 2,
   "metadata": {},
   "outputs": [],
   "source": [
    "%matplotlib ipympl\n",
    "import numpy as np\n",
    "import matplotlib.pyplot as plt\n",
    "import os.path\n",
    "import scipy.constants as const\n",
    "from scipy import integrate"
   ]
  },
  {
   "cell_type": "code",
   "execution_count": 22,
   "metadata": {},
   "outputs": [],
   "source": [
    "v0 = 0.00127*const.k  # J, trap depth\n",
    "w0 = 2.38e-6 # m, beam waist\n",
    "\n",
    "def v(s):\n",
    "    return v0*(1-np.exp(-2*np.power(s/w0,2)))\n",
    "\n",
    "m = 132.905451931*const.atomic_mass  # kg, Cs\n",
    "dE = np.sqrt(v0/m)/np.pi/w0\n",
    "\n",
    "def solvr(x, Y, e):\n",
    "    return [Y[1], -(2*m/const.hbar**2)*(e-v(x))*Y[0]]\n",
    "\n",
    "def solvr_wrapper(e):\n",
    "    return lambda t, y: solvr(t, y, e)"
   ]
  },
  {
   "cell_type": "code",
   "execution_count": 26,
   "metadata": {},
   "outputs": [
    {
     "data": {
      "application/vnd.jupyter.widget-view+json": {
       "model_id": "7c4aa49bb9a24382a5d3452450ee9d08",
       "version_major": 2,
       "version_minor": 0
      },
      "text/html": [
       "<p>Failed to display Jupyter Widget of type <code>FigureCanvasNbAgg</code>.</p>\n",
       "<p>\n",
       "  If you're reading this message in Jupyter Notebook or JupyterLab, it may mean\n",
       "  that the widgets JavaScript is still loading. If this message persists, it\n",
       "  likely means that the widgets JavaScript library is either not installed or\n",
       "  not enabled. See the <a href=\"https://ipywidgets.readthedocs.io/en/stable/user_install.html\">Jupyter\n",
       "  Widgets Documentation</a> for setup instructions.\n",
       "</p>\n",
       "<p>\n",
       "  If you're reading this message in another notebook frontend (for example, a static\n",
       "  rendering on GitHub or <a href=\"https://nbviewer.jupyter.org/\">NBViewer</a>),\n",
       "  it may mean that your frontend doesn't currently support widgets.\n",
       "</p>\n"
      ],
      "text/plain": [
       "FigureCanvasNbAgg()"
      ]
     },
     "metadata": {},
     "output_type": "display_data"
    },
    {
     "data": {
      "text/plain": [
       "<matplotlib.legend.Legend at 0x9642f62c>"
      ]
     },
     "execution_count": 26,
     "metadata": {},
     "output_type": "execute_result"
    }
   ],
   "source": [
    "N = 60000 # iterations\n",
    "\n",
    "h = 1e-4\n",
    "h2 = h**2\n",
    "\n",
    "epsilon = 2.5 # n+1/2\n",
    "\n",
    "y = 0.0\n",
    "k = 0.0\n",
    "x = -1*(N-2)*h\n",
    "\n",
    "k_minus_2 = epsilon + x-2*h # k_0\n",
    "k_minus_1 = epsilon + x-h # k_1\n",
    "a = 0.1\n",
    "y_minus_2 = 0 # y_0\n",
    "y_minus_1 = a # y_1\n",
    "\n",
    "x_out = []\n",
    "y_out = []\n",
    "\n",
    "n=-1*N+2\n",
    "\n",
    "while n<N-2:\n",
    "    n+=1\n",
    "    x += h;\n",
    "    k = 2*epsilon - pow(x, 2)\n",
    "    b = h2/12\n",
    "    y = ( 2*(1-5*b*k_minus_1) * y_minus_1 - (1+b*k_minus_2) * y_minus_2 ) / (1 + b * k)\n",
    "\n",
    "    # Save for plotting\n",
    "    x_out.append(x)\n",
    "    y_out.append(y)\n",
    "\n",
    "    # Shift for next iteration\n",
    "    y_minus_2 = y_minus_1\n",
    "    y_minus_1 = y\n",
    "    k_minus_2 = k_minus_1\n",
    "    k_minus_1 = k\n",
    "\n",
    "\n",
    "# Plot\n",
    "fig, ax = plt.subplots()\n",
    "ax.plot(x_out, y_out, label=\"$\\epsilon = \"+repr(epsilon)+\"$\")\n",
    "ax.set_xlabel(\"x\")\n",
    "ax.set_ylabel(\"y\")\n",
    "ax.set_title(\"Schroedinger Eqn in Harmonic Potential\")\n",
    "ax.legend(loc=1)"
   ]
  },
  {
   "cell_type": "code",
   "execution_count": null,
   "metadata": {},
   "outputs": [],
   "source": []
  }
 ],
 "metadata": {
  "kernelspec": {
   "display_name": "Python 2",
   "language": "python",
   "name": "python2"
  },
  "language_info": {
   "codemirror_mode": {
    "name": "ipython",
    "version": 2
   },
   "file_extension": ".py",
   "mimetype": "text/x-python",
   "name": "python",
   "nbconvert_exporter": "python",
   "pygments_lexer": "ipython2",
   "version": "2.7.6"
  }
 },
 "nbformat": 4,
 "nbformat_minor": 2
}
