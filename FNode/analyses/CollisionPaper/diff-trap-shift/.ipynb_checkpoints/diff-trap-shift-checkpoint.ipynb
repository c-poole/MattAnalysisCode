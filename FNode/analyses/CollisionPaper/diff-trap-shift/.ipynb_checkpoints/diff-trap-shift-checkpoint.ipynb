{
 "cells": [
  {
   "cell_type": "code",
   "execution_count": 111,
   "metadata": {},
   "outputs": [],
   "source": [
    "%matplotlib ipympl\n",
    "import numpy as np\n",
    "import matplotlib.pyplot as plt\n",
    "import matplotlib as mpl\n",
    "import os.path\n",
    "from scipy import optimize"
   ]
  },
  {
   "cell_type": "code",
   "execution_count": 116,
   "metadata": {},
   "outputs": [],
   "source": [
    "cs_T_adj = 0.9  # finite temp\n",
    "rb_T_adj = 0.86  # finite temp\n",
    "\n",
    "cs_freqs = np.array([\n",
    "   [55, 0.70162788],\n",
    "   [50.65, 0.9084147],\n",
    "   [39.44, 1.82411816],\n",
    "   [26.77, 3.20483396],\n",
    "   [17.65, 3.8410576],\n",
    "   [9.219, 4.04551988]\n",
    "])*np.array([0.81*1.05*cs_T_adj,1]) + np.array([0, -4.4742177])\n",
    "\n",
    "rb_freqs = np.array([\n",
    "   [55, 0.0849255],\n",
    "   [50.65, 0.10782397],\n",
    "   [39.44, 0.53102993],\n",
    "   [26.77, 0.79220492],\n",
    "   [17.65, 1.02125303],\n",
    "   [9.219, 1.1057729]\n",
    "   ])*np.array([0.81*1.05*rb_T_adj,1]) + np.array([0, -0.64949647])\n",
    "\n",
    "bz = 1.15 # magnetic field in G\n",
    "cs_qz = 4.2745e-1*bz**2 # quadratic zeeman (kHz) Steck\n",
    "rb_qz = 5.7515e-1*bz**2 # quadratic zeeman (kHz) Steck\n",
    "\n",
    "cs_diff = -0.07913  # differential stark shift theory, kHz/mW at 1064\n",
    "cs_diff_u = cs_diff*0.95**2  # 5% waist error\n",
    "cs_diff_l = cs_diff*1.05**2\n",
    "\n",
    "\n",
    "rb_diff = -0.021185  # differential stark shift theory, kHz/mW at 1064\n",
    "rb_diff_u = rb_diff*0.95**2\n",
    "rb_diff_l = rb_diff*1.05**2"
   ]
  },
  {
   "cell_type": "code",
   "execution_count": 117,
   "metadata": {},
   "outputs": [],
   "source": [
    "cserr = np.array([\n",
    "  0.187,\n",
    "  0.154,\n",
    "  0.108,\n",
    "  0.235,\n",
    "  0.12,\n",
    "  0.18\n",
    "])\n",
    "rberr = np.array([\n",
    "  0.215,\n",
    "  0.27,\n",
    "  0.166,\n",
    "  0.243,\n",
    "  0.163,\n",
    "  0.2\n",
    "])"
   ]
  },
  {
   "cell_type": "code",
   "execution_count": 118,
   "metadata": {},
   "outputs": [
    {
     "data": {
      "text/plain": [
       "array([0.80392157, 0.36078431, 0.36078431])"
      ]
     },
     "execution_count": 118,
     "metadata": {},
     "output_type": "execute_result"
    }
   ],
   "source": [
    "def alpha_filter(c, a):\n",
    "    # c:color, a:alpha\n",
    "#     print(mpl.colors.cnames[c])\n",
    "#     print([mpl.colors.cnames[c][1:][i:i+2] for i in range(3)])\n",
    "    src = np.array([int(mpl.colors.cnames[c][1:][i:i+2],16)/255. for i in range(0,6,2)])\n",
    "    tar = (1-a) + src*a\n",
    "    return tar\n",
    "\n",
    "alpha_filter('indianred', 1)"
   ]
  },
  {
   "cell_type": "code",
   "execution_count": 119,
   "metadata": {},
   "outputs": [
    {
     "data": {
      "application/vnd.jupyter.widget-view+json": {
       "model_id": "32d138d43ba64d2a9ab6ff4a519f007a",
       "version_major": 2,
       "version_minor": 0
      },
      "text/html": [
       "<p>Failed to display Jupyter Widget of type <code>FigureCanvasNbAgg</code>.</p>\n",
       "<p>\n",
       "  If you're reading this message in Jupyter Notebook or JupyterLab, it may mean\n",
       "  that the widgets JavaScript is still loading. If this message persists, it\n",
       "  likely means that the widgets JavaScript library is either not installed or\n",
       "  not enabled. See the <a href=\"https://ipywidgets.readthedocs.io/en/stable/user_install.html\">Jupyter\n",
       "  Widgets Documentation</a> for setup instructions.\n",
       "</p>\n",
       "<p>\n",
       "  If you're reading this message in another notebook frontend (for example, a static\n",
       "  rendering on GitHub or <a href=\"https://nbviewer.jupyter.org/\">NBViewer</a>),\n",
       "  it may mean that your frontend doesn't currently support widgets.\n",
       "</p>\n"
      ],
      "text/plain": [
       "FigureCanvasNbAgg()"
      ]
     },
     "metadata": {},
     "output_type": "display_data"
    },
    {
     "name": "stdout",
     "output_type": "stream",
     "text": [
      "---cs---\n",
      "[-0.10428942]\n",
      "[0.0026609]\n",
      "---rb---\n",
      "[-0.03247522]\n",
      "[0.00099618]\n"
     ]
    }
   ],
   "source": [
    "fig, ax = plt.subplots(figsize=(2*3.375,3.5))\n",
    "marker_styles = [\n",
    "    dict(color='cornflowerblue', marker='o', markeredgecolor='b', linestyle='None', markersize=6),\n",
    "    dict(color='indianred', marker='d', markeredgecolor='r', linestyle='None', markersize=6)\n",
    "]\n",
    "xs = np.linspace(0,60,2)\n",
    "\n",
    "r=0\n",
    "cs_fit = np.polyfit(cs_freqs[:,0], cs_freqs[:,1]-cs_qz, 1, w=cserr**-1, cov=True)\n",
    "\n",
    "def lin(x, s):\n",
    "    return x*s\n",
    "\n",
    "print '---cs---'\n",
    "popt, pcov = optimize.curve_fit(lin, cs_freqs[:,0], cs_freqs[:,1]-cs_qz, sigma=cserr)\n",
    "print(popt)\n",
    "print(np.sqrt(np.diagonal(np.abs(pcov))))\n",
    "a = popt[0]\n",
    "\n",
    "# print('{:.4f}'.format(a[0]))\n",
    "\n",
    "# print cs_fit[0]\n",
    "# print np.sqrt(np.abs(np.diag(cs_fit[1])))\n",
    "\n",
    "ax.errorbar(cs_freqs[:,0], cs_freqs[:,1]-cs_qz,\n",
    "        yerr=cserr,\n",
    "        **marker_styles[r]\n",
    "    )\n",
    "# ax.plot(xs, np.poly1d([a,0])(xs), color='cornflowerblue', linestyle='-')\n",
    "ax.plot(xs, np.poly1d([cs_diff, 0])(xs), color='cornflowerblue', linestyle='-')\n",
    "ax.fill_between(xs, np.poly1d([cs_diff_u, 0])(xs), y2=np.poly1d([cs_diff_l, 0])(xs), color=alpha_filter('cornflowerblue', 0.3), linestyle='None')\n",
    "\n",
    "print '---rb---'\n",
    "r=1\n",
    "rb_fit = np.polyfit(rb_freqs[:,0], rb_freqs[:,1]-rb_qz, 1, w=rberr**-1, cov=True)\n",
    "\n",
    "popt, pcov = optimize.curve_fit(lin, rb_freqs[:,0], rb_freqs[:,1]-rb_qz, sigma=rberr)\n",
    "print(popt)\n",
    "print(np.sqrt(np.diagonal(np.abs(pcov))))\n",
    "b = popt[0]\n",
    "\n",
    "# print rb_fit[0]\n",
    "# print np.sqrt(np.abs(np.diag(rb_fit[1])))\n",
    "\n",
    "ax.errorbar(rb_freqs[:,0], rb_freqs[:,1]-rb_qz,\n",
    "        yerr=rberr,\n",
    "        **marker_styles[r]\n",
    "    )\n",
    "\n",
    "# ax.plot(xs, np.poly1d([b,0])(xs), color='indianred', linestyle='-')\n",
    "\n",
    "ax.fill_between(xs, np.poly1d([rb_diff_u, 0])(xs), y2=np.poly1d([rb_diff_l, 0])(xs), color=alpha_filter('indianred', 0.3), linestyle='None')\n",
    "ax.plot(xs, np.poly1d([rb_diff, 0])(xs), color='indianred', linestyle='-')\n",
    "\n",
    "ax.grid(which='both')\n",
    "ax.set_ylabel(r'$f- f_{hf}(B)$ (kHz)', fontsize=14)\n",
    "ax.set_xlabel(r'$P_{ODT}$ (mW)', fontsize=14)\n",
    "ax.set_xlim(0,45)\n",
    "plt.tight_layout()\n",
    "\n",
    "fmts = ['pdf', 'png', 'eps']\n",
    "out = '/home/ebert/jupyter-notebooks/FNode/analyses/CollisionPaper/diff-trap-shift/'\n",
    "fn = os.path.join(out, 'trap-shift_corrected.{}')\n",
    "for fmt in fmts:\n",
    "    fig.savefig(fn.format(fmt), dpi=200, format=fmt)"
   ]
  },
  {
   "cell_type": "code",
   "execution_count": 79,
   "metadata": {},
   "outputs": [
    {
     "data": {
      "text/plain": [
       "0.760635875"
      ]
     },
     "execution_count": 79,
     "metadata": {},
     "output_type": "execute_result"
    }
   ],
   "source": [
    "rb_qz"
   ]
  },
  {
   "cell_type": "code",
   "execution_count": 80,
   "metadata": {},
   "outputs": [
    {
     "data": {
      "text/plain": [
       "0.565302625"
      ]
     },
     "execution_count": 80,
     "metadata": {},
     "output_type": "execute_result"
    }
   ],
   "source": [
    "cs_qz"
   ]
  },
  {
   "cell_type": "code",
   "execution_count": 81,
   "metadata": {},
   "outputs": [
    {
     "data": {
      "text/plain": [
       "2.408416895552809"
      ]
     },
     "execution_count": 81,
     "metadata": {},
     "output_type": "execute_result"
    }
   ],
   "source": [
    "2.38*(cs_diff/a)**0.5"
   ]
  },
  {
   "cell_type": "code",
   "execution_count": 82,
   "metadata": {},
   "outputs": [
    {
     "data": {
      "text/plain": [
       "2.2845188757144244"
      ]
     },
     "execution_count": 82,
     "metadata": {},
     "output_type": "execute_result"
    }
   ],
   "source": [
    "2.38*(rb_diff/b)**0.5"
   ]
  },
  {
   "cell_type": "code",
   "execution_count": 83,
   "metadata": {},
   "outputs": [
    {
     "data": {
      "text/plain": [
       "-0.0218857"
      ]
     },
     "execution_count": 83,
     "metadata": {},
     "output_type": "execute_result"
    }
   ],
   "source": [
    "rb_diff"
   ]
  },
  {
   "cell_type": "code",
   "execution_count": 86,
   "metadata": {},
   "outputs": [],
   "source": [
    "mV2mW = 0.523822"
   ]
  },
  {
   "cell_type": "code",
   "execution_count": 87,
   "metadata": {},
   "outputs": [
    {
     "data": {
      "text/plain": [
       "-3.7634256318092807"
      ]
     },
     "execution_count": 87,
     "metadata": {},
     "output_type": "execute_result"
    }
   ],
   "source": [
    "90*mV2mW*a"
   ]
  },
  {
   "cell_type": "code",
   "execution_count": 88,
   "metadata": {},
   "outputs": [
    {
     "data": {
      "text/plain": [
       "-1.1198274222911606"
      ]
     },
     "execution_count": 88,
     "metadata": {},
     "output_type": "execute_result"
    }
   ],
   "source": [
    "90*mV2mW*b"
   ]
  },
  {
   "cell_type": "code",
   "execution_count": null,
   "metadata": {},
   "outputs": [],
   "source": []
  }
 ],
 "metadata": {
  "kernelspec": {
   "display_name": "Python 2",
   "language": "python",
   "name": "python2"
  },
  "language_info": {
   "codemirror_mode": {
    "name": "ipython",
    "version": 2
   },
   "file_extension": ".py",
   "mimetype": "text/x-python",
   "name": "python",
   "nbconvert_exporter": "python",
   "pygments_lexer": "ipython2",
   "version": "2.7.6"
  }
 },
 "nbformat": 4,
 "nbformat_minor": 2
}
