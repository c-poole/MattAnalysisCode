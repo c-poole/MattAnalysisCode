{
 "cells": [
  {
   "cell_type": "code",
   "execution_count": 51,
   "metadata": {},
   "outputs": [],
   "source": [
    "%matplotlib ipympl\n",
    "from QDP import qdp\n",
    "import os.path\n",
    "import numpy as np\n",
    "from scipy.stats import poisson\n",
    "import matplotlib.pyplot as plt\n",
    "from scipy import optimize\n",
    "dp = '/home/ebert/jupyter-notebooks/FNode-data'\n",
    "exclude = [2]\n",
    "\n",
    "def gaussian(x, a, x0, s, b):\n",
    "    return b + a*np.exp(-0.5*((x-x0)/s)**2)"
   ]
  },
  {
   "cell_type": "code",
   "execution_count": 60,
   "metadata": {
    "scrolled": false
   },
   "outputs": [
    {
     "name": "stdout",
     "output_type": "stream",
     "text": [
      "data at: 2018_07_07/2018_07_07_19_58_34_p-heating-radial-freq-scan/results.hdf5\n",
      "name 'fort_exp' is not defined\n",
      "name 'rb_uwave_freq' is not defined\n",
      "ivars: [u'p_heating_freq']\n",
      "--------------------\n",
      "--------------------\n",
      "--------------------\n",
      "--------------------\n",
      "On entry to DGESDD parameter number 5 had an illegal value\n",
      "There may be some issue with your guess: `[  7.38507555e-18   0.00000000e+00   0.00000000e+00]`\n",
      "--------------------\n",
      "On entry to DGESDD parameter number 5 had an illegal value\n",
      "There may be some issue with your guess: `[  7.38507555e-18   0.00000000e+00   0.00000000e+00]`\n",
      "--------------------\n",
      "ivar: 60.0000\tcloading: 0.289\trloading: 0.108\t\tcretention: 0.908 +- 0.030\trretention: 0.856 +- 0.030\n",
      "ivar: 61.3889\tcloading: 0.260\trloading: 0.089\t\tcretention: 0.838 +- 0.031\trretention: 0.832 +- 0.031\n",
      "ivar: 62.7778\tcloading: 0.279\trloading: 0.152\t\tcretention: 0.879 +- 0.027\trretention: 0.889 +- 0.027\n",
      "ivar: 64.1667\tcloading: 0.251\trloading: 0.174\t\tcretention: 0.769 +- 0.035\trretention: 0.788 +- 0.035\n",
      "ivar: 65.5556\tcloading: 0.232\trloading: 0.205\t\tcretention: 0.885 +- 0.035\trretention: 0.780 +- 0.035\n",
      "ivar: 66.9444\tcloading: 0.262\trloading: 0.163\t\tcretention: 0.843 +- 0.038\trretention: 0.727 +- 0.038\n",
      "ivar: 68.3333\tcloading: 0.183\trloading: 0.183\t\tcretention: 0.808 +- 0.042\trretention: 0.566 +- 0.042\n",
      "ivar: 69.7222\tcloading: 0.185\trloading: 0.126\t\tcretention: 0.745 +- 0.043\trretention: 0.458 +- 0.043\n",
      "ivar: 71.1111\tcloading: 0.208\trloading: 0.174\t\tcretention: 0.690 +- 0.042\trretention: 0.412 +- 0.042\n",
      "ivar: 72.5000\tcloading: 0.148\trloading: 0.148\t\tcretention: 0.722 +- 0.043\trretention: 0.505 +- 0.043\n",
      "ivar: 73.8889\tcloading: 0.127\trloading: 0.117\t\tcretention: 0.598 +- 0.043\trretention: 0.553 +- 0.043\n",
      "ivar: 75.2778\tcloading: 0.091\trloading: 0.167\t\tcretention: 0.547 +- 0.037\trretention: 0.753 +- 0.037\n",
      "ivar: 76.6667\tcloading: 0.119\trloading: 0.207\t\tcretention: 0.603 +- 0.036\trretention: 0.762 +- 0.036\n",
      "ivar: 78.0556\tcloading: 0.085\trloading: 0.207\t\tcretention: 0.725 +- 0.029\trretention: 0.866 +- 0.029\n",
      "ivar: 79.4444\tcloading: 0.119\trloading: 0.177\t\tcretention: 0.864 +- 0.025\trretention: 0.908 +- 0.025\n",
      "ivar: 80.8333\tcloading: 0.203\trloading: 0.142\t\tcretention: 0.867 +- 0.020\trretention: 0.940 +- 0.020\n",
      "ivar: 82.2222\tcloading: 0.250\trloading: 0.194\t\tcretention: 0.906 +- 0.024\trretention: 0.909 +- 0.024\n",
      "ivar: 83.6111\tcloading: 0.270\trloading: 0.152\t\tcretention: 0.903 +- 0.022\trretention: 0.929 +- 0.022\n",
      "ivar: 85.0000\tcloading: 0.240\trloading: 0.158\t\tcretention: 0.926 +- 0.023\trretention: 0.918 +- 0.023\n"
     ]
    },
    {
     "data": {
      "application/vnd.jupyter.widget-view+json": {
       "model_id": "a37878ecc55f40bfacef92f7af3e047f",
       "version_major": 2,
       "version_minor": 0
      },
      "text/html": [
       "<p>Failed to display Jupyter Widget of type <code>FigureCanvasNbAgg</code>.</p>\n",
       "<p>\n",
       "  If you're reading this message in Jupyter Notebook or JupyterLab, it may mean\n",
       "  that the widgets JavaScript is still loading. If this message persists, it\n",
       "  likely means that the widgets JavaScript library is either not installed or\n",
       "  not enabled. See the <a href=\"https://ipywidgets.readthedocs.io/en/stable/user_install.html\">Jupyter\n",
       "  Widgets Documentation</a> for setup instructions.\n",
       "</p>\n",
       "<p>\n",
       "  If you're reading this message in another notebook frontend (for example, a static\n",
       "  rendering on GitHub or <a href=\"https://nbviewer.jupyter.org/\">NBViewer</a>),\n",
       "  it may mean that your frontend doesn't currently support widgets.\n",
       "</p>\n"
      ],
      "text/plain": [
       "FigureCanvasNbAgg()"
      ]
     },
     "metadata": {},
     "output_type": "display_data"
    },
    {
     "name": "stdout",
     "output_type": "stream",
     "text": [
      "[ -0.32582662  74.43407415   2.84930846   0.88724338]\n",
      "[ -0.4748903   70.91853927   3.35641371   0.91164276]\n"
     ]
    }
   ],
   "source": [
    "exp_name = '2018_07_07_19_58_34_p-heating-radial-freq-scan'\n",
    "if exp_name:\n",
    "    exp_date = '_'.join(exp_name.split('_')[:3])\n",
    "    experiment_file = os.path.join(exp_date, exp_name, 'results.hdf5')\n",
    "else:\n",
    "    experiment_file = ''\n",
    "q = qdp.QDP(base_data_path=dp)\n",
    "q.load_data_file(experiment_file)\n",
    "print \"ivars: {}\".format(q.experiments[0]['variable_list'])\n",
    "cs_cuts = [[23],[3]]\n",
    "rb_cuts = [[23],[3]]\n",
    "q.set_thresholds(cs_cuts, roi=0)\n",
    "q.set_thresholds(rb_cuts, roi=1)\n",
    "q.generate_thresholds(loss=False)\n",
    "retention = q.apply_thresholds(exclude_rois=exclude)\n",
    "cuts = q.get_thresholds()\n",
    "roi_map = ['cs', 'rb']\n",
    "fmt_map = ['bo', 'rd']\n",
    "marker_styles = [\n",
    "    dict(color='cornflowerblue', marker='o', markeredgecolor='b', linestyle='None'),\n",
    "    dict(color='indianred', marker='d', markeredgecolor='r', linestyle='None')\n",
    "]\n",
    "entries = np.product(retention['retention'].shape[:-1])\n",
    "tbl_str = \"ivar: {0:.4f}\\tcloading: {1:.3f}\\trloading: {2:.3f}\\t\\tcretention: {3:.3f} +- {4:.3f}\\trretention: {5:.3f} +- {6:.3f}\"\n",
    "for i in range(entries):\n",
    "    print(tbl_str.format(\n",
    "        retention['ivar'].reshape((entries,-1))[i][0],\n",
    "        retention['loading'].reshape((entries,-1))[i][0], retention['loading'].reshape((entries,-1))[i][1],\n",
    "        retention['retention'].reshape((entries,-1))[i][0], retention['error'].reshape((entries,-1))[i][0],\n",
    "        retention['retention'].reshape((entries,-1))[i][1], retention['error'].reshape((entries,-1))[i][1]\n",
    "    ))\n",
    "q.save_experiment_data()\n",
    "xlab = q.experiments[0]['variable_desc'][q.experiments[0]['variable_list'][0]]['description']\n",
    "\n",
    "# plotting\n",
    "fig, ax = plt.subplots(nrows=2, figsize=(5,8))\n",
    "plt.subplots_adjust(wspace=0.3)\n",
    "popts = []\n",
    "pcovs = []\n",
    "for i, yvals in enumerate(['retention', 'loading']):\n",
    "    for e in range(len(retention['ivar'])):\n",
    "        for r in range(2):            \n",
    "            if yvals=='retention':\n",
    "                try:\n",
    "                    ax[i].errorbar(retention['ivar'][e, :, r], retention[yvals][e, :, r],\n",
    "                        yerr=retention['error'][e,:,r],\n",
    "                        **marker_styles[r]\n",
    "                    )\n",
    "                except Exception as ee:\n",
    "                    print(ee)\n",
    "                    ax[i].plot(retention['ivar'][e, :, 0], retention[yvals][e, :, r], **marker_styles[r])\n",
    "                # fitting\n",
    "                xs = np.linspace(min(retention['ivar'][e, :, 0]), max(retention['ivar'][e, :, 0]),100)\n",
    "                guess = [-0.4, retention['ivar'][e, np.argmin(retention[yvals][e, :, r]), 0], 5, 0.8]\n",
    "                try:\n",
    "                    popt, pcov = optimize.curve_fit(\n",
    "                        gaussian,\n",
    "                        retention['ivar'][e, :, 0],\n",
    "                        retention[yvals][e, :, r],\n",
    "                        p0=guess,\n",
    "                        sigma=retention['error'][e, :, r]\n",
    "                    )\n",
    "                    popts.append(popt)\n",
    "                    pcovs.append(pcov)\n",
    "                except Exception as ee:\n",
    "                    print ee\n",
    "                else:\n",
    "                    ax[i].plot(xs, gaussian(xs, *popt), fmt_map[r][0]+'--', alpha=0.6)\n",
    "                    print(popt)\n",
    "                    fit_data = \"{}\\na: {:.3f}\\nx0: {:.3f}\\ns: {:.3f}\\nb: {:.3f}\"\n",
    "                    start = np.min(retention['ivar'][e, :, 0])\n",
    "                    stop = np.max(retention['ivar'][e, :, 0])\n",
    "                    dx = (stop-start)/10\n",
    "                    ax[i].text(start+dx+r*5*dx, 0.1, fit_data.format(roi_map[r],*popt), fontsize=12)\n",
    "            else:\n",
    "                ax[i].plot(retention['ivar'][e, :, 0], retention[yvals][e, :, r], **marker_styles[r])\n",
    "                \n",
    "        \n",
    "    ax[i].set_ylim(0., 1)\n",
    "    ax[i].set_xlabel(xlab)\n",
    "    ax[i].set_ylabel(yvals)\n",
    "\n",
    "fmts = ['pdf', 'png']\n",
    "fn = os.path.join(dp, q.experiments[0]['source_path'], 'loading_scan.{}')\n",
    "for fmt in fmts:\n",
    "    fig.savefig(fn.format(fmt), dpi=200, format=fmt)"
   ]
  },
  {
   "cell_type": "code",
   "execution_count": 61,
   "metadata": {},
   "outputs": [
    {
     "name": "stdout",
     "output_type": "stream",
     "text": [
      "cs: 74.434 (0.368)\n",
      "rb: 70.919 (0.222)\n"
     ]
    }
   ],
   "source": [
    "for r in range(2):\n",
    "    print('{}: {:.3f} ({:.3f})'.format(['cs','rb'][r], popts[r][1], np.sqrt(np.diagonal(np.abs(pcovs[r])))[1]))"
   ]
  },
  {
   "cell_type": "code",
   "execution_count": 21,
   "metadata": {
    "scrolled": false
   },
   "outputs": [
    {
     "data": {
      "application/vnd.jupyter.widget-view+json": {
       "model_id": "006ecd9782604da4bcae6081e9ac696f",
       "version_major": 2,
       "version_minor": 0
      },
      "text/html": [
       "<p>Failed to display Jupyter Widget of type <code>FigureCanvasNbAgg</code>.</p>\n",
       "<p>\n",
       "  If you're reading this message in Jupyter Notebook or JupyterLab, it may mean\n",
       "  that the widgets JavaScript is still loading. If this message persists, it\n",
       "  likely means that the widgets JavaScript library is either not installed or\n",
       "  not enabled. See the <a href=\"https://ipywidgets.readthedocs.io/en/stable/user_install.html\">Jupyter\n",
       "  Widgets Documentation</a> for setup instructions.\n",
       "</p>\n",
       "<p>\n",
       "  If you're reading this message in another notebook frontend (for example, a static\n",
       "  rendering on GitHub or <a href=\"https://nbviewer.jupyter.org/\">NBViewer</a>),\n",
       "  it may mean that your frontend doesn't currently support widgets.\n",
       "</p>\n"
      ],
      "text/plain": [
       "FigureCanvasNbAgg()"
      ]
     },
     "metadata": {},
     "output_type": "display_data"
    },
    {
     "name": "stdout",
     "output_type": "stream",
     "text": [
      "[ -2.29179996e+02  -9.79000579e+07   1.00000000e-01   4.28045862e-01]\n",
      "[ -1.91646224e+02  -9.55487464e+07   1.00000000e-01   3.84601785e-01]\n"
     ]
    }
   ],
   "source": [
    "# plotting\n",
    "fig, ax = plt.subplots(nrows=2, figsize=(5,8))\n",
    "plt.subplots_adjust(wspace=0.3)\n",
    "for i, yvals in enumerate(['retention', 'loading']):\n",
    "    for e in range(len(retention['ivar'])):\n",
    "        for r in range(2):            \n",
    "            if yvals=='retention':\n",
    "                try:\n",
    "                    ax[i].errorbar(retention['ivar'][e, :, r], retention[yvals][e, :, r],\n",
    "                        yerr=retention['error'][e,:,r],\n",
    "                        **marker_styles[r]\n",
    "                    )\n",
    "                except Exception as ee:\n",
    "                    print(ee)\n",
    "                    ax[i].plot(retention['ivar'][e, :, 0], retention[yvals][e, :, r], **marker_styles[r])\n",
    "                # fitting\n",
    "                xs = np.linspace(min(retention['ivar'][e, :, 0]), max(retention['ivar'][e, :, 0]),100)\n",
    "                guess = [0.3, retention['ivar'][e, np.argmax(retention[yvals][e, :, r]), 0], 0.1, 0.6]\n",
    "                try:\n",
    "                    popt, pcov = optimize.curve_fit(\n",
    "                        gaussian,\n",
    "                        retention['ivar'][e, :, 0],\n",
    "                        retention[yvals][e, :, r],\n",
    "                        p0=guess,\n",
    "                        sigma=retention['error'][e, :, r]\n",
    "                    )\n",
    "                except Exception as ee:\n",
    "                    print ee\n",
    "                else:\n",
    "                    ax[i].plot(xs, gaussian(xs, *popt), fmt_map[r][0]+'--', alpha=0.6)\n",
    "                    print(popt)\n",
    "                    fit_data = \"{}\\na: {:.3f}\\nx0: {:.3f}\\ns: {:.3f}\\nb: {:.3f}\"\n",
    "                    start = np.min(retention['ivar'][e, :, 0])\n",
    "                    stop = np.max(retention['ivar'][e, :, 0])\n",
    "                    dx = (stop-start)/10\n",
    "                    ax[i].text(start+dx+r*5*dx, 0.5, fit_data.format(roi_map[r],*popt), fontsize=12)\n",
    "            else:\n",
    "                ax[i].plot(retention['ivar'][e, :, 0], retention[yvals][e, :, r], **marker_styles[r])\n",
    "                \n",
    "        \n",
    "#     ax[i].set_ylim(0.6, 1)\n",
    "    ax[i].set_xlabel(xlab)\n",
    "    ax[i].set_ylabel(yvals)\n",
    "\n",
    "fmts = ['pdf', 'png']\n",
    "fn = os.path.join(dp, q.experiments[0]['source_path'], 'loading_scan.{}')\n",
    "for fmt in fmts:\n",
    "    fig.savefig(fn.format(fmt), dpi=200, format=fmt)"
   ]
  },
  {
   "cell_type": "code",
   "execution_count": null,
   "metadata": {},
   "outputs": [],
   "source": []
  }
 ],
 "metadata": {
  "kernelspec": {
   "display_name": "Python 2",
   "language": "python",
   "name": "python2"
  },
  "language_info": {
   "codemirror_mode": {
    "name": "ipython",
    "version": 2
   },
   "file_extension": ".py",
   "mimetype": "text/x-python",
   "name": "python",
   "nbconvert_exporter": "python",
   "pygments_lexer": "ipython2",
   "version": "2.7.6"
  }
 },
 "nbformat": 4,
 "nbformat_minor": 2
}
