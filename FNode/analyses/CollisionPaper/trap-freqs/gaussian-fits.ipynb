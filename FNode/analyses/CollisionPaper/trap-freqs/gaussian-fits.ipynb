{
 "cells": [
  {
   "cell_type": "code",
   "execution_count": 2,
   "metadata": {},
   "outputs": [],
   "source": [
    "%matplotlib ipympl\n",
    "from QDP import qdp\n",
    "import os.path\n",
    "import numpy as np\n",
    "from scipy.stats import poisson\n",
    "import matplotlib.pyplot as plt\n",
    "from scipy import optimize\n",
    "dp = '/home/ebert/jupyter-notebooks/FNode-data'\n",
    "out = '/home/ebert/jupyter-notebooks/FNode/analyses/CollisionPaper/trap-freqs/'\n",
    "exclude = [2]\n",
    "\n",
    "def gaussian(x, a, x0, s, b):\n",
    "    return b + a*np.exp(-0.5*((x-x0)/s)**2)\n",
    "\n",
    "single_only = False\n",
    "\n",
    "ret = 'retention'\n",
    "err = 'error'\n",
    "if single_only:\n",
    "    ret = 'conditional_retention'\n",
    "    err = 'conditional_retention_err'"
   ]
  },
  {
   "cell_type": "code",
   "execution_count": 3,
   "metadata": {
    "scrolled": false
   },
   "outputs": [
    {
     "name": "stdout",
     "output_type": "stream",
     "text": [
      "Command '['git', 'describe', '--always']' returned non-zero exit status 128\n",
      "Warning: Unable to detect commit tag for repo\n",
      "data at: 2018_07_07/2018_07_07_19_58_34_p-heating-radial-freq-scan/results.hdf5\n",
      "name 'fort_exp' is not defined\n",
      "name 'rb_uwave_freq' is not defined\n",
      "ivars: [u'p_heating_freq']\n"
     ]
    },
    {
     "name": "stderr",
     "output_type": "stream",
     "text": [
      "/home/ebert/jupyter-notebooks/FNode/analyses/qdp/QDP/qdp.py:540: VisibleDeprecationWarning: Passing `normed=True` on non-uniform bins has always been broken, and computes neither the probability density function nor the probability mass function. The result is only correct if the bins are uniform, when density=True will produce the same result anyway. The argument will be removed in a future version of numpy.\n",
      "  hist, bin_edges = np.histogram(shot_data, bins=hbins, normed=True)\n"
     ]
    },
    {
     "name": "stdout",
     "output_type": "stream",
     "text": [
      "--------------------\n",
      "--------------------\n",
      "--------------------\n",
      "--------------------\n",
      "Internal work array size computation failed: -5\n",
      "There may be some issue with your guess: `[7.38507555e-18 0.00000000e+00 0.00000000e+00]`\n",
      "--------------------\n",
      "Internal work array size computation failed: -5\n",
      "There may be some issue with your guess: `[7.38507555e-18 0.00000000e+00 0.00000000e+00]`\n",
      "--------------------\n",
      "ivar: 60.0000\tcloading: 0.289\trloading: 0.108\t\tcretention: 0.908 +- 0.030\trretention: 0.856 +- 0.030\n",
      "ivar: 61.3889\tcloading: 0.260\trloading: 0.089\t\tcretention: 0.838 +- 0.031\trretention: 0.832 +- 0.031\n",
      "ivar: 62.7778\tcloading: 0.279\trloading: 0.152\t\tcretention: 0.879 +- 0.027\trretention: 0.889 +- 0.027\n",
      "ivar: 64.1667\tcloading: 0.251\trloading: 0.174\t\tcretention: 0.769 +- 0.035\trretention: 0.788 +- 0.035\n",
      "ivar: 65.5556\tcloading: 0.232\trloading: 0.205\t\tcretention: 0.885 +- 0.035\trretention: 0.780 +- 0.035\n",
      "ivar: 66.9444\tcloading: 0.262\trloading: 0.163\t\tcretention: 0.843 +- 0.038\trretention: 0.727 +- 0.038\n",
      "ivar: 68.3333\tcloading: 0.183\trloading: 0.183\t\tcretention: 0.808 +- 0.042\trretention: 0.566 +- 0.042\n",
      "ivar: 69.7222\tcloading: 0.185\trloading: 0.126\t\tcretention: 0.745 +- 0.043\trretention: 0.458 +- 0.043\n",
      "ivar: 71.1111\tcloading: 0.208\trloading: 0.174\t\tcretention: 0.690 +- 0.042\trretention: 0.412 +- 0.042\n",
      "ivar: 72.5000\tcloading: 0.148\trloading: 0.148\t\tcretention: 0.722 +- 0.043\trretention: 0.505 +- 0.043\n",
      "ivar: 73.8889\tcloading: 0.127\trloading: 0.117\t\tcretention: 0.598 +- 0.043\trretention: 0.553 +- 0.043\n",
      "ivar: 75.2778\tcloading: 0.091\trloading: 0.167\t\tcretention: 0.547 +- 0.037\trretention: 0.753 +- 0.037\n",
      "ivar: 76.6667\tcloading: 0.119\trloading: 0.207\t\tcretention: 0.603 +- 0.036\trretention: 0.762 +- 0.036\n",
      "ivar: 78.0556\tcloading: 0.085\trloading: 0.207\t\tcretention: 0.725 +- 0.029\trretention: 0.866 +- 0.029\n",
      "ivar: 79.4444\tcloading: 0.119\trloading: 0.177\t\tcretention: 0.864 +- 0.025\trretention: 0.908 +- 0.025\n",
      "ivar: 80.8333\tcloading: 0.203\trloading: 0.142\t\tcretention: 0.867 +- 0.020\trretention: 0.940 +- 0.020\n",
      "ivar: 82.2222\tcloading: 0.250\trloading: 0.194\t\tcretention: 0.906 +- 0.024\trretention: 0.909 +- 0.024\n",
      "ivar: 83.6111\tcloading: 0.270\trloading: 0.152\t\tcretention: 0.903 +- 0.022\trretention: 0.929 +- 0.022\n",
      "ivar: 85.0000\tcloading: 0.240\trloading: 0.158\t\tcretention: 0.926 +- 0.023\trretention: 0.918 +- 0.023\n"
     ]
    },
    {
     "name": "stderr",
     "output_type": "stream",
     "text": [
      "/home/ebert/jupyter-notebooks/FNode/analyses/qdp/QDP/qdp.py:131: RuntimeWarning: overflow encountered in double_scalars\n",
      "  errs[r] = (z/n[r].astype('float'))*np.sqrt(ns[r].astype('float')*(1.0-ns[r].astype('float')/n[r].astype('float')))\n",
      "/home/ebert/jupyter-notebooks/FNode/analyses/qdp/QDP/qdp.py:131: RuntimeWarning: invalid value encountered in sqrt\n",
      "  errs[r] = (z/n[r].astype('float'))*np.sqrt(ns[r].astype('float')*(1.0-ns[r].astype('float')/n[r].astype('float')))\n"
     ]
    },
    {
     "data": {
      "application/vnd.jupyter.widget-view+json": {
       "model_id": "1714c4238dee439d884e47721bbf0359",
       "version_major": 2,
       "version_minor": 0
      },
      "text/html": [
       "<p>Failed to display Jupyter Widget of type <code>FigureCanvasNbAgg</code>.</p>\n",
       "<p>\n",
       "  If you're reading this message in Jupyter Notebook or JupyterLab, it may mean\n",
       "  that the widgets JavaScript is still loading. If this message persists, it\n",
       "  likely means that the widgets JavaScript library is either not installed or\n",
       "  not enabled. See the <a href=\"https://ipywidgets.readthedocs.io/en/stable/user_install.html\">Jupyter\n",
       "  Widgets Documentation</a> for setup instructions.\n",
       "</p>\n",
       "<p>\n",
       "  If you're reading this message in another notebook frontend (for example, a static\n",
       "  rendering on GitHub or <a href=\"https://nbviewer.jupyter.org/\">NBViewer</a>),\n",
       "  it may mean that your frontend doesn't currently support widgets.\n",
       "</p>\n"
      ],
      "text/plain": [
       "FigureCanvasNbAgg()"
      ]
     },
     "metadata": {},
     "output_type": "display_data"
    },
    {
     "name": "stdout",
     "output_type": "stream",
     "text": [
      "[-0.32582662 74.43407415  2.84930846  0.88724338]\n",
      "[-0.4748903  70.91853927  3.35641371  0.91164276]\n"
     ]
    }
   ],
   "source": [
    "exp_name = '2018_07_07_19_58_34_p-heating-radial-freq-scan'\n",
    "if exp_name:\n",
    "    exp_date = '_'.join(exp_name.split('_')[:3])\n",
    "    experiment_file = os.path.join(exp_date, exp_name, 'results.hdf5')\n",
    "else:\n",
    "    experiment_file = ''\n",
    "q = qdp.QDP(base_data_path=dp)\n",
    "q.load_data_file(experiment_file)\n",
    "print \"ivars: {}\".format(q.experiments[0]['variable_list'])\n",
    "cs_cuts = [[23],[3]]\n",
    "rb_cuts = [[23],[3]]\n",
    "q.set_thresholds(cs_cuts, roi=0)\n",
    "q.set_thresholds(rb_cuts, roi=1)\n",
    "q.generate_thresholds(loss=False)\n",
    "retention = q.apply_thresholds(exclude_rois=exclude, ncondition=1)\n",
    "cuts = q.get_thresholds()\n",
    "roi_map = ['cs', 'rb']\n",
    "fmt_map = ['bo', 'rd']\n",
    "marker_styles = [\n",
    "    dict(color='cornflowerblue', marker='o', markeredgecolor='b', linestyle='None'),\n",
    "    dict(color='indianred', marker='d', markeredgecolor='r', linestyle='None')\n",
    "]\n",
    "entries = np.product(retention[ret].shape[:-1])\n",
    "tbl_str = \"ivar: {0:.4f}\\tcloading: {1:.3f}\\trloading: {2:.3f}\\t\\tcretention: {3:.3f} +- {4:.3f}\\trretention: {5:.3f} +- {6:.3f}\"\n",
    "for i in range(entries):\n",
    "    print(tbl_str.format(\n",
    "        retention['ivar'].reshape((entries,-1))[i][0],\n",
    "        retention['loading'].reshape((entries,-1))[i][0], retention['loading'].reshape((entries,-1))[i][1],\n",
    "        retention[ret].reshape((entries,-1))[i][0], retention[err].reshape((entries,-1))[i][0],\n",
    "        retention[ret].reshape((entries,-1))[i][1], retention[err].reshape((entries,-1))[i][1]\n",
    "    ))\n",
    "q.save_experiment_data()\n",
    "xlab = q.experiments[0]['variable_desc'][q.experiments[0]['variable_list'][0]]['description']\n",
    "\n",
    "# plotting\n",
    "fig, ax = plt.subplots(nrows=2, figsize=(5,8))\n",
    "plt.subplots_adjust(wspace=0.3)\n",
    "popts = []\n",
    "pcovs = []\n",
    "for i, yvals in enumerate([ret, 'loading']):\n",
    "    for e in range(len(retention['ivar'])):\n",
    "        for r in range(2):            \n",
    "            if yvals==ret:\n",
    "                try:\n",
    "                    ax[i].errorbar(retention['ivar'][e, :, r], retention[yvals][e, :, r],\n",
    "                        yerr=retention[err][e,:,r],\n",
    "                        **marker_styles[r]\n",
    "                    )\n",
    "                except Exception as ee:\n",
    "                    print(ee)\n",
    "                    ax[i].plot(retention['ivar'][e, :, 0], retention[yvals][e, :, r], **marker_styles[r])\n",
    "                # fitting\n",
    "                xs = np.linspace(min(retention['ivar'][e, :, 0]), max(retention['ivar'][e, :, 0]),100)\n",
    "                guess = [-0.4, retention['ivar'][e, np.argmin(retention[yvals][e, :, r]), 0], 5, 0.8]\n",
    "                try:\n",
    "                    popt, pcov = optimize.curve_fit(\n",
    "                        gaussian,\n",
    "                        retention['ivar'][e, :, 0],\n",
    "                        retention[yvals][e, :, r],\n",
    "                        p0=guess,\n",
    "                        sigma=retention[err][e, :, r]\n",
    "                    )\n",
    "                    popts.append(popt)\n",
    "                    pcovs.append(pcov)\n",
    "                except Exception as ee:\n",
    "                    print ee\n",
    "                else:\n",
    "                    ax[i].plot(xs, gaussian(xs, *popt), fmt_map[r][0]+'--', alpha=0.6)\n",
    "                    print(popt)\n",
    "                    fit_data = \"{}\\na: {:.3f}\\nx0: {:.3f}\\ns: {:.3f}\\nb: {:.3f}\"\n",
    "                    start = np.min(retention['ivar'][e, :, 0])\n",
    "                    stop = np.max(retention['ivar'][e, :, 0])\n",
    "                    dx = (stop-start)/10\n",
    "                    ax[i].text(start+dx+r*5*dx, 0.1, fit_data.format(roi_map[r],*popt), fontsize=12)\n",
    "            else:\n",
    "                ax[i].plot(retention['ivar'][e, :, 0], retention[yvals][e, :, r], **marker_styles[r])\n",
    "                \n",
    "        \n",
    "    ax[i].set_ylim(0., 1)\n",
    "    ax[i].set_xlabel(xlab)\n",
    "    ax[i].set_ylabel(yvals)\n",
    "\n",
    "fmts = ['pdf', 'png', 'eps']\n",
    "fn = os.path.join(out, 'radial_fit.{}')\n",
    "for fmt in fmts:\n",
    "    fig.savefig(fn.format(fmt), dpi=200, format=fmt)"
   ]
  },
  {
   "cell_type": "code",
   "execution_count": 4,
   "metadata": {},
   "outputs": [
    {
     "data": {
      "text/plain": [
       "6"
      ]
     },
     "execution_count": 4,
     "metadata": {},
     "output_type": "execute_result"
    }
   ],
   "source": [
    "q.experiments[0]['iterations'][0]['variables']['fort_drop_us']"
   ]
  },
  {
   "cell_type": "code",
   "execution_count": 5,
   "metadata": {},
   "outputs": [
    {
     "ename": "NameError",
     "evalue": "name 'qax' is not defined",
     "output_type": "error",
     "traceback": [
      "\u001b[0;31m\u001b[0m",
      "\u001b[0;31mNameError\u001b[0mTraceback (most recent call last)",
      "\u001b[0;32m<ipython-input-5-062653ec558b>\u001b[0m in \u001b[0;36m<module>\u001b[0;34m()\u001b[0m\n\u001b[0;32m----> 1\u001b[0;31m \u001b[0mqax\u001b[0m\u001b[0;34m.\u001b[0m\u001b[0mexperiments\u001b[0m\u001b[0;34m[\u001b[0m\u001b[0;36m0\u001b[0m\u001b[0;34m]\u001b[0m\u001b[0;34m[\u001b[0m\u001b[0;34m'iterations'\u001b[0m\u001b[0;34m]\u001b[0m\u001b[0;34m[\u001b[0m\u001b[0;36m0\u001b[0m\u001b[0;34m]\u001b[0m\u001b[0;34m[\u001b[0m\u001b[0;34m'variables'\u001b[0m\u001b[0;34m]\u001b[0m\u001b[0;34m[\u001b[0m\u001b[0;34m'p_heating_duration'\u001b[0m\u001b[0;34m]\u001b[0m\u001b[0;34m\u001b[0m\u001b[0m\n\u001b[0m",
      "\u001b[0;31mNameError\u001b[0m: name 'qax' is not defined"
     ]
    }
   ],
   "source": [
    "qax.experiments[0]['iterations'][0]['variables']['p_heating_duration']"
   ]
  },
  {
   "cell_type": "code",
   "execution_count": null,
   "metadata": {},
   "outputs": [],
   "source": [
    "for k in q.experiments[0]['iterations'][0]['variables'].keys():\n",
    "    if 'heat' in k:\n",
    "        print k"
   ]
  },
  {
   "cell_type": "code",
   "execution_count": 6,
   "metadata": {
    "scrolled": false
   },
   "outputs": [
    {
     "name": "stdout",
     "output_type": "stream",
     "text": [
      "Command '['git', 'describe', '--always']' returned non-zero exit status 128\n",
      "Warning: Unable to detect commit tag for repo\n",
      "data at: 2018_07_07/2018_07_07_18_40_05_p-heating-axial-freq-scan/results.hdf5\n",
      "name 'fort_exp' is not defined\n",
      "name 'rb_uwave_freq' is not defined\n",
      "ivars: [u'p_heating_freq']\n",
      "--------------------\n",
      "--------------------\n",
      "--------------------\n",
      "--------------------\n",
      "Internal work array size computation failed: -5\n",
      "There may be some issue with your guess: `[8.79965409e-18 0.00000000e+00 0.00000000e+00]`\n",
      "--------------------\n",
      "Internal work array size computation failed: -5\n",
      "There may be some issue with your guess: `[8.79965409e-18 0.00000000e+00 0.00000000e+00]`\n",
      "--------------------\n",
      "ivar: 5.5000\tcloading: 0.202\trloading: 0.131\t\tcretention: 0.778 +- 0.029\trretention: 0.869 +- 0.029\n",
      "ivar: 5.6500\tcloading: 0.220\trloading: 0.127\t\tcretention: 0.789 +- 0.031\trretention: 0.842 +- 0.031\n",
      "ivar: 5.8000\tcloading: 0.137\trloading: 0.173\t\tcretention: 0.718 +- 0.028\trretention: 0.879 +- 0.028\n",
      "ivar: 5.9500\tcloading: 0.186\trloading: 0.171\t\tcretention: 0.761 +- 0.020\trretention: 0.940 +- 0.020\n",
      "ivar: 6.1000\tcloading: 0.171\trloading: 0.115\t\tcretention: 0.769 +- 0.032\trretention: 0.828 +- 0.032\n",
      "ivar: 6.2500\tcloading: 0.243\trloading: 0.140\t\tcretention: 0.821 +- 0.034\trretention: 0.800 +- 0.034\n",
      "ivar: 6.4000\tcloading: 0.200\trloading: 0.189\t\tcretention: 0.792 +- 0.025\trretention: 0.900 +- 0.025\n",
      "ivar: 6.5500\tcloading: 0.187\trloading: 0.160\t\tcretention: 0.754 +- 0.026\trretention: 0.891 +- 0.026\n",
      "ivar: 6.7000\tcloading: 0.143\trloading: 0.176\t\tcretention: 0.725 +- 0.032\trretention: 0.828 +- 0.032\n",
      "ivar: 6.8500\tcloading: 0.190\trloading: 0.114\t\tcretention: 0.783 +- 0.038\trretention: 0.710 +- 0.038\n",
      "ivar: 7.0000\tcloading: 0.174\trloading: 0.121\t\tcretention: 0.812 +- 0.040\trretention: 0.660 +- 0.040\n",
      "ivar: 7.1500\tcloading: 0.174\trloading: 0.108\t\tcretention: 0.752 +- 0.042\trretention: 0.530 +- 0.042\n",
      "ivar: 7.3000\tcloading: 0.108\trloading: 0.137\t\tcretention: 0.608 +- 0.040\trretention: 0.670 +- 0.040\n",
      "ivar: 7.4500\tcloading: 0.138\trloading: 0.156\t\tcretention: 0.648 +- 0.037\trretention: 0.740 +- 0.037\n",
      "ivar: 7.6000\tcloading: 0.127\trloading: 0.141\t\tcretention: 0.667 +- 0.030\trretention: 0.850 +- 0.030\n",
      "ivar: 7.7500\tcloading: 0.111\trloading: 0.135\t\tcretention: 0.683 +- 0.027\trretention: 0.880 +- 0.027\n",
      "ivar: 7.9000\tcloading: 0.165\trloading: 0.130\t\tcretention: 0.744 +- 0.024\trretention: 0.916 +- 0.024\n",
      "ivar: 8.0500\tcloading: 0.174\trloading: 0.132\t\tcretention: 0.822 +- 0.028\trretention: 0.878 +- 0.028\n",
      "ivar: 8.2000\tcloading: 0.259\trloading: 0.229\t\tcretention: 0.858 +- 0.032\trretention: 0.830 +- 0.032\n",
      "ivar: 8.3500\tcloading: 0.134\trloading: 0.142\t\tcretention: 0.804 +- 0.031\trretention: 0.847 +- 0.031\n",
      "ivar: 8.5000\tcloading: 0.201\trloading: 0.127\t\tcretention: 0.816 +- 0.026\trretention: 0.890 +- 0.026\n"
     ]
    },
    {
     "data": {
      "application/vnd.jupyter.widget-view+json": {
       "model_id": "a95afef2b6924144871499e8c33eab7b",
       "version_major": 2,
       "version_minor": 0
      },
      "text/html": [
       "<p>Failed to display Jupyter Widget of type <code>FigureCanvasNbAgg</code>.</p>\n",
       "<p>\n",
       "  If you're reading this message in Jupyter Notebook or JupyterLab, it may mean\n",
       "  that the widgets JavaScript is still loading. If this message persists, it\n",
       "  likely means that the widgets JavaScript library is either not installed or\n",
       "  not enabled. See the <a href=\"https://ipywidgets.readthedocs.io/en/stable/user_install.html\">Jupyter\n",
       "  Widgets Documentation</a> for setup instructions.\n",
       "</p>\n",
       "<p>\n",
       "  If you're reading this message in another notebook frontend (for example, a static\n",
       "  rendering on GitHub or <a href=\"https://nbviewer.jupyter.org/\">NBViewer</a>),\n",
       "  it may mean that your frontend doesn't currently support widgets.\n",
       "</p>\n"
      ],
      "text/plain": [
       "FigureCanvasNbAgg()"
      ]
     },
     "metadata": {},
     "output_type": "display_data"
    },
    {
     "name": "stdout",
     "output_type": "stream",
     "text": [
      "[-0.1577654   7.47716644  0.2278128   0.78293377]\n",
      "[-0.31411111  7.13514443  0.22505478  0.8813191 ]\n"
     ]
    }
   ],
   "source": [
    "exp_name = '2018_07_07_18_40_05_p-heating-axial-freq-scan'\n",
    "if exp_name:\n",
    "    exp_date = '_'.join(exp_name.split('_')[:3])\n",
    "    experiment_file = os.path.join(exp_date, exp_name, 'results.hdf5')\n",
    "else:\n",
    "    experiment_file = ''\n",
    "qax = qdp.QDP(base_data_path=dp)\n",
    "qax.load_data_file(experiment_file)\n",
    "print \"ivars: {}\".format(q.experiments[0]['variable_list'])\n",
    "cs_cuts = [[23],[3]]\n",
    "rb_cuts = [[23],[3]]\n",
    "qax.set_thresholds(cs_cuts, roi=0)\n",
    "qax.set_thresholds(rb_cuts, roi=1)\n",
    "qax.generate_thresholds(loss=False)\n",
    "retention_ax = qax.apply_thresholds(exclude_rois=exclude, ncondition=1)\n",
    "cuts = qax.get_thresholds()\n",
    "entries = np.product(retention_ax[ret].shape[:-1])\n",
    "tbl_str = \"ivar: {0:.4f}\\tcloading: {1:.3f}\\trloading: {2:.3f}\\t\\tcretention: {3:.3f} +- {4:.3f}\\trretention: {5:.3f} +- {6:.3f}\"\n",
    "for i in range(entries):\n",
    "    print(tbl_str.format(\n",
    "        retention_ax['ivar'].reshape((entries,-1))[i][0],\n",
    "        retention_ax['loading'].reshape((entries,-1))[i][0], retention_ax['loading'].reshape((entries,-1))[i][1],\n",
    "        retention_ax[ret].reshape((entries,-1))[i][0], retention_ax[err].reshape((entries,-1))[i][0],\n",
    "        retention_ax[ret].reshape((entries,-1))[i][1], retention_ax[err].reshape((entries,-1))[i][1]\n",
    "    ))\n",
    "qax.save_experiment_data()\n",
    "xlab = qax.experiments[0]['variable_desc'][qax.experiments[0]['variable_list'][0]]['description']\n",
    "\n",
    "# plotting\n",
    "fig, ax = plt.subplots(nrows=2, figsize=(5,8))\n",
    "plt.subplots_adjust(wspace=0.3)\n",
    "popts_ax = []\n",
    "pcovs_ax = []\n",
    "for i, yvals in enumerate([ret, 'loading']):\n",
    "    for e in range(len(retention_ax['ivar'])):\n",
    "        for r in range(2):            \n",
    "            if yvals==ret:\n",
    "                try:\n",
    "                    ax[i].errorbar(retention_ax['ivar'][e, :, r], retention_ax[yvals][e, :, r],\n",
    "                        yerr=retention_ax[err][e,:,r],\n",
    "                        **marker_styles[r]\n",
    "                    )\n",
    "                except Exception as ee:\n",
    "                    print(ee)\n",
    "                    ax[i].plot(retention_ax['ivar'][e, :, 0], retention_ax[yvals][e, :, r], **marker_styles[r])\n",
    "                # fitting\n",
    "                xs = np.linspace(min(retention_ax['ivar'][e, :, 0]), max(retention_ax['ivar'][e, :, 0]),100)\n",
    "                guess = [-0.4, retention_ax['ivar'][e, np.argmin(retention_ax[yvals][e, :, r]), 0], 0.21, 0.8]\n",
    "                try:\n",
    "                    popt_ax, pcov_ax = optimize.curve_fit(\n",
    "                        gaussian,\n",
    "                        retention_ax['ivar'][e, :, 0],\n",
    "                        retention_ax[yvals][e, :, r],\n",
    "                        p0=guess,\n",
    "                        sigma=retention_ax[err][e, :, r]\n",
    "                    )\n",
    "                    popts_ax.append(popt_ax)\n",
    "                    pcovs_ax.append(pcov_ax)\n",
    "                except Exception as ee:\n",
    "                    print ee\n",
    "                else:\n",
    "                    ax[i].plot(xs, gaussian(xs, *popt_ax), fmt_map[r][0]+'--', alpha=0.6)\n",
    "                    print(popt_ax)\n",
    "                    fit_data = \"{}\\na: {:.3f}\\nx0: {:.3f}\\ns: {:.3f}\\nb: {:.3f}\"\n",
    "                    start = np.min(retention_ax['ivar'][e, :, 0])\n",
    "                    stop = np.max(retention_ax['ivar'][e, :, 0])\n",
    "                    dx = (stop-start)/10\n",
    "                    ax[i].text(start+dx+r*5*dx, 0.1, fit_data.format(roi_map[r],*popt_ax), fontsize=12)\n",
    "            else:\n",
    "                ax[i].plot(retention_ax['ivar'][e, :, 0], retention_ax[yvals][e, :, r], **marker_styles[r])\n",
    "                \n",
    "        \n",
    "    ax[i].set_ylim(0., 1)\n",
    "    ax[i].set_xlabel(xlab)\n",
    "    ax[i].set_ylabel(yvals)\n",
    "\n",
    "fmts = ['pdf', 'png', 'eps']\n",
    "fn = os.path.join(out, 'axial_fit.{}')\n",
    "for fmt in fmts:\n",
    "    fig.savefig(fn.format(fmt), dpi=200, format=fmt)"
   ]
  },
  {
   "cell_type": "code",
   "execution_count": 7,
   "metadata": {},
   "outputs": [
    {
     "data": {
      "application/vnd.jupyter.widget-view+json": {
       "model_id": "4867c2f4fc734eac9815f0bd65204226",
       "version_major": 2,
       "version_minor": 0
      },
      "text/html": [
       "<p>Failed to display Jupyter Widget of type <code>FigureCanvasNbAgg</code>.</p>\n",
       "<p>\n",
       "  If you're reading this message in Jupyter Notebook or JupyterLab, it may mean\n",
       "  that the widgets JavaScript is still loading. If this message persists, it\n",
       "  likely means that the widgets JavaScript library is either not installed or\n",
       "  not enabled. See the <a href=\"https://ipywidgets.readthedocs.io/en/stable/user_install.html\">Jupyter\n",
       "  Widgets Documentation</a> for setup instructions.\n",
       "</p>\n",
       "<p>\n",
       "  If you're reading this message in another notebook frontend (for example, a static\n",
       "  rendering on GitHub or <a href=\"https://nbviewer.jupyter.org/\">NBViewer</a>),\n",
       "  it may mean that your frontend doesn't currently support widgets.\n",
       "</p>\n"
      ],
      "text/plain": [
       "FigureCanvasNbAgg()"
      ]
     },
     "metadata": {},
     "output_type": "display_data"
    },
    {
     "name": "stdout",
     "output_type": "stream",
     "text": [
      "7.477166444703718\n",
      "0.056291597554227975\n",
      "7.135144429627263\n",
      "0.03083129023743823\n",
      "74.43407414548292\n",
      "0.3680805844227694\n",
      "70.91853926632811\n",
      "0.22198689930038162\n"
     ]
    }
   ],
   "source": [
    "fig, ax = plt.subplots(ncols=2, sharey=True, figsize=(2*3.375,3))\n",
    "marker_styles = [\n",
    "    dict(color='cornflowerblue', marker='o', markeredgecolor='b', linestyle='None', markersize=5),\n",
    "    dict(color='indianred', marker='d', markeredgecolor='r', linestyle='None', markersize=5)\n",
    "]\n",
    "\n",
    "i=0\n",
    "ax[i].set_ylim(0,1)\n",
    "ax[i].set_xlim(5.4,8.6)\n",
    "ax[i].set_xlabel(r'$\\Omega/2\\pi$ (kHz)', fontsize=14)\n",
    "ax[i].set_ylabel('Retention', fontsize=14)\n",
    "ax[i].text(8.2, 0.05, 'a)', fontsize=14)\n",
    "ax[i].grid()\n",
    "for r in range(2):\n",
    "    ax[i].errorbar(retention_ax['ivar'][e, :, r], retention_ax[ret][e, :, r],\n",
    "        yerr=retention_ax[err][e,:,r],\n",
    "        **marker_styles[r]\n",
    "    )\n",
    "    # fitting\n",
    "    xs = np.linspace(min(retention_ax['ivar'][e, :, 0])-1, max(retention_ax['ivar'][e, :, 0])+1,100)\n",
    "    ax[i].plot(xs, gaussian(xs, *popts_ax[r]), fmt_map[r][0]+'--', alpha=0.6)\n",
    "    print(popts_ax[r][1])\n",
    "    print(np.sqrt(np.abs(np.diag(pcovs_ax[r])))[1])\n",
    "\n",
    "i=1\n",
    "ax[i].set_ylim(0,1)\n",
    "ax[i].set_xlim(59,86)\n",
    "ax[i].set_xlabel(r'$\\Omega/2\\pi$ (kHz)', fontsize=14)\n",
    "ax[i].text(82, 0.05, 'b)', fontsize=14)\n",
    "ax[i].grid(which='both')\n",
    "for r in range(2):\n",
    "    ax[i].errorbar(retention['ivar'][e, :, r], retention[ret][e, :, r],\n",
    "        yerr=retention[err][e,:,r],\n",
    "        **marker_styles[r]\n",
    "    )\n",
    "    # fitting\n",
    "    xs = np.linspace(min(retention['ivar'][e, :, 0])-1, max(retention['ivar'][e, :, 0])+1,100)\n",
    "    ax[i].plot(xs, gaussian(xs, *popts[r]), fmt_map[r][0]+'--', alpha=0.6)\n",
    "    print(popts[r][1])\n",
    "    print(np.sqrt(np.abs(np.diag(pcovs[r])))[1])\n",
    "    \n",
    "plt.tight_layout()\n",
    "fmts = ['pdf', 'png', 'eps']\n",
    "fn = os.path.join(out, 'dual_fit.{}')\n",
    "for fmt in fmts:\n",
    "    fig.savefig(fn.format(fmt), dpi=200, format=fmt)"
   ]
  },
  {
   "cell_type": "code",
   "execution_count": 8,
   "metadata": {},
   "outputs": [
    {
     "data": {
      "text/plain": [
       "6"
      ]
     },
     "execution_count": 8,
     "metadata": {},
     "output_type": "execute_result"
    }
   ],
   "source": [
    "qax.experiments[0]['iterations'][0]['variables']['fort_drop_us']"
   ]
  },
  {
   "cell_type": "code",
   "execution_count": 29,
   "metadata": {},
   "outputs": [
    {
     "name": "stdout",
     "output_type": "stream",
     "text": [
      "Est. ODT waist\n",
      "[2.3840288125901794, 2.3803113673026504]\n",
      "[0.04294730523150262, 0.025401118895268488]\n",
      "2.3812747644965473\n",
      "0.024948386058918814\n",
      "\n",
      "(wr_cs/wr_rb)^2\n",
      "1.10160023030796\n",
      "\n",
      "(wa_cs/wa_rb)^2\n",
      "1.0981674313724374\n"
     ]
    }
   ],
   "source": [
    "l = 1.064  # odt wavelength\n",
    "wr = []\n",
    "swr = []\n",
    "wa = []\n",
    "swa = []\n",
    "w0 = []\n",
    "sw0 = []\n",
    "for r in range(2):\n",
    "    wr.append(popts[r][1]/2.)\n",
    "    swr.append(np.sqrt(np.abs(np.diag(pcovs[r])))[1])\n",
    "    wa.append(popts_ax[r][1]/2.)\n",
    "    swa.append(np.sqrt(np.abs(np.diag(pcovs_ax[r])))[1])\n",
    "    \n",
    "    w0.append(l*wr[-1]/wa[-1]/(np.sqrt(2)*np.pi))\n",
    "    sw0.append(l/(np.sqrt(2)*np.pi)*np.sqrt((swr[-1]/wa[-1])**2 + (wr[-1]*swa[-1]/wa[-1]**2)**2))\n",
    "\n",
    "print(\"Est. ODT waist\")\n",
    "print(w0)\n",
    "print(sw0)\n",
    "w0avg = np.dot(np.power(sw0,-2), w0)/np.sum(np.power(sw0,-2))\n",
    "print(w0avg)\n",
    "print(np.sqrt(np.sum(np.power(sw0,2)))/2)\n",
    "# print(wr,swr,wa,swa)\n",
    "\n",
    "print(\"\\n(wr_cs/wr_rb)^2\")\n",
    "print((wr[0]/wr[1])**2)\n",
    "print(\"\\n(wa_cs/wa_rb)^2\")\n",
    "print((wa[0]/wa[1])**2)"
   ]
  },
  {
   "cell_type": "code",
   "execution_count": 10,
   "metadata": {},
   "outputs": [
    {
     "data": {
      "text/plain": [
       "[array([-0.1577654 ,  7.47716644,  0.2278128 ,  0.78293377]),\n",
       " array([-0.31411111,  7.13514443,  0.22505478,  0.8813191 ])]"
      ]
     },
     "execution_count": 10,
     "metadata": {},
     "output_type": "execute_result"
    }
   ],
   "source": [
    "popts_ax"
   ]
  },
  {
   "cell_type": "code",
   "execution_count": 11,
   "metadata": {},
   "outputs": [
    {
     "data": {
      "text/plain": [
       "[array([[ 1.51527740e-03,  1.66298305e-04,  5.13922597e-03,\n",
       "         -1.29642179e-04],\n",
       "        [ 1.66298305e-04,  1.35483317e-01, -3.76239563e-02,\n",
       "         -9.24681162e-05],\n",
       "        [ 5.13922597e-03, -3.76239563e-02,  1.55805240e-01,\n",
       "          3.24213166e-03],\n",
       "        [-1.29642179e-04, -9.24681162e-05,  3.24213166e-03,\n",
       "          2.26652420e-04]]),\n",
       " array([[ 9.03765766e-04, -1.34958382e-04,  2.47604389e-03,\n",
       "         -7.73704741e-05],\n",
       "        [-1.34958382e-04,  4.92781835e-02,  3.81949578e-04,\n",
       "          6.92551050e-05],\n",
       "        [ 2.47604389e-03,  3.81949578e-04,  6.31800725e-02,\n",
       "          1.78331095e-03],\n",
       "        [-7.73704741e-05,  6.92551050e-05,  1.78331095e-03,\n",
       "          1.45211234e-04]])]"
      ]
     },
     "execution_count": 11,
     "metadata": {},
     "output_type": "execute_result"
    }
   ],
   "source": [
    "pcovs"
   ]
  },
  {
   "cell_type": "code",
   "execution_count": 14,
   "metadata": {},
   "outputs": [
    {
     "data": {
      "text/plain": [
       "1.10160023030796"
      ]
     },
     "execution_count": 14,
     "metadata": {},
     "output_type": "execute_result"
    }
   ],
   "source": [
    "(37.21703707274146/35.459269633164055)**2"
   ]
  },
  {
   "cell_type": "code",
   "execution_count": null,
   "metadata": {},
   "outputs": [],
   "source": [
    "(3.738583222351859/"
   ]
  }
 ],
 "metadata": {
  "kernelspec": {
   "display_name": "Python 2",
   "language": "python",
   "name": "python2"
  },
  "language_info": {
   "codemirror_mode": {
    "name": "ipython",
    "version": 2
   },
   "file_extension": ".py",
   "mimetype": "text/x-python",
   "name": "python",
   "nbconvert_exporter": "python",
   "pygments_lexer": "ipython2",
   "version": "2.7.6"
  }
 },
 "nbformat": 4,
 "nbformat_minor": 2
}
