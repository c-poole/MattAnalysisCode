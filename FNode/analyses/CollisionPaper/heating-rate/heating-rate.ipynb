{
 "cells": [
  {
   "cell_type": "code",
   "execution_count": 1,
   "metadata": {},
   "outputs": [],
   "source": [
    "%matplotlib ipympl\n",
    "from scipy.special import gammaincc, gamma, factorial, erf\n",
    "from scipy.stats import poisson\n",
    "import numpy as np\n",
    "import matplotlib.pyplot as plt\n",
    "import os.path"
   ]
  },
  {
   "cell_type": "code",
   "execution_count": 3,
   "metadata": {},
   "outputs": [
    {
     "data": {
      "application/vnd.jupyter.widget-view+json": {
       "model_id": "e0c6c248ac834ef4b7b75880354fc822",
       "version_major": 2,
       "version_minor": 0
      },
      "text/html": [
       "<p>Failed to display Jupyter Widget of type <code>FigureCanvasNbAgg</code>.</p>\n",
       "<p>\n",
       "  If you're reading this message in Jupyter Notebook or JupyterLab, it may mean\n",
       "  that the widgets JavaScript is still loading. If this message persists, it\n",
       "  likely means that the widgets JavaScript library is either not installed or\n",
       "  not enabled. See the <a href=\"https://ipywidgets.readthedocs.io/en/stable/user_install.html\">Jupyter\n",
       "  Widgets Documentation</a> for setup instructions.\n",
       "</p>\n",
       "<p>\n",
       "  If you're reading this message in another notebook frontend (for example, a static\n",
       "  rendering on GitHub or <a href=\"https://nbviewer.jupyter.org/\">NBViewer</a>),\n",
       "  it may mean that your frontend doesn't currently support widgets.\n",
       "</p>\n"
      ],
      "text/plain": [
       "FigureCanvasNbAgg()"
      ]
     },
     "metadata": {},
     "output_type": "display_data"
    }
   ],
   "source": [
    "fig, ax = plt.subplots(figsize=(2*3.375, 3.5))\n",
    "marker_styles = [\n",
    "    dict(color='cornflowerblue', marker='o', markeredgecolor='b', linestyle='None'),\n",
    "    dict(color='indianred', marker='d', markeredgecolor='r', linestyle='None')\n",
    "]\n",
    "\n",
    "ts = np.array([8.5,250,1000,500,750])/1e3\n",
    "ys = np.array([\n",
    "    [93.8,109.,91.6,162.2,104.5],\n",
    "    [93.5,85.8,84.2,87.6,92.2]\n",
    "])\n",
    "# yerrs = np.array([0.14, 0.78, 1.6, 1.1])*np.power(ys,2)\n",
    "for r in range(2):\n",
    "    ax.plot(ts, ys[r], **marker_styles[r])\n",
    "ax.set_ylim(0,200)\n",
    "ax.set_xlim(0,1.1)\n",
    "ax.set_xlabel('Time (s)', fontsize=14)\n",
    "ax.set_ylabel(r'Temperature ($\\mu$K)', fontsize=14)\n",
    "ax.grid()\n",
    "plt.tight_layout()\n",
    "\n",
    "fmts = ['pdf', 'png', 'eps']\n",
    "out = '/home/ebert/jupyter-notebooks/FNode/analyses/CollisionPaper/heating-rate/'\n",
    "fn = os.path.join(out, 'heating-rate.{}')\n",
    "for fmt in fmts:\n",
    "    fig.savefig(fn.format(fmt), dpi=200, format=fmt)"
   ]
  },
  {
   "cell_type": "code",
   "execution_count": null,
   "metadata": {},
   "outputs": [],
   "source": []
  }
 ],
 "metadata": {
  "kernelspec": {
   "display_name": "Python 2",
   "language": "python",
   "name": "python2"
  },
  "language_info": {
   "codemirror_mode": {
    "name": "ipython",
    "version": 2
   },
   "file_extension": ".py",
   "mimetype": "text/x-python",
   "name": "python",
   "nbconvert_exporter": "python",
   "pygments_lexer": "ipython2",
   "version": "2.7.6"
  }
 },
 "nbformat": 4,
 "nbformat_minor": 2
}
