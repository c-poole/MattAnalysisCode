{
 "cells": [
  {
   "cell_type": "markdown",
   "metadata": {},
   "source": [
    "# Measure Lifetime"
   ]
  },
  {
   "cell_type": "markdown",
   "metadata": {},
   "source": [
    "format\n",
    "Cs retention: [ NoRb, NoRberr, Rb, Rberr]\n",
    "Rb retention: [ NoCs, NoCserr, Cs, Cserr]"
   ]
  },
  {
   "cell_type": "code",
   "execution_count": 73,
   "metadata": {},
   "outputs": [],
   "source": [
    "%matplotlib ipympl\n",
    "import numpy as np\n",
    "import matplotlib.pyplot as plt\n",
    "from matplotlib import ticker\n",
    "from scipy import optimize, integrate\n",
    "import os.path\n",
    "\n",
    "def exp(t, a, tau):\n",
    "    return a*np.exp(-t/tau)\n",
    "\n",
    "def exp2(t, a, tau):\n",
    "    return 1 - a*np.exp(-t/tau)\n",
    "\n",
    "def loss_model(a0, a1, b, y):\n",
    "    model = np.array([\n",
    "        [0,a1,a0,b],\n",
    "        [0,-a1,0,a0],\n",
    "        [0,0,-a0,a1],\n",
    "        [0,0,0,-(a0+a1+b)],\n",
    "    ])\n",
    "    return np.dot(model, y)\n",
    "\n",
    "def loss_wrapper(a0, a1, b):\n",
    "    return lambda t, y: loss_model(a0, a1, b, y)\n",
    "\n",
    "def loss_model_hf(a0, a1, b3, b4, t1, y):\n",
    "    r1 = 1./(2*t1)  # decay to other hf state\n",
    "    model = np.array([\n",
    "        [0,a1,a0,b3,b4],\n",
    "        [0,-a1,0,a0,a0],\n",
    "        [0,0,-a0,a1,a1],\n",
    "        [0,0,0,-(a0+a1+b3+r1),r1],\n",
    "        [0,0,0,r1,-(a0+a1+b4+r1)],\n",
    "    ])\n",
    "    return np.dot(model, y)\n",
    "\n",
    "def loss_wrapper_hf(a0, a1, b3, b4, t1):\n",
    "    return lambda t, y: loss_model_hf(a0, a1, b3, b4, t1, y)"
   ]
  },
  {
   "cell_type": "code",
   "execution_count": 23,
   "metadata": {},
   "outputs": [],
   "source": [
    "itr_gap_ms = []\n",
    "cs_data = []\n",
    "rb_data = []\n",
    "corr_ret_data = []\n",
    "corr_ret_err = []"
   ]
  },
  {
   "cell_type": "code",
   "execution_count": 24,
   "metadata": {},
   "outputs": [],
   "source": [
    "# gap = 8.5 ms\n",
    "# dataset = '2018_07_19_20_35_41_csrb-collisions-31-hd'\n",
    "itr_gap_ms.append(8.5)\n",
    "cs_data.append([0.953987730061,0.0116037783345,0.91156462585,0.0234179067987])\n",
    "rb_data.append([0.930555555556,0.0113233423732,0.91156462585,0.0234179067987])\n",
    "corr_ret_data.append([[0.0136054421769,0.0748299319728],[0.0748299319728,0.836734693878]])\n",
    "corr_ret_err.append([[0.00955483071186,0.0217015020725],[0.0217015020725,0.0304847174759]])"
   ]
  },
  {
   "cell_type": "code",
   "execution_count": 25,
   "metadata": {},
   "outputs": [],
   "source": [
    "# gap = 30 ms\n",
    "# dataset = '2018_07_19_18_34_50_csrb-collisions-41-hd'\n",
    "itr_gap_ms.append(30)\n",
    "cs_data.append([0.938906752412,0.0135808715829,0.924137931034,0.0219885574409])\n",
    "rb_data.append([0.911627906977,0.013687752648,0.937931034483,0.0200372771632])\n",
    "corr_ret_data.append([[0.0137931034483,0.0620689655172],[0.048275862069,0.875862068966]])\n",
    "corr_ret_err.append([[0.00968569999804,0.0200372771632],[0.0178006786408,0.0273833205101]])"
   ]
  },
  {
   "cell_type": "code",
   "execution_count": 26,
   "metadata": {},
   "outputs": [],
   "source": [
    "# gap = 60 ms\n",
    "# dataset = '2018_07_19_18_34_50_csrb-collisions-41-hd'\n",
    "itr_gap_ms.append(60)\n",
    "cs_data.append([0.932467532468,0.0127891830676,0.912751677852,0.0231186104802])\n",
    "rb_data.append([0.903125,0.0165350229036,0.845637583893,0.0295985058349])\n",
    "corr_ret_data.append([[0.0268456375839,0.0604026845638],[0.127516778523,0.785234899329]])\n",
    "corr_ret_err.append([[0.0132414210106,0.0195166767892],[0.0273255601904,0.0336425198568]])"
   ]
  },
  {
   "cell_type": "code",
   "execution_count": 27,
   "metadata": {},
   "outputs": [],
   "source": [
    "# gap = 120 ms\n",
    "# dataset = '2018_07_19_18_34_50_csrb-collisions-41-hd'\n",
    "itr_gap_ms.append(120)\n",
    "cs_data.append([0.943573667712,0.0129191361689,0.900662251656,0.0243416303385])\n",
    "rb_data.append([0.91,0.0202361063448,0.880794701987,0.0263691816581])\n",
    "corr_ret_data.append([[0.0264900662252,0.0728476821192],[0.0927152317881,0.807947019868]])\n",
    "corr_ret_err.append([[0.0130684247688,0.0211492484686],[0.0236025475085,0.0320563073475]])"
   ]
  },
  {
   "cell_type": "code",
   "execution_count": 28,
   "metadata": {},
   "outputs": [],
   "source": [
    "# gap = 300 ms\n",
    "# dataset = '2018_07_19_18_34_50_csrb-collisions-41-hd'\n",
    "itr_gap_ms.append(300)\n",
    "cs_data.append([0.964412811388,0.0110516001996,0.93288590604,0.0204987791995])\n",
    "rb_data.append([0.907172995781,0.0133288614474,0.892617449664,0.0253633379945])\n",
    "corr_ret_data.append([[0.0201342281879,0.0469798657718],[0.0872483221477,0.845637583893]])\n",
    "corr_ret_err.append([[0.0115068818169,0.0173345985998],[0.0231186104802,0.0295985058349]])"
   ]
  },
  {
   "cell_type": "code",
   "execution_count": 29,
   "metadata": {},
   "outputs": [],
   "source": [
    "# gap = 600 ms\n",
    "# dataset = '2018_07_19_18_34_50_csrb-collisions-41-hd'\n",
    "itr_gap_ms.append(600)\n",
    "cs_data.append([0.904255319149,0.0151743096289,0.843137254902,0.0294010831131])\n",
    "rb_data.append([0.920177383592,0.012761757443,0.849673202614,0.0288933865574])\n",
    "corr_ret_data.append([[0.0718954248366,0.0849673202614],[0.078431372549,0.764705882353]])\n",
    "corr_ret_err.append([[0.0208835039387,0.0225423167423],[0.0217351695888,0.0342931228312]])"
   ]
  },
  {
   "cell_type": "code",
   "execution_count": 30,
   "metadata": {},
   "outputs": [],
   "source": [
    "# gap = 1200 ms\n",
    "# dataset = '2018_07_19_18_34_50_csrb-collisions-41-hd'\n",
    "itr_gap_ms.append(1200)\n",
    "cs_data.append([0.860788863109,0.0166742640558,0.748299319728,0.0357949040403])\n",
    "rb_data.append([0.845291479821,0.0171235155465,0.843537414966,0.0299639289403])\n",
    "corr_ret_data.append([[0.102040816327,0.149659863946],[0.0544217687075,0.69387755102]])\n",
    "corr_ret_err.append([[0.0249664384425,0.0294232298746],[0.0187101121842,0.0380128420128]])"
   ]
  },
  {
   "cell_type": "code",
   "execution_count": 31,
   "metadata": {},
   "outputs": [],
   "source": [
    "cs_data = np.array(cs_data)\n",
    "cs_only = cs_data[:,0]\n",
    "cs_only_err = cs_data[:,1]\n",
    "cs_dual = cs_data[:,2]\n",
    "cs_dual_err = cs_data[:,3]\n",
    "\n",
    "rb_data = np.array(rb_data)\n",
    "rb_only = rb_data[:,0]\n",
    "rb_only_err = rb_data[:,1]\n",
    "rb_dual = rb_data[:,2]\n",
    "rb_dual_err = rb_data[:,3]"
   ]
  },
  {
   "cell_type": "markdown",
   "metadata": {},
   "source": [
    "# Model System"
   ]
  },
  {
   "cell_type": "code",
   "execution_count": 32,
   "metadata": {},
   "outputs": [
    {
     "data": {
      "application/vnd.jupyter.widget-view+json": {
       "model_id": "",
       "version_major": 2,
       "version_minor": 0
      },
      "text/html": [
       "<p>Failed to display Jupyter Widget of type <code>FigureCanvasNbAgg</code>.</p>\n",
       "<p>\n",
       "  If you're reading this message in Jupyter Notebook or JupyterLab, it may mean\n",
       "  that the widgets JavaScript is still loading. If this message persists, it\n",
       "  likely means that the widgets JavaScript library is either not installed or\n",
       "  not enabled. See the <a href=\"https://ipywidgets.readthedocs.io/en/stable/user_install.html\">Jupyter\n",
       "  Widgets Documentation</a> for setup instructions.\n",
       "</p>\n",
       "<p>\n",
       "  If you're reading this message in another notebook frontend (for example, a static\n",
       "  rendering on GitHub or <a href=\"https://nbviewer.jupyter.org/\">NBViewer</a>),\n",
       "  it may mean that your frontend doesn't currently support widgets.\n",
       "</p>\n"
      ],
      "text/plain": [
       "FigureCanvasNbAgg()"
      ]
     },
     "metadata": {},
     "output_type": "display_data"
    }
   ],
   "source": [
    "corr_ret_data = np.array(corr_ret_data)\n",
    "corr_ret_err = np.array(corr_ret_err)\n",
    "\n",
    "# reformulate the model so it matches the expacted format for curve_fit\n",
    "def flat_loss_model(t, a0, a1, b, p00, p01, p10):\n",
    "    ts = t[0:len(t)/4]  # cut out the extra x values\n",
    "    res = integrate.solve_ivp(\n",
    "        loss_wrapper(a0, a1, b),\n",
    "        (0,max(ts)),\n",
    "        [p00, p01, p10, 1-p00-p01-p10],\n",
    "        t_eval=ts\n",
    "    )['y'].transpose()\n",
    "    return res.flatten()\n",
    "\n",
    "\n",
    "# do that simultaneous fit\n",
    "popt, pcov = optimize.curve_fit(\n",
    "    lambda t, b, p00, p01, p10: flat_loss_model(t, 1./11.3, 1./13.5, b, p00, p01, p10),\n",
    "    np.tile(itr_gap_ms, 4)/1e3,\n",
    "    corr_ret_data.flatten(),\n",
    "    p0=[.5, corr_ret_data[0,0,0], corr_ret_data[0,0,1], corr_ret_data[0,1,0]],\n",
    "    bounds=[(0,0,0,0), (np.inf, 1, 1, 1)],\n",
    "    sigma=corr_ret_err.flatten()\n",
    ")\n",
    "\n",
    "# calculate p11\n",
    "init = popt[1:4].tolist()\n",
    "init.append(1-np.sum(init))\n",
    "\n",
    "# numerically solve ode and plot\n",
    "res = integrate.solve_ivp(\n",
    "    loss_wrapper(1./11.3, 1./13.5, popt[0]),\n",
    "    (0,10),\n",
    "    init,\n",
    "    t_eval=np.exp(np.linspace(np.log(0.001), np.log(3), 1000))\n",
    ")\n",
    "fig, ax = plt.subplots()\n",
    "fmts = [['rx', 'yd'],['cs', 'ko']]\n",
    "for i, y in enumerate(res['y']):\n",
    "    ax.plot(res['t'], y, fmts[i/2][i%2][0]+'-', label=['None', 'Cs', 'Rb', 'Cs,Rb'][i])\n",
    "\n",
    "# plot data\n",
    "for i in range(2):\n",
    "    for j in range(2):\n",
    "        ax.errorbar(\n",
    "                np.array(itr_gap_ms)/1e3, corr_ret_data[:,i,j],\n",
    "                yerr=corr_ret_err[:,i,j],\n",
    "                fmt=fmts[i][j]\n",
    "            )\n",
    "# ax.set_xscale(\"log\", nonposx='clip')\n",
    "ax.grid(which='both')\n",
    "ax.set_xlabel('Interaction Time (s)')\n",
    "ax.set_ylabel('Probability')\n",
    "ax.legend(bbox_to_anchor=(0.25, 0.75), loc=1, borderaxespad=0.)\n",
    "ax.set_xlim(0.00,1.5)\n",
    "ax.set_ylim(0,1)\n",
    "\n",
    "# save plot\n",
    "pltfmts = ['pdf', 'png']\n",
    "fn = 'conditional_lifetime_20180708.{}'\n",
    "# for pfmt in pltfmts:\n",
    "#     fig.savefig(fn.format(pfmt), dpi=300, format=pfmt)"
   ]
  },
  {
   "cell_type": "code",
   "execution_count": 33,
   "metadata": {},
   "outputs": [
    {
     "data": {
      "text/plain": [
       "array([ 0.05937357,  0.01600044,  0.05795169,  0.06039106])"
      ]
     },
     "execution_count": 33,
     "metadata": {},
     "output_type": "execute_result"
    }
   ],
   "source": [
    "popt"
   ]
  },
  {
   "cell_type": "code",
   "execution_count": 34,
   "metadata": {},
   "outputs": [
    {
     "data": {
      "text/plain": [
       "array([ 0.02685073,  0.00666246,  0.00896018,  0.0092107 ])"
      ]
     },
     "execution_count": 34,
     "metadata": {},
     "output_type": "execute_result"
    }
   ],
   "source": [
    "np.sqrt(np.diagonal(np.abs(pcov)))"
   ]
  },
  {
   "cell_type": "markdown",
   "metadata": {},
   "source": [
    "## Finite Cs T1"
   ]
  },
  {
   "cell_type": "code",
   "execution_count": 35,
   "metadata": {},
   "outputs": [],
   "source": [
    "# reformulate the model so it matches the expacted format for curve_fit\n",
    "def flat_loss_model_hf(t, a0, a1, b3, b4, p00, p01, p10, t1):\n",
    "    ts = t[0:len(t)/4]  # cut out the extra x values\n",
    "    res = integrate.solve_ivp(\n",
    "        loss_wrapper_hf(a0, a1, b3, b4, t1),\n",
    "        (0,max(ts)),\n",
    "        [p00, p01, p10, 1-p00-p01-p10, 0],\n",
    "        t_eval=ts\n",
    "    )['y'].transpose()\n",
    "    res2 = res[:,:4]\n",
    "    res2[:,-1] += res[:,-1]\n",
    "    return res2.flatten()"
   ]
  },
  {
   "cell_type": "code",
   "execution_count": 52,
   "metadata": {},
   "outputs": [
    {
     "name": "stdout",
     "output_type": "stream",
     "text": [
      "(5, 1000)\n"
     ]
    },
    {
     "data": {
      "application/vnd.jupyter.widget-view+json": {
       "model_id": "",
       "version_major": 2,
       "version_minor": 0
      },
      "text/html": [
       "<p>Failed to display Jupyter Widget of type <code>FigureCanvasNbAgg</code>.</p>\n",
       "<p>\n",
       "  If you're reading this message in Jupyter Notebook or JupyterLab, it may mean\n",
       "  that the widgets JavaScript is still loading. If this message persists, it\n",
       "  likely means that the widgets JavaScript library is either not installed or\n",
       "  not enabled. See the <a href=\"https://ipywidgets.readthedocs.io/en/stable/user_install.html\">Jupyter\n",
       "  Widgets Documentation</a> for setup instructions.\n",
       "</p>\n",
       "<p>\n",
       "  If you're reading this message in another notebook frontend (for example, a static\n",
       "  rendering on GitHub or <a href=\"https://nbviewer.jupyter.org/\">NBViewer</a>),\n",
       "  it may mean that your frontend doesn't currently support widgets.\n",
       "</p>\n"
      ],
      "text/plain": [
       "FigureCanvasNbAgg()"
      ]
     },
     "metadata": {},
     "output_type": "display_data"
    }
   ],
   "source": [
    "# do that simultaneous fit\n",
    "b4 = 0.85\n",
    "t1 = 1.37\n",
    "popt, pcov = optimize.curve_fit(\n",
    "    lambda t, b3, p00, p01, p10: flat_loss_model_hf(t, 1./11.3, 1./13.5, b3, b4, p00, p01, p10, t1),\n",
    "    np.tile(itr_gap_ms, 4)/1e3,\n",
    "    corr_ret_data.flatten(),\n",
    "    p0=[.1, corr_ret_data[0,0,0], corr_ret_data[0,0,1], corr_ret_data[0,1,0]],\n",
    "    bounds=[(0,0,0,0), (np.inf, 1, 1, 1)],\n",
    "    sigma=corr_ret_err.flatten()\n",
    ")\n",
    "\n",
    "# calculate p11\n",
    "init = popt[1:4].tolist()\n",
    "init.append(1-np.sum(init))\n",
    "init.append(0)\n",
    "\n",
    "# numerically solve ode and plot\n",
    "res = integrate.solve_ivp(\n",
    "    loss_wrapper_hf(1./11.3, 1./13.5, popt[0], b4, t1),\n",
    "    (0,10),\n",
    "    init,\n",
    "    t_eval=np.exp(np.linspace(np.log(0.001), np.log(3), 1000))\n",
    ")\n",
    "print(res['y'].shape)\n",
    "resy2 = res['y'][:-1]\n",
    "resy2[-1] += res['y'][-1]\n",
    "fig, ax = plt.subplots()\n",
    "fmts = ['rx', 'yd', 'cs', 'ko']\n",
    "for i, y in enumerate(resy2):\n",
    "    ax.plot(res['t'], y, fmts[i][0]+'-', label=['None', 'Cs', 'Rb', 'Cs,Rb'][i])\n",
    "\n",
    "# plot data\n",
    "k=0\n",
    "for i in range(2):\n",
    "    for j in range(2):\n",
    "        k += 1\n",
    "        ax.errorbar(\n",
    "                np.array(itr_gap_ms)/1e3, corr_ret_data[:,i,j],\n",
    "                yerr=corr_ret_err[:,i,j],\n",
    "                fmt=fmts[k-1]\n",
    "            )\n",
    "# ax.set_xscale(\"log\", nonposx='clip')\n",
    "ax.grid(which='both')\n",
    "ax.set_xlabel('Interaction Time (s)')\n",
    "ax.set_ylabel('Probability')\n",
    "ax.legend(bbox_to_anchor=(0.25, 0.75), loc=1, borderaxespad=0.)\n",
    "ax.set_xlim(0.008,3)\n",
    "ax.set_ylim(0,1)\n",
    "\n",
    "# save plot\n",
    "pltfmts = ['pdf', 'png']\n",
    "fn = 'conditional_lifetime_20180708.{}'\n",
    "# for pfmt in pltfmts:\n",
    "#     fig.savefig(fn.format(pfmt), dpi=300, format=pfmt)"
   ]
  },
  {
   "cell_type": "code",
   "execution_count": 37,
   "metadata": {},
   "outputs": [
    {
     "data": {
      "text/plain": [
       "array([  4.22298583e-16,   1.63788784e-02,   5.75704471e-02,\n",
       "         6.00086668e-02])"
      ]
     },
     "execution_count": 37,
     "metadata": {},
     "output_type": "execute_result"
    }
   ],
   "source": [
    "popt"
   ]
  },
  {
   "cell_type": "code",
   "execution_count": 38,
   "metadata": {},
   "outputs": [
    {
     "data": {
      "text/plain": [
       "array([ 0.03178765,  0.00704035,  0.00933724,  0.00959823])"
      ]
     },
     "execution_count": 38,
     "metadata": {},
     "output_type": "execute_result"
    }
   ],
   "source": [
    "np.sqrt(np.diagonal(np.abs(pcov)))"
   ]
  },
  {
   "cell_type": "markdown",
   "metadata": {},
   "source": [
    "# 42"
   ]
  },
  {
   "cell_type": "code",
   "execution_count": 40,
   "metadata": {},
   "outputs": [],
   "source": [
    "itr_gap_ms42 = []\n",
    "cs_data42 = []\n",
    "rb_data42 = []\n",
    "corr_ret_data42 = []\n",
    "corr_ret_err42 = []"
   ]
  },
  {
   "cell_type": "code",
   "execution_count": 41,
   "metadata": {},
   "outputs": [],
   "source": [
    "# gap = 8.5 ms\n",
    "# dataset = '2018_07_19_13_02_40_csrb-collisions-42-high-density'\n",
    "itr_gap_ms42.append(8.5)\n",
    "cs_data42.append([0.970920840065,0.006753633904,0.958904109589,0.0164289708618])\n",
    "rb_data42.append([0.919642857143,0.0114875610094,0.931506849315,0.0209045185838])\n",
    "corr_ret_data42.append([[0.0,0.041095890411],[0.0684931506849,0.890410958904]])\n",
    "corr_ret_err42.append([[0.0048348968731615734,0.0164289708618],[0.0209045185838,0.0258524902973]])"
   ]
  },
  {
   "cell_type": "code",
   "execution_count": 42,
   "metadata": {},
   "outputs": [],
   "source": [
    "# gap = 30 ms\n",
    "# dataset = '2018_07_19_13_09_30_csrb-collisions-42-high-density'\n",
    "itr_gap_ms42.append(30)\n",
    "cs_data42.append([0.964015151515,0.00810559327605,0.886524822695,0.0267107651473])\n",
    "rb_data42.append([0.919417475728,0.00848121745782,0.851063829787,0.029982759516])\n",
    "corr_ret_data42.append([[0.063829787234,0.0496453900709],[0.0851063829787,0.801418439716]])\n",
    "corr_ret_err42.append([[0.0205863594403,0.0182924867954],[0.0234994019171,0.033596154394]])"
   ]
  },
  {
   "cell_type": "code",
   "execution_count": 43,
   "metadata": {},
   "outputs": [],
   "source": [
    "# gap = 60 ms\n",
    "# dataset = '2018_07_19_13_09_30_csrb-collisions-42-high-density'\n",
    "itr_gap_ms42.append(60)\n",
    "cs_data42.append([0.956656346749,0.0113302495161,0.880794701987,0.0263691816581])\n",
    "rb_data42.append([0.936746987952,0.00944643016935,0.867549668874,0.0275857772297])\n",
    "corr_ret_data42.append([[0.063829787234,0.0496453900709],[0.0851063829787,0.801418439716]])\n",
    "corr_ret_err42.append([[0.0205863594403,0.0182924867954],[0.0234994019171,0.033596154394]])"
   ]
  },
  {
   "cell_type": "code",
   "execution_count": 44,
   "metadata": {},
   "outputs": [],
   "source": [
    "# gap = 100 ms\n",
    "# dataset = '2018_07_19_13_09_30_csrb-collisions-42-high-density'\n",
    "itr_gap_ms42.append(100)\n",
    "cs_data42.append([0.943014705882,0.00993896542765,0.82,0.0313687742827])\n",
    "rb_data42.append([0.934920634921,0.00982740267647,0.8,0.0326598632371])\n",
    "corr_ret_data42.append([[0.113333333333,0.0666666666667],[0.0866666666667,0.733333333333]])\n",
    "corr_ret_err42.append([[0.025882927306,0.0203670030887],[0.0229718023608,0.0361068373539]])"
   ]
  },
  {
   "cell_type": "code",
   "execution_count": 45,
   "metadata": {},
   "outputs": [],
   "source": [
    "# gap = 300 ms\n",
    "# dataset = '2018_07_19_13_34_08_csrb-collisions-42-high-density-pt3'\n",
    "itr_gap_ms42.append(300)\n",
    "cs_data42.append([0.94434470377,0.00971383956275,0.787671232877,0.0338454648603])\n",
    "rb_data42.append([0.900662251656,0.0140536468285,0.732876712329,0.0366180243116])\n",
    "corr_ret_data42.append([[0.164383561644,0.0479452054795],[0.102739726027,0.684931506849]])\n",
    "corr_ret_err42.append([[0.0306729998516,0.0176818269741],[0.025127656913,0.038445864606]])"
   ]
  },
  {
   "cell_type": "code",
   "execution_count": 46,
   "metadata": {},
   "outputs": [],
   "source": [
    "# gap = 600 ms\n",
    "# dataset = '2018_07_19_13_34_08_csrb-collisions-42-high-density-pt3'\n",
    "itr_gap_ms42.append(600)\n",
    "cs_data42.append([0.888519134775,0.0128379689766,0.598684210526,0.0397576065705])\n",
    "rb_data42.append([0.848754448399,0.0151134696777,0.638157894737,0.0389764095422])\n",
    "corr_ret_data42.append([[0.236842105263,0.164473684211],[0.125,0.473684210526]])\n",
    "corr_ret_err42.append([[0.0344837797909,0.0300681344061],[0.0268248461025,0.040499145477]])"
   ]
  },
  {
   "cell_type": "code",
   "execution_count": 47,
   "metadata": {},
   "outputs": [],
   "source": [
    "# gap = 1200 ms\n",
    "# dataset = '2018_07_19_14_25_41_csrb-collisions-42-high-density-pt4'\n",
    "itr_gap_ms42.append(1200)\n",
    "cs_data42.append([0.856275303644,0.0157837042504,0.543046357616,0.04053834838])\n",
    "rb_data42.append([0.84938704028,0.014968074378,0.543046357616,0.04053834838])\n",
    "corr_ret_data42.append([[0.35761589404,0.0993377483444],[0.0993377483444,0.443708609272]])\n",
    "corr_ret_err42.append([[0.0390047345037,0.0243416303385],[0.0243416303385,0.0404307337798]])"
   ]
  },
  {
   "cell_type": "code",
   "execution_count": 48,
   "metadata": {},
   "outputs": [],
   "source": [
    "cs_data42 = np.array(cs_data42)\n",
    "cs_only42 = cs_data42[:,0]\n",
    "cs_only_err42 = cs_data42[:,1]\n",
    "cs_dual42 = cs_data42[:,2]\n",
    "cs_dual_err42 = cs_data42[:,3]\n",
    "\n",
    "rb_data42 = np.array(rb_data42)\n",
    "rb_only42 = rb_data42[:,0]\n",
    "rb_only_err42 = rb_data42[:,1]\n",
    "rb_dual42 = rb_data42[:,2]\n",
    "rb_dual_err42 = rb_data42[:,3]"
   ]
  },
  {
   "cell_type": "markdown",
   "metadata": {},
   "source": [
    "# Check that the loss is correlated"
   ]
  },
  {
   "cell_type": "markdown",
   "metadata": {},
   "source": [
    "# Model System"
   ]
  },
  {
   "cell_type": "code",
   "execution_count": 54,
   "metadata": {},
   "outputs": [],
   "source": [
    "corr_ret_data42 = np.array(corr_ret_data42)\n",
    "corr_ret_err42 = np.array(corr_ret_err42)\n",
    "\n",
    "# reformulate the model so it matches the expacted format for curve_fit\n",
    "def flat_loss_model(t, a0, a1, b, p00, p01, p10):\n",
    "    ts = t[0:len(t)/4]  # cut out the extra x values\n",
    "    res = integrate.solve_ivp(\n",
    "        loss_wrapper(a0, a1, b),\n",
    "        (0,max(ts)),\n",
    "        [p00, p01, p10, 1-p00-p01-p10],\n",
    "        t_eval=ts\n",
    "    )['y'].transpose()\n",
    "    return res.flatten()\n",
    "\n",
    "\n",
    "# do that simultaneous fit\n",
    "popt42, pcov42 = optimize.curve_fit(\n",
    "    lambda t, b, p00, p01, p10: flat_loss_model(t, 1./11.3, 1./13.5, b, p00, p01, p10),\n",
    "    np.tile(itr_gap_ms42, 4)/1e3,\n",
    "    corr_ret_data42.flatten(),\n",
    "    p0=[.5, corr_ret_data42[0,0,0], corr_ret_data42[0,0,1], corr_ret_data42[0,1,0]],\n",
    "    bounds=[(0,0,0,0), (np.inf, 1, 1, 1)],\n",
    "    sigma=corr_ret_err42.flatten()\n",
    ")\n",
    "\n",
    "# calculate p11\n",
    "init42 = popt42[1:4].tolist()\n",
    "init42.append(1-np.sum(init42))\n",
    "\n",
    "# numerically solve ode and plot\n",
    "res42 = integrate.solve_ivp(\n",
    "    loss_wrapper(1./11.3, 1./13.5, popt42[0]),\n",
    "    (0,10),\n",
    "    init42,\n",
    "    t_eval=np.exp(np.linspace(np.log(0.001), np.log(3), 1000))\n",
    ")"
   ]
  },
  {
   "cell_type": "code",
   "execution_count": 75,
   "metadata": {},
   "outputs": [
    {
     "data": {
      "application/vnd.jupyter.widget-view+json": {
       "model_id": "dce76ec257834c0084e36c2638012d28",
       "version_major": 2,
       "version_minor": 0
      },
      "text/html": [
       "<p>Failed to display Jupyter Widget of type <code>FigureCanvasNbAgg</code>.</p>\n",
       "<p>\n",
       "  If you're reading this message in Jupyter Notebook or JupyterLab, it may mean\n",
       "  that the widgets JavaScript is still loading. If this message persists, it\n",
       "  likely means that the widgets JavaScript library is either not installed or\n",
       "  not enabled. See the <a href=\"https://ipywidgets.readthedocs.io/en/stable/user_install.html\">Jupyter\n",
       "  Widgets Documentation</a> for setup instructions.\n",
       "</p>\n",
       "<p>\n",
       "  If you're reading this message in another notebook frontend (for example, a static\n",
       "  rendering on GitHub or <a href=\"https://nbviewer.jupyter.org/\">NBViewer</a>),\n",
       "  it may mean that your frontend doesn't currently support widgets.\n",
       "</p>\n"
      ],
      "text/plain": [
       "FigureCanvasNbAgg()"
      ]
     },
     "metadata": {},
     "output_type": "display_data"
    }
   ],
   "source": [
    "fig, ax = plt.subplots(ncols=2, figsize=(2*3.375,4), sharey=True)\n",
    "\n",
    "fmts = [['rx', 'yd'],['cs', 'ko']]\n",
    "\n",
    "##################\n",
    "for i, y in enumerate(res42['y']):\n",
    "    ax[0].plot(res42['t'], y, fmts[i/2][i%2][0]+'-')\n",
    "\n",
    "# plot data\n",
    "for i in range(2):\n",
    "    for j in range(2):\n",
    "        ax[0].errorbar(\n",
    "                np.array(itr_gap_ms42)/1e3, corr_ret_data42[:,i,j],\n",
    "                yerr=corr_ret_err42[:,i,j],\n",
    "                fmt=fmts[i][j], label=[['None', 'Cs'], ['Rb', 'Cs,Rb']][i][j]\n",
    "            )\n",
    "\n",
    "###########\n",
    "for i, y in enumerate(resy2):\n",
    "    ax[1].plot(res['t'], y, fmts[i/2][i%2][0]+'-', label=['None', 'Cs', 'Rb', 'Cs,Rb'][i])\n",
    "\n",
    "# plot data\n",
    "k=0\n",
    "for i in range(2):\n",
    "    for j in range(2):\n",
    "        k += 1\n",
    "        ax[1].errorbar(\n",
    "                np.array(itr_gap_ms)/1e3, corr_ret_data[:,i,j],\n",
    "                yerr=corr_ret_err[:,i,j],\n",
    "                fmt=fmts[i][j]\n",
    "            )\n",
    "\n",
    "#########\n",
    "ax[0].legend(bbox_to_anchor=(0.75, 0.95), loc=1, borderaxespad=0.)\n",
    "ax[0].set_ylabel('Probability', fontsize=14)\n",
    "for r in range(2):\n",
    "    # ax.set_xscale(\"log\", nonposx='clip')\n",
    "    ax[r].grid(which='both')\n",
    "    ax[r].set_xlabel('Interaction Time (s)', fontsize=14)\n",
    "    ax[r].set_xlim(0.00,1.5)\n",
    "    ax[r].set_ylim(0,1)\n",
    "    ax[r].text(1.3, 0.9, ['a)','b)'][r], fontsize=16)\n",
    "\n",
    "plt.tight_layout()\n",
    "# save plot\n",
    "fmts = ['pdf', 'png', 'eps']\n",
    "out = '/home/ebert/jupyter-notebooks/FNode/analyses/CollisionPaper/loss-fit/'\n",
    "fn = os.path.join(out, 'loss_fit.{}')\n",
    "for fmt in fmts:\n",
    "    fig.savefig(fn.format(fmt), dpi=200, format=fmt)"
   ]
  },
  {
   "cell_type": "code",
   "execution_count": null,
   "metadata": {},
   "outputs": [],
   "source": []
  }
 ],
 "metadata": {
  "kernelspec": {
   "display_name": "Python 2",
   "language": "python",
   "name": "python2"
  },
  "language_info": {
   "codemirror_mode": {
    "name": "ipython",
    "version": 2
   },
   "file_extension": ".py",
   "mimetype": "text/x-python",
   "name": "python",
   "nbconvert_exporter": "python",
   "pygments_lexer": "ipython2",
   "version": "2.7.6"
  }
 },
 "nbformat": 4,
 "nbformat_minor": 2
}
