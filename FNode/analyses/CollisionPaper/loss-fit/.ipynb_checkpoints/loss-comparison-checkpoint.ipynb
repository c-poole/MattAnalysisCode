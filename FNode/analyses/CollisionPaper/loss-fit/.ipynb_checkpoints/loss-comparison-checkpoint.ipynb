{
 "cells": [
  {
   "cell_type": "markdown",
   "metadata": {},
   "source": [
    "# Measure Lifetime"
   ]
  },
  {
   "cell_type": "markdown",
   "metadata": {},
   "source": [
    "format\n",
    "Cs retention: [ NoRb, NoRberr, Rb, Rberr]\n",
    "Rb retention: [ NoCs, NoCserr, Cs, Cserr]"
   ]
  },
  {
   "cell_type": "code",
   "execution_count": 1,
   "metadata": {},
   "outputs": [],
   "source": [
    "%matplotlib ipympl\n",
    "import numpy as np\n",
    "import matplotlib.pyplot as plt\n",
    "from matplotlib import ticker\n",
    "from scipy import optimize, integrate\n",
    "\n",
    "def exp(t, a, tau):\n",
    "    return a*np.exp(-t/tau)\n",
    "\n",
    "def exp2(t, a, tau):\n",
    "    return 1 - a*np.exp(-t/tau)\n",
    "\n",
    "def loss_model(a0, a1, b, y):\n",
    "    model = np.array([\n",
    "        [0,a1,a0,b],\n",
    "        [0,-a1,0,a0],\n",
    "        [0,0,-a0,a1],\n",
    "        [0,0,0,-(a0+a1+b)],\n",
    "    ])\n",
    "    return np.dot(model, y)\n",
    "\n",
    "def loss_wrapper(a0, a1, b):\n",
    "    return lambda t, y: loss_model(a0, a1, b, y)\n",
    "\n",
    "def loss_model_hf(a0, a1, b3, b4, t1, y):\n",
    "    r1 = 1./(2*t1)  # decay to other hf state\n",
    "    model = np.array([\n",
    "        [0,a1,a0,b3,b4],\n",
    "        [0,-a1,0,a0,a0],\n",
    "        [0,0,-a0,a1,a1],\n",
    "        [0,0,0,-(a0+a1+b3+r1),r1],\n",
    "        [0,0,0,r1,-(a0+a1+b4+r1)],\n",
    "    ])\n",
    "    return np.dot(model, y)\n",
    "\n",
    "def loss_wrapper_hf(a0, a1, b3, b4, t1):\n",
    "    return lambda t, y: loss_model_hf(a0, a1, b3, b4, t1, y)"
   ]
  },
  {
   "cell_type": "code",
   "execution_count": 2,
   "metadata": {},
   "outputs": [],
   "source": [
    "itr_gap_ms = []\n",
    "cs_data = []\n",
    "rb_data = []\n",
    "corr_ret_data = []\n",
    "corr_ret_err = []"
   ]
  },
  {
   "cell_type": "code",
   "execution_count": 3,
   "metadata": {},
   "outputs": [],
   "source": [
    "# gap = 8.5 ms\n",
    "# dataset = '2018_07_19_20_35_41_csrb-collisions-31-hd'\n",
    "itr_gap_ms.append(8.5)\n",
    "cs_data.append([0.953987730061,0.0116037783345,0.91156462585,0.0234179067987])\n",
    "rb_data.append([0.930555555556,0.0113233423732,0.91156462585,0.0234179067987])\n",
    "corr_ret_data.append([[0.0136054421769,0.0748299319728],[0.0748299319728,0.836734693878]])\n",
    "corr_ret_err.append([[0.00955483071186,0.0217015020725],[0.0217015020725,0.0304847174759]])"
   ]
  },
  {
   "cell_type": "code",
   "execution_count": 4,
   "metadata": {},
   "outputs": [],
   "source": [
    "# gap = 30 ms\n",
    "# dataset = '2018_07_19_18_34_50_csrb-collisions-41-hd'\n",
    "itr_gap_ms.append(30)\n",
    "cs_data.append([0.938906752412,0.0135808715829,0.924137931034,0.0219885574409])\n",
    "rb_data.append([0.911627906977,0.013687752648,0.937931034483,0.0200372771632])\n",
    "corr_ret_data.append([[0.0137931034483,0.0620689655172],[0.048275862069,0.875862068966]])\n",
    "corr_ret_err.append([[0.00968569999804,0.0200372771632],[0.0178006786408,0.0273833205101]])"
   ]
  },
  {
   "cell_type": "code",
   "execution_count": 5,
   "metadata": {},
   "outputs": [],
   "source": [
    "# gap = 60 ms\n",
    "# dataset = '2018_07_19_18_34_50_csrb-collisions-41-hd'\n",
    "itr_gap_ms.append(60)\n",
    "cs_data.append([0.932467532468,0.0127891830676,0.912751677852,0.0231186104802])\n",
    "rb_data.append([0.903125,0.0165350229036,0.845637583893,0.0295985058349])\n",
    "corr_ret_data.append([[0.0268456375839,0.0604026845638],[0.127516778523,0.785234899329]])\n",
    "corr_ret_err.append([[0.0132414210106,0.0195166767892],[0.0273255601904,0.0336425198568]])"
   ]
  },
  {
   "cell_type": "code",
   "execution_count": 6,
   "metadata": {},
   "outputs": [],
   "source": [
    "# gap = 120 ms\n",
    "# dataset = '2018_07_19_18_34_50_csrb-collisions-41-hd'\n",
    "itr_gap_ms.append(120)\n",
    "cs_data.append([0.943573667712,0.0129191361689,0.900662251656,0.0243416303385])\n",
    "rb_data.append([0.91,0.0202361063448,0.880794701987,0.0263691816581])\n",
    "corr_ret_data.append([[0.0264900662252,0.0728476821192],[0.0927152317881,0.807947019868]])\n",
    "corr_ret_err.append([[0.0130684247688,0.0211492484686],[0.0236025475085,0.0320563073475]])"
   ]
  },
  {
   "cell_type": "code",
   "execution_count": 7,
   "metadata": {},
   "outputs": [],
   "source": [
    "# gap = 300 ms\n",
    "# dataset = '2018_07_19_18_34_50_csrb-collisions-41-hd'\n",
    "itr_gap_ms.append(300)\n",
    "cs_data.append([0.964412811388,0.0110516001996,0.93288590604,0.0204987791995])\n",
    "rb_data.append([0.907172995781,0.0133288614474,0.892617449664,0.0253633379945])\n",
    "corr_ret_data.append([[0.0201342281879,0.0469798657718],[0.0872483221477,0.845637583893]])\n",
    "corr_ret_err.append([[0.0115068818169,0.0173345985998],[0.0231186104802,0.0295985058349]])"
   ]
  },
  {
   "cell_type": "code",
   "execution_count": 8,
   "metadata": {},
   "outputs": [],
   "source": [
    "# gap = 600 ms\n",
    "# dataset = '2018_07_19_18_34_50_csrb-collisions-41-hd'\n",
    "itr_gap_ms.append(600)\n",
    "cs_data.append([0.904255319149,0.0151743096289,0.843137254902,0.0294010831131])\n",
    "rb_data.append([0.920177383592,0.012761757443,0.849673202614,0.0288933865574])\n",
    "corr_ret_data.append([[0.0718954248366,0.0849673202614],[0.078431372549,0.764705882353]])\n",
    "corr_ret_err.append([[0.0208835039387,0.0225423167423],[0.0217351695888,0.0342931228312]])"
   ]
  },
  {
   "cell_type": "code",
   "execution_count": 9,
   "metadata": {},
   "outputs": [],
   "source": [
    "# gap = 1200 ms\n",
    "# dataset = '2018_07_19_18_34_50_csrb-collisions-41-hd'\n",
    "itr_gap_ms.append(1200)\n",
    "cs_data.append([0.860788863109,0.0166742640558,0.748299319728,0.0357949040403])\n",
    "rb_data.append([0.845291479821,0.0171235155465,0.843537414966,0.0299639289403])\n",
    "corr_ret_data.append([[0.102040816327,0.149659863946],[0.0544217687075,0.69387755102]])\n",
    "corr_ret_err.append([[0.0249664384425,0.0294232298746],[0.0187101121842,0.0380128420128]])"
   ]
  },
  {
   "cell_type": "code",
   "execution_count": 10,
   "metadata": {},
   "outputs": [],
   "source": [
    "cs_data = np.array(cs_data)\n",
    "cs_only = cs_data[:,0]\n",
    "cs_only_err = cs_data[:,1]\n",
    "cs_dual = cs_data[:,2]\n",
    "cs_dual_err = cs_data[:,3]\n",
    "\n",
    "rb_data = np.array(rb_data)\n",
    "rb_only = rb_data[:,0]\n",
    "rb_only_err = rb_data[:,1]\n",
    "rb_dual = rb_data[:,2]\n",
    "rb_dual_err = rb_data[:,3]"
   ]
  },
  {
   "cell_type": "code",
   "execution_count": 11,
   "metadata": {},
   "outputs": [
    {
     "data": {
      "application/vnd.jupyter.widget-view+json": {
       "model_id": "0266ce54c254428db9ff9df421cbe257",
       "version_major": 2,
       "version_minor": 0
      },
      "text/html": [
       "<p>Failed to display Jupyter Widget of type <code>FigureCanvasNbAgg</code>.</p>\n",
       "<p>\n",
       "  If you're reading this message in Jupyter Notebook or JupyterLab, it may mean\n",
       "  that the widgets JavaScript is still loading. If this message persists, it\n",
       "  likely means that the widgets JavaScript library is either not installed or\n",
       "  not enabled. See the <a href=\"https://ipywidgets.readthedocs.io/en/stable/user_install.html\">Jupyter\n",
       "  Widgets Documentation</a> for setup instructions.\n",
       "</p>\n",
       "<p>\n",
       "  If you're reading this message in another notebook frontend (for example, a static\n",
       "  rendering on GitHub or <a href=\"https://nbviewer.jupyter.org/\">NBViewer</a>),\n",
       "  it may mean that your frontend doesn't currently support widgets.\n",
       "</p>\n"
      ],
      "text/plain": [
       "FigureCanvasNbAgg()"
      ]
     },
     "metadata": {},
     "output_type": "display_data"
    },
    {
     "name": "stdout",
     "output_type": "stream",
     "text": [
      "----- cs -----\n",
      "13.44 +- 4.44\n",
      "6.62 +- 1.76\n",
      "----- rb -----\n",
      "18.94 +- 7.44\n",
      "13.82 +- 7.28\n"
     ]
    }
   ],
   "source": [
    "fig, ax = plt.subplots(ncols=2)\n",
    "\n",
    "# fit to exp decay\n",
    "cs_only_popt, cs_only_pcov = optimize.curve_fit(\n",
    "    exp, itr_gap_ms, cs_only,\n",
    "    p0=[1, 1e3],\n",
    "    sigma=cs_only_err\n",
    ")\n",
    "cs_dual_popt, cs_dual_pcov = optimize.curve_fit(\n",
    "    exp, itr_gap_ms, cs_dual,\n",
    "    p0=[1, 1e3],\n",
    "    sigma=cs_dual_err\n",
    ")\n",
    "rb_only_popt, rb_only_pcov = optimize.curve_fit(\n",
    "    exp, itr_gap_ms, rb_only,\n",
    "    p0=[1, 1e3],\n",
    "    sigma=rb_only_err\n",
    ")\n",
    "rb_dual_popt, rb_dual_pcov = optimize.curve_fit(\n",
    "    exp, itr_gap_ms, rb_dual,\n",
    "    p0=[1, 1e3],\n",
    "    sigma=rb_dual_err\n",
    ")\n",
    "\n",
    "print('-'*5 + ' cs ' + '-'*5)\n",
    "print('{:0.2f} +- {:0.2f}'.format(cs_only_popt[1]/1e3, np.sqrt(np.abs(cs_only_pcov[1][1]))/1e3))\n",
    "print('{:0.2f} +- {:0.2f}'.format(cs_dual_popt[1]/1e3, np.sqrt(np.abs(cs_dual_pcov[1][1]))/1e3))\n",
    "print('-'*5 + ' rb ' + '-'*5)\n",
    "print('{:0.2f} +- {:0.2f}'.format(rb_only_popt[1]/1e3, np.sqrt(np.abs(rb_only_pcov[1][1]))/1e3))\n",
    "print('{:0.2f} +- {:0.2f}'.format(rb_dual_popt[1]/1e3, np.sqrt(np.abs(rb_dual_pcov[1][1]))/1e3))\n",
    "\n",
    "ax[0].errorbar(\n",
    "    itr_gap_ms, cs_only,\n",
    "    yerr=cs_only_err,\n",
    "    fmt='cs',\n",
    "    label='cs(!rb)'\n",
    ")\n",
    "ax[0].errorbar(\n",
    "    itr_gap_ms, cs_dual,\n",
    "    yerr=cs_dual_err,\n",
    "    fmt='bo',\n",
    "    label='cs(rb)'\n",
    ")\n",
    "xs = np.linspace(0,2000,200)\n",
    "ax[0].plot(xs, exp(xs, *cs_only_popt), 'c-')\n",
    "ax[0].text(\n",
    "    10, 0.4,\n",
    "    \"tau_!rb = {:0.2f} s\\ntau_rb = {:0.2f} s\".format(cs_only_popt[1]/1e3, cs_dual_popt[1]/1e3),\n",
    "     fontsize=12\n",
    ")\n",
    "ax[0].plot(xs, exp(xs, *cs_dual_popt), 'b-')\n",
    "\n",
    "ax[1].errorbar(\n",
    "    itr_gap_ms, rb_only,\n",
    "    yerr=rb_only_err,\n",
    "    fmt='yd',\n",
    "    label='rb(cs)'\n",
    ")\n",
    "ax[1].errorbar(\n",
    "    itr_gap_ms, rb_dual,\n",
    "    yerr=rb_dual_err,\n",
    "    fmt='rx',\n",
    "    label='rb(!cs)'\n",
    ")\n",
    "ax[1].plot(xs, exp(xs, *rb_only_popt), 'y-')\n",
    "ax[1].text(\n",
    "    10, 0.4,\n",
    "    \"tau_!cs = {:0.2f} s\\ntau_cs = {:0.2f} s\".format(rb_only_popt[1]/1e3, rb_dual_popt[1]/1e3),\n",
    "     fontsize=12\n",
    ")\n",
    "ax[1].plot(xs, exp(xs, *rb_dual_popt), 'r-')\n",
    "\n",
    "ax[0].set_ylabel('Retention')\n",
    "ax[0].set_title('Cs')\n",
    "ax[1].set_title('Rb')\n",
    "\n",
    "for r in range(2):\n",
    "    ax[r].set_xscale(\"log\", nonposx='clip')\n",
    "#     ax[r].set_yscale(\"log\", nonposx='clip')\n",
    "    ax[r].xaxis.set_minor_formatter(ticker.FormatStrFormatter(''))\n",
    "    ax[r].xaxis.set_major_formatter(ticker.FormatStrFormatter('%d'))\n",
    "    ax[r].set_ylim(0., 1)\n",
    "    ax[r].set_xlim(8, 2000)\n",
    "    ax[r].legend(bbox_to_anchor=(0.5, 0.15), loc=1, borderaxespad=0.)\n",
    "    ax[r].set_xlabel('gap time (ms)')"
   ]
  },
  {
   "cell_type": "markdown",
   "metadata": {},
   "source": [
    "# Check that the loss is correlated"
   ]
  },
  {
   "cell_type": "markdown",
   "metadata": {},
   "source": [
    "# Model System"
   ]
  },
  {
   "cell_type": "code",
   "execution_count": 12,
   "metadata": {},
   "outputs": [
    {
     "data": {
      "application/vnd.jupyter.widget-view+json": {
       "model_id": "8fa658e021dd476b98fe6701f0fdd261",
       "version_major": 2,
       "version_minor": 0
      },
      "text/html": [
       "<p>Failed to display Jupyter Widget of type <code>FigureCanvasNbAgg</code>.</p>\n",
       "<p>\n",
       "  If you're reading this message in Jupyter Notebook or JupyterLab, it may mean\n",
       "  that the widgets JavaScript is still loading. If this message persists, it\n",
       "  likely means that the widgets JavaScript library is either not installed or\n",
       "  not enabled. See the <a href=\"https://ipywidgets.readthedocs.io/en/stable/user_install.html\">Jupyter\n",
       "  Widgets Documentation</a> for setup instructions.\n",
       "</p>\n",
       "<p>\n",
       "  If you're reading this message in another notebook frontend (for example, a static\n",
       "  rendering on GitHub or <a href=\"https://nbviewer.jupyter.org/\">NBViewer</a>),\n",
       "  it may mean that your frontend doesn't currently support widgets.\n",
       "</p>\n"
      ],
      "text/plain": [
       "FigureCanvasNbAgg()"
      ]
     },
     "metadata": {},
     "output_type": "display_data"
    }
   ],
   "source": [
    "corr_ret_data = np.array(corr_ret_data)\n",
    "corr_ret_err = np.array(corr_ret_err)\n",
    "\n",
    "bs = np.linspace(0,1,5)\n",
    "\n",
    "fmts = [['rx', 'yd'],['cs', 'ko']]\n",
    "fig, ax = plt.subplots()\n",
    "for b in bs:\n",
    "    res = integrate.solve_ivp(\n",
    "        loss_wrapper(0.13,0.13,b),\n",
    "        (0,10),\n",
    "        [0,0,0,1],\n",
    "        t_eval=np.linspace(0.01,10,1000)\n",
    "    )\n",
    "    for i, y in enumerate(res['y']):\n",
    "        ax.plot(res['t'], y, fmts[i/2][i%2][0]+'-')\n",
    "# for i in range(2):\n",
    "#     for j in range(2):\n",
    "#         ax.errorbar(\n",
    "#                 np.array(itr_gap_ms)/1e3, corr_ret_data[:,i,j],\n",
    "#                 yerr=corr_ret_err[:,i,j],\n",
    "#                 fmt=fmts[i][j],\n",
    "#                 label=\"{},{}\".format(i, j)\n",
    "#             )\n",
    "ax.set_xscale(\"log\", nonposx='clip')"
   ]
  },
  {
   "cell_type": "code",
   "execution_count": 13,
   "metadata": {},
   "outputs": [
    {
     "data": {
      "application/vnd.jupyter.widget-view+json": {
       "model_id": "c253188324bd42f2b8c3a0810089f94d",
       "version_major": 2,
       "version_minor": 0
      },
      "text/html": [
       "<p>Failed to display Jupyter Widget of type <code>FigureCanvasNbAgg</code>.</p>\n",
       "<p>\n",
       "  If you're reading this message in Jupyter Notebook or JupyterLab, it may mean\n",
       "  that the widgets JavaScript is still loading. If this message persists, it\n",
       "  likely means that the widgets JavaScript library is either not installed or\n",
       "  not enabled. See the <a href=\"https://ipywidgets.readthedocs.io/en/stable/user_install.html\">Jupyter\n",
       "  Widgets Documentation</a> for setup instructions.\n",
       "</p>\n",
       "<p>\n",
       "  If you're reading this message in another notebook frontend (for example, a static\n",
       "  rendering on GitHub or <a href=\"https://nbviewer.jupyter.org/\">NBViewer</a>),\n",
       "  it may mean that your frontend doesn't currently support widgets.\n",
       "</p>\n"
      ],
      "text/plain": [
       "FigureCanvasNbAgg()"
      ]
     },
     "metadata": {},
     "output_type": "display_data"
    }
   ],
   "source": [
    "# reformulate the model so it matches the expacted format for curve_fit\n",
    "def flat_loss_model(t, a0, a1, b, p00, p01, p10):\n",
    "    ts = t[0:len(t)/4]  # cut out the extra x values\n",
    "    res = integrate.solve_ivp(\n",
    "        loss_wrapper(a0, a1, b),\n",
    "        (0,max(ts)),\n",
    "        [p00, p01, p10, 1-p00-p01-p10],\n",
    "        t_eval=ts\n",
    "    )['y'].transpose()\n",
    "    return res.flatten()\n",
    "\n",
    "\n",
    "# do that simultaneous fit\n",
    "popt, pcov = optimize.curve_fit(\n",
    "    lambda t, b, p00, p01, p10: flat_loss_model(t, 1./11.3, 1./13.5, b, p00, p01, p10),\n",
    "    np.tile(itr_gap_ms, 4)/1e3,\n",
    "    corr_ret_data.flatten(),\n",
    "    p0=[.5, corr_ret_data[0,0,0], corr_ret_data[0,0,1], corr_ret_data[0,1,0]],\n",
    "    bounds=[(0,0,0,0), (np.inf, 1, 1, 1)],\n",
    "    sigma=corr_ret_err.flatten()\n",
    ")\n",
    "\n",
    "# calculate p11\n",
    "init = popt[1:4].tolist()\n",
    "init.append(1-np.sum(init))\n",
    "\n",
    "# numerically solve ode and plot\n",
    "res = integrate.solve_ivp(\n",
    "    loss_wrapper(1./11.3, 1./13.5, popt[0]),\n",
    "    (0,10),\n",
    "    init,\n",
    "    t_eval=np.exp(np.linspace(np.log(0.001), np.log(3), 1000))\n",
    ")\n",
    "fig, ax = plt.subplots()\n",
    "fmts = [['rx', 'yd'],['cs', 'ko']]\n",
    "for i, y in enumerate(res['y']):\n",
    "    ax.plot(res['t'], y, fmts[i/2][i%2][0]+'-', label=['None', 'Cs', 'Rb', 'Cs,Rb'][i])\n",
    "\n",
    "# plot data\n",
    "for i in range(2):\n",
    "    for j in range(2):\n",
    "        ax.errorbar(\n",
    "                np.array(itr_gap_ms)/1e3, corr_ret_data[:,i,j],\n",
    "                yerr=corr_ret_err[:,i,j],\n",
    "                fmt=fmts[i][j]\n",
    "            )\n",
    "ax.set_xscale(\"log\", nonposx='clip')\n",
    "ax.grid(which='both')\n",
    "ax.set_xlabel('Interaction Time (s)')\n",
    "ax.set_ylabel('Probability')\n",
    "ax.legend(bbox_to_anchor=(0.25, 0.75), loc=1, borderaxespad=0.)\n",
    "ax.set_xlim(0.008,3)\n",
    "ax.set_ylim(0,1)\n",
    "\n",
    "# save plot\n",
    "pltfmts = ['pdf', 'png']\n",
    "fn = 'conditional_lifetime_20180708.{}'\n",
    "# for pfmt in pltfmts:\n",
    "#     fig.savefig(fn.format(pfmt), dpi=300, format=pfmt)"
   ]
  },
  {
   "cell_type": "code",
   "execution_count": 14,
   "metadata": {},
   "outputs": [
    {
     "data": {
      "text/plain": [
       "array([ 0.05937357,  0.01600044,  0.05795169,  0.06039106])"
      ]
     },
     "execution_count": 14,
     "metadata": {},
     "output_type": "execute_result"
    }
   ],
   "source": [
    "popt"
   ]
  },
  {
   "cell_type": "code",
   "execution_count": 15,
   "metadata": {},
   "outputs": [
    {
     "data": {
      "text/plain": [
       "array([ 0.02685073,  0.00666246,  0.00896018,  0.0092107 ])"
      ]
     },
     "execution_count": 15,
     "metadata": {},
     "output_type": "execute_result"
    }
   ],
   "source": [
    "np.sqrt(np.diagonal(np.abs(pcov)))"
   ]
  },
  {
   "cell_type": "markdown",
   "metadata": {},
   "source": [
    "## Finite Cs T1"
   ]
  },
  {
   "cell_type": "code",
   "execution_count": 16,
   "metadata": {},
   "outputs": [],
   "source": [
    "# reformulate the model so it matches the expacted format for curve_fit\n",
    "def flat_loss_model_hf(t, a0, a1, b3, b4, p00, p01, p10, t1):\n",
    "    ts = t[0:len(t)/4]  # cut out the extra x values\n",
    "    res = integrate.solve_ivp(\n",
    "        loss_wrapper_hf(a0, a1, b3, b4, t1),\n",
    "        (0,max(ts)),\n",
    "        [p00, p01, p10, 1-p00-p01-p10, 0],\n",
    "        t_eval=ts\n",
    "    )['y'].transpose()\n",
    "    res2 = res[:,:4]\n",
    "    res2[:,-1] += res[:,-1]\n",
    "    return res2.flatten()"
   ]
  },
  {
   "cell_type": "code",
   "execution_count": 43,
   "metadata": {},
   "outputs": [
    {
     "name": "stdout",
     "output_type": "stream",
     "text": [
      "(5, 1000)\n"
     ]
    },
    {
     "data": {
      "application/vnd.jupyter.widget-view+json": {
       "model_id": "46166a6858d24c05a515a944b0ca231f",
       "version_major": 2,
       "version_minor": 0
      },
      "text/html": [
       "<p>Failed to display Jupyter Widget of type <code>FigureCanvasNbAgg</code>.</p>\n",
       "<p>\n",
       "  If you're reading this message in Jupyter Notebook or JupyterLab, it may mean\n",
       "  that the widgets JavaScript is still loading. If this message persists, it\n",
       "  likely means that the widgets JavaScript library is either not installed or\n",
       "  not enabled. See the <a href=\"https://ipywidgets.readthedocs.io/en/stable/user_install.html\">Jupyter\n",
       "  Widgets Documentation</a> for setup instructions.\n",
       "</p>\n",
       "<p>\n",
       "  If you're reading this message in another notebook frontend (for example, a static\n",
       "  rendering on GitHub or <a href=\"https://nbviewer.jupyter.org/\">NBViewer</a>),\n",
       "  it may mean that your frontend doesn't currently support widgets.\n",
       "</p>\n"
      ],
      "text/plain": [
       "FigureCanvasNbAgg()"
      ]
     },
     "metadata": {},
     "output_type": "display_data"
    }
   ],
   "source": [
    "# do that simultaneous fit\n",
    "b4 = 0.85\n",
    "t1 = 1.37\n",
    "popt, pcov = optimize.curve_fit(\n",
    "    lambda t, b3, p00, p01, p10: flat_loss_model_hf(t, 1./11.3, 1./13.5, b3, b4, p00, p01, p10, t1),\n",
    "    np.tile(itr_gap_ms, 4)/1e3,\n",
    "    corr_ret_data.flatten(),\n",
    "    p0=[.1, corr_ret_data[0,0,0], corr_ret_data[0,0,1], corr_ret_data[0,1,0]],\n",
    "    bounds=[(0,0,0,0), (np.inf, 1, 1, 1)],\n",
    "    sigma=corr_ret_err.flatten()\n",
    ")\n",
    "\n",
    "# calculate p11\n",
    "init = popt[1:4].tolist()\n",
    "init.append(1-np.sum(init))\n",
    "init.append(0)\n",
    "\n",
    "# numerically solve ode and plot\n",
    "res = integrate.solve_ivp(\n",
    "    loss_wrapper_hf(1./11.3, 1./13.5, popt[0], b4, t1),\n",
    "    (0,10),\n",
    "    init,\n",
    "    t_eval=np.exp(np.linspace(np.log(0.001), np.log(3), 1000))\n",
    ")\n",
    "print(res['y'].shape)\n",
    "resy2 = res['y'][:-1]\n",
    "resy2[-1] += res['y'][-1]\n",
    "fig, ax = plt.subplots()\n",
    "fmts = ['rx', 'yd', 'cs', 'ko']\n",
    "for i, y in enumerate(resy2):\n",
    "    ax.plot(res['t'], y, fmts[i][0]+'-', label=['None', 'Cs', 'Rb', 'Cs,Rb'][i])\n",
    "\n",
    "# plot data\n",
    "k=0\n",
    "for i in range(2):\n",
    "    for j in range(2):\n",
    "        k += 1\n",
    "        ax.errorbar(\n",
    "                np.array(itr_gap_ms)/1e3, corr_ret_data[:,i,j],\n",
    "                yerr=corr_ret_err[:,i,j],\n",
    "                fmt=fmts[k-1]\n",
    "            )\n",
    "ax.set_xscale(\"log\", nonposx='clip')\n",
    "ax.grid(which='both')\n",
    "ax.set_xlabel('Interaction Time (s)')\n",
    "ax.set_ylabel('Probability')\n",
    "ax.legend(bbox_to_anchor=(0.25, 0.75), loc=1, borderaxespad=0.)\n",
    "ax.set_xlim(0.008,3)\n",
    "ax.set_ylim(0,1)\n",
    "\n",
    "# save plot\n",
    "pltfmts = ['pdf', 'png']\n",
    "fn = 'conditional_lifetime_20180708.{}'\n",
    "# for pfmt in pltfmts:\n",
    "#     fig.savefig(fn.format(pfmt), dpi=300, format=pfmt)"
   ]
  },
  {
   "cell_type": "code",
   "execution_count": 44,
   "metadata": {},
   "outputs": [
    {
     "data": {
      "text/plain": [
       "array([  4.22298583e-16,   1.63788784e-02,   5.75704471e-02,\n",
       "         6.00086668e-02])"
      ]
     },
     "execution_count": 44,
     "metadata": {},
     "output_type": "execute_result"
    }
   ],
   "source": [
    "popt"
   ]
  },
  {
   "cell_type": "code",
   "execution_count": 45,
   "metadata": {},
   "outputs": [
    {
     "data": {
      "text/plain": [
       "array([ 0.03178765,  0.00704035,  0.00933724,  0.00959823])"
      ]
     },
     "execution_count": 45,
     "metadata": {},
     "output_type": "execute_result"
    }
   ],
   "source": [
    "np.sqrt(np.diagonal(np.abs(pcov)))"
   ]
  },
  {
   "cell_type": "code",
   "execution_count": 46,
   "metadata": {},
   "outputs": [
    {
     "data": {
      "application/vnd.jupyter.widget-view+json": {
       "model_id": "f1e6e9146a73440cb611076d8bc3deff",
       "version_major": 2,
       "version_minor": 0
      },
      "text/html": [
       "<p>Failed to display Jupyter Widget of type <code>FigureCanvasNbAgg</code>.</p>\n",
       "<p>\n",
       "  If you're reading this message in Jupyter Notebook or JupyterLab, it may mean\n",
       "  that the widgets JavaScript is still loading. If this message persists, it\n",
       "  likely means that the widgets JavaScript library is either not installed or\n",
       "  not enabled. See the <a href=\"https://ipywidgets.readthedocs.io/en/stable/user_install.html\">Jupyter\n",
       "  Widgets Documentation</a> for setup instructions.\n",
       "</p>\n",
       "<p>\n",
       "  If you're reading this message in another notebook frontend (for example, a static\n",
       "  rendering on GitHub or <a href=\"https://nbviewer.jupyter.org/\">NBViewer</a>),\n",
       "  it may mean that your frontend doesn't currently support widgets.\n",
       "</p>\n"
      ],
      "text/plain": [
       "FigureCanvasNbAgg()"
      ]
     },
     "metadata": {},
     "output_type": "display_data"
    },
    {
     "name": "stdout",
     "output_type": "stream",
     "text": [
      "[-0.01143399  0.01022521]\n"
     ]
    }
   ],
   "source": [
    "fig, ax = plt.subplots()\n",
    "dat = np.array([[.4, 0.01038941],[.45, 0.00414787],[.5,1.60831429e-16],[1,9.99248420e-19],[.85,4.22298583e-16]]).transpose()\n",
    "b4_sens=np.polyfit(dat[0], dat[1], 1)\n",
    "ax.plot(dat[0], dat[1], 'bo')\n",
    "ax.plot([0.4,1],np.poly1d(b4_sens)([0.4,1]))\n",
    "print(b4_sens)"
   ]
  },
  {
   "cell_type": "markdown",
   "metadata": {},
   "source": [
    "### Fit residuals"
   ]
  },
  {
   "cell_type": "code",
   "execution_count": 47,
   "metadata": {},
   "outputs": [
    {
     "data": {
      "application/vnd.jupyter.widget-view+json": {
       "model_id": "b5b30f2ba2a540959181d9469813ff59",
       "version_major": 2,
       "version_minor": 0
      },
      "text/html": [
       "<p>Failed to display Jupyter Widget of type <code>FigureCanvasNbAgg</code>.</p>\n",
       "<p>\n",
       "  If you're reading this message in Jupyter Notebook or JupyterLab, it may mean\n",
       "  that the widgets JavaScript is still loading. If this message persists, it\n",
       "  likely means that the widgets JavaScript library is either not installed or\n",
       "  not enabled. See the <a href=\"https://ipywidgets.readthedocs.io/en/stable/user_install.html\">Jupyter\n",
       "  Widgets Documentation</a> for setup instructions.\n",
       "</p>\n",
       "<p>\n",
       "  If you're reading this message in another notebook frontend (for example, a static\n",
       "  rendering on GitHub or <a href=\"https://nbviewer.jupyter.org/\">NBViewer</a>),\n",
       "  it may mean that your frontend doesn't currently support widgets.\n",
       "</p>\n"
      ],
      "text/plain": [
       "FigureCanvasNbAgg()"
      ]
     },
     "metadata": {},
     "output_type": "display_data"
    },
    {
     "name": "stdout",
     "output_type": "stream",
     "text": [
      "t32_data.append([0.0085,0.03,0.06,0.12,0.3,0.6,1.2])\n",
      "res32_data.append([-0.0281017583077,0.014151970828,-0.0719365701958,-0.0395840908197,0.0306814780232,0.0116125713941,0.0710184407852])\n"
     ]
    }
   ],
   "source": [
    "# numerically solve ode and plot\n",
    "res3 = integrate.solve_ivp(\n",
    "    loss_wrapper_hf(1./11.3, 1./13.5, popt[0], b4, t1),\n",
    "    (0,10),\n",
    "    init,\n",
    "    t_eval=np.array(itr_gap_ms)/1e3\n",
    ")\n",
    "resy4 = res3['y'][:-1]\n",
    "resy4[-1] += res3['y'][-1]\n",
    "\n",
    "fit_res = []\n",
    "for i, y in enumerate(resy4):\n",
    "    fit_res.append(corr_ret_data[:,i/2,i%2] - y)\n",
    "\n",
    "    \n",
    "fig, ax = plt.subplots()\n",
    "ax.plot(res3['t'], fit_res[-1]/corr_ret_err[:,1,1]**2, 'ro')\n",
    "\n",
    "hf = 32\n",
    "print(\"t{}_data.append([\".format(hf) + \",\".join(map(str, res3['t'].tolist())) +\"])\")\n",
    "print(\"res{}_data.append([\".format(hf) + \",\".join(map(str, fit_res[-1].tolist())) +\"])\")"
   ]
  },
  {
   "cell_type": "code",
   "execution_count": null,
   "metadata": {},
   "outputs": [],
   "source": []
  }
 ],
 "metadata": {
  "kernelspec": {
   "display_name": "Python 2",
   "language": "python",
   "name": "python2"
  },
  "language_info": {
   "codemirror_mode": {
    "name": "ipython",
    "version": 2
   },
   "file_extension": ".py",
   "mimetype": "text/x-python",
   "name": "python",
   "nbconvert_exporter": "python",
   "pygments_lexer": "ipython2",
   "version": "2.7.6"
  }
 },
 "nbformat": 4,
 "nbformat_minor": 2
}
