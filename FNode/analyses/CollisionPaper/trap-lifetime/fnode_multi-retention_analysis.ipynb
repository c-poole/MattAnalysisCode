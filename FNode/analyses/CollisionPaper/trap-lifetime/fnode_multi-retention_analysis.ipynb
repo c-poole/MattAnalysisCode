{
 "cells": [
  {
   "cell_type": "code",
   "execution_count": 1,
   "metadata": {},
   "outputs": [],
   "source": [
    "%matplotlib ipympl\n",
    "from QDP import qdp\n",
    "import os.path\n",
    "import numpy as np\n",
    "from scipy.stats import poisson\n",
    "import matplotlib.pyplot as plt\n",
    "from matplotlib import gridspec\n",
    "from matplotlib.colors import LogNorm\n",
    "import datetime\n",
    "import os\n",
    "dp = '/home/ebert/jupyter-notebooks/FNode-data'\n",
    "marker_styles = [\n",
    "    dict(color='cornflowerblue', marker='o', markeredgecolor='b', linestyle='None'),\n",
    "    dict(color='indianred', marker='d', markeredgecolor='r', linestyle='None')\n",
    "]\n",
    "\n",
    "exclude = [2]"
   ]
  },
  {
   "cell_type": "code",
   "execution_count": 2,
   "metadata": {
    "scrolled": true
   },
   "outputs": [
    {
     "name": "stdout",
     "output_type": "stream",
     "text": [
      "Command '['git', 'describe', '--always']' returned non-zero exit status 128\n",
      "Warning: Unable to detect commit tag for repo\n",
      "data at: 2018_07_11/2018_07_11_09_29_44_trap-lifetime/results.hdf5\n",
      "name 'fort_exp' is not defined\n",
      "name 'rb_uwave_freq' is not defined\n",
      "data at: 2018_07_11/2018_07_11_13_45_13_trap-lifetime-2/results.hdf5\n",
      "name 'fort_exp' is not defined\n",
      "name 'rb_uwave_freq' is not defined\n",
      "ivars: [u'gap_time']\n",
      "ivar:\t0.000\tloading:0.286\tretention:0.957 +- 0.024\n",
      "ivar:\t0.000\tloading:0.348\tretention:0.920 +- 0.024\n",
      "ivar:\t0.000\tloading:13.955\tretention:0.000 +- 0.024\n",
      "ivar:\t0.000\tloading:0.302\tretention:0.792 +- 0.041\n",
      "ivar:\t0.000\tloading:0.314\tretention:0.763 +- 0.041\n",
      "ivar:\t0.000\tloading:0.000\tretention:0.000 +- 0.041\n",
      "ivar:\t0.000\tloading:0.280\tretention:0.709 +- 0.048\n",
      "ivar:\t0.000\tloading:0.264\tretention:0.603 +- 0.048\n",
      "ivar:\t0.000\tloading:0.000\tretention:0.000 +- 0.048\n",
      "ivar:\t0.000\tloading:0.354\tretention:0.535 +- 0.046\n",
      "ivar:\t0.000\tloading:0.258\tretention:0.636 +- 0.046\n",
      "ivar:\t0.000\tloading:0.000\tretention:0.000 +- 0.046\n",
      "ivar:\t0.000\tloading:0.369\tretention:0.488 +- 0.049\n",
      "ivar:\t0.000\tloading:0.196\tretention:0.542 +- 0.049\n",
      "ivar:\t0.000\tloading:0.000\tretention:0.000 +- 0.049\n",
      "ivar:\t0.000\tloading:0.295\tretention:0.403 +- 0.049\n",
      "ivar:\t0.000\tloading:0.199\tretention:0.500 +- 0.049\n",
      "ivar:\t0.000\tloading:0.000\tretention:0.000 +- 0.049\n",
      "ivar:\t12000.000\tloading:0.386\tretention:0.276 +- 0.049\n",
      "ivar:\t12000.000\tloading:0.265\tretention:0.386 +- 0.049\n",
      "ivar:\t12000.000\tloading:0.000\tretention:0.000 +- 0.049\n",
      "ivar:\t14000.000\tloading:0.228\tretention:0.250 +- 0.040\n",
      "ivar:\t14000.000\tloading:0.283\tretention:0.241 +- 0.040\n",
      "ivar:\t14000.000\tloading:0.000\tretention:0.000 +- 0.040\n",
      "ivar:\t16000.000\tloading:0.005\tretention:0.000 +- 0.038\n",
      "ivar:\t16000.000\tloading:0.254\tretention:0.293 +- 0.038\n",
      "ivar:\t16000.000\tloading:0.000\tretention:0.000 +- 0.038\n",
      "ivar:\t18000.000\tloading:0.276\tretention:0.246 +- 0.041\n",
      "ivar:\t18000.000\tloading:0.328\tretention:0.247 +- 0.041\n",
      "ivar:\t18000.000\tloading:0.000\tretention:0.000 +- 0.041\n",
      "ivar:\t20000.000\tloading:0.367\tretention:0.172 +- 0.042\n",
      "ivar:\t20000.000\tloading:0.390\tretention:0.203 +- 0.042\n",
      "ivar:\t20000.000\tloading:0.000\tretention:0.000 +- 0.042\n",
      "ivar:\t0.000\tloading:0.000\tretention:0.000 +- 0.000\n",
      "ivar:\t0.000\tloading:0.000\tretention:0.000 +- 0.000\n",
      "ivar:\t0.000\tloading:0.000\tretention:0.000 +- 0.000\n"
     ]
    },
    {
     "name": "stderr",
     "output_type": "stream",
     "text": [
      "/home/ebert/jupyter-notebooks/FNode/analyses/qdp/QDP/qdp.py:131: RuntimeWarning: invalid value encountered in sqrt\n",
      "  errs[r] = (z/n[r].astype('float'))*np.sqrt(ns[r].astype('float')*(1.0-ns[r].astype('float')/n[r].astype('float')))\n"
     ]
    }
   ],
   "source": [
    "exp_names = [\n",
    "    '2018_07_11_09_29_44_trap-lifetime',\n",
    "    '2018_07_11_13_45_13_trap-lifetime-2'\n",
    "]\n",
    "\n",
    "single_only = True\n",
    "\n",
    "rets = 'retention'\n",
    "errs = 'error'\n",
    "if single_only:\n",
    "    rets = 'conditional_retention'\n",
    "    errs = 'conditional_retention_err'\n",
    "\n",
    "q = qdp.QDP(base_data_path=dp)\n",
    "for exp_name in exp_names:\n",
    "    exp_date = '_'.join(exp_name.split('_')[:3])\n",
    "    experiment_file = os.path.join(exp_date, exp_name, 'results.hdf5')\n",
    "    q.load_data_file(experiment_file)\n",
    "\n",
    "print \"ivars: {}\".format(q.experiments[0]['variable_list'])\n",
    "roi_map = ['cs', 'rb']\n",
    "cs_cuts = [[33],[3]]\n",
    "rb_cuts = [[31],[3]]\n",
    "q.set_thresholds(cs_cuts, roi=0)\n",
    "q.set_thresholds(rb_cuts, roi=1)\n",
    "retention = q.apply_thresholds(exclude_rois=exclude, ncondition=1)\n",
    "tbl_str = \"ivar:\\t{0}\\tretention:{1} +- {2}\"\n",
    "\n",
    "q.experiments[0]['variable_list']\n",
    "try:\n",
    "    xlab = q.experiments[0]['variable_desc'][q.experiments[0]['variable_list'][0]]['description']\n",
    "except IndexError:\n",
    "    xlab = 'iterator'\n",
    "\n",
    "# tbl_str = \"ivar:\\t{0:.3f}\\tloading:{1:.3f}\\tretention:{2:.3f} +- {3:.3f}\"\n",
    "# for i in range(len(retention[rets].flatten())):\n",
    "#     print(tbl_str.format(\n",
    "#         retention['ivar'].flatten()[i],\n",
    "#         retention['loading'].flatten()[i],\n",
    "#         retention[rets].flatten()[i],\n",
    "#         retention[errs].flatten()[i]\n",
    "#     ))"
   ]
  },
  {
   "cell_type": "code",
   "execution_count": 9,
   "metadata": {
    "scrolled": false
   },
   "outputs": [
    {
     "data": {
      "application/vnd.jupyter.widget-view+json": {
       "model_id": "49448f056c6d470d9d28ab8613240fff",
       "version_major": 2,
       "version_minor": 0
      },
      "text/html": [
       "<p>Failed to display Jupyter Widget of type <code>FigureCanvasNbAgg</code>.</p>\n",
       "<p>\n",
       "  If you're reading this message in Jupyter Notebook or JupyterLab, it may mean\n",
       "  that the widgets JavaScript is still loading. If this message persists, it\n",
       "  likely means that the widgets JavaScript library is either not installed or\n",
       "  not enabled. See the <a href=\"https://ipywidgets.readthedocs.io/en/stable/user_install.html\">Jupyter\n",
       "  Widgets Documentation</a> for setup instructions.\n",
       "</p>\n",
       "<p>\n",
       "  If you're reading this message in another notebook frontend (for example, a static\n",
       "  rendering on GitHub or <a href=\"https://nbviewer.jupyter.org/\">NBViewer</a>),\n",
       "  it may mean that your frontend doesn't currently support widgets.\n",
       "</p>\n"
      ],
      "text/plain": [
       "FigureCanvasNbAgg()"
      ]
     },
     "metadata": {},
     "output_type": "display_data"
    },
    {
     "name": "stdout",
     "output_type": "stream",
     "text": [
      "[  0.95692399  11.29052678]\n",
      "[ 0.01630036  0.48585541]\n",
      "[  0.91393715  13.4564238 ]\n",
      "[ 0.02352775  0.83475513]\n"
     ]
    }
   ],
   "source": [
    "import scipy.optimize as optimize\n",
    "\n",
    "fig, ax = plt.subplots(figsize=(2*3.375,3.5))\n",
    "ret = []\n",
    "err = []\n",
    "fmt_map = ['bo', 'rd']\n",
    "ivar = [\n",
    "    np.delete(np.concatenate((np.linspace(8.5,1e4,6), np.linspace(1.2e4,2e4,5)))/1e3, -3),\n",
    "    np.concatenate((np.linspace(8.5,1e4,6), np.linspace(1.2e4,2e4,5)))/1e3\n",
    "]\n",
    "\n",
    "def expon(x, a, tau, b):\n",
    "    return b + a*np.exp(-x/tau)\n",
    "\n",
    "for r in range(2):\n",
    "    ret.append(np.concatenate((retention[rets][0,:,r], retention[rets][1,:-1,r])))\n",
    "    err.append(np.concatenate((retention[errs][0,:,r], retention[errs][1,:-1,r])))\n",
    "    if r == 0:\n",
    "        ret[r] = np.delete(ret[r], -3)\n",
    "        err[r] = np.delete(err[r], -3)\n",
    "    guess = [1,10]\n",
    "    popt, pcov = optimize.curve_fit(\n",
    "        lambda t, a, tau: expon(t, a, tau, 0),\n",
    "        ivar[r],\n",
    "        ret[r],\n",
    "        p0=guess,\n",
    "        sigma=err[r]\n",
    "    )\n",
    "    print(popt)\n",
    "    print(np.sqrt(np.diagonal(np.abs(pcov))))\n",
    "    xs = np.linspace(0,21,100)\n",
    "    ax.plot(xs, expon(xs, popt[0], popt[1], 0), color=marker_styles[r]['color'], linestyle='--')\n",
    "    ax.errorbar(ivar[r], ret[r], yerr=err[r], **marker_styles[r])\n",
    "        \n",
    "ax.set_ylim(0., 1.0)\n",
    "ax.set_xlim(-0.5, 21)\n",
    "ax.set_xlabel('Time (s)', fontsize=14)\n",
    "ax.set_ylabel('Retention', fontsize=14)\n",
    "ax.grid(which='both')\n",
    "plt.tight_layout()\n",
    "\n",
    "fmts = ['pdf', 'png', 'eps']\n",
    "out = '/home/ebert/jupyter-notebooks/FNode/analyses/CollisionPaper/trap-lifetime/'\n",
    "fn = os.path.join(out, 'trap-lifetime.{}')\n",
    "for fmt in fmts:\n",
    "    fig.savefig(fn.format(fmt), dpi=200, format=fmt)"
   ]
  },
  {
   "cell_type": "code",
   "execution_count": null,
   "metadata": {},
   "outputs": [],
   "source": []
  }
 ],
 "metadata": {
  "kernelspec": {
   "display_name": "Python 2",
   "language": "python",
   "name": "python2"
  },
  "language_info": {
   "codemirror_mode": {
    "name": "ipython",
    "version": 2
   },
   "file_extension": ".py",
   "mimetype": "text/x-python",
   "name": "python",
   "nbconvert_exporter": "python",
   "pygments_lexer": "ipython2",
   "version": "2.7.6"
  }
 },
 "nbformat": 4,
 "nbformat_minor": 2
}
