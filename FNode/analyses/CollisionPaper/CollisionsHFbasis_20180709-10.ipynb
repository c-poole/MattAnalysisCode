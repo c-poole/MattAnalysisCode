{
 "cells": [
  {
   "cell_type": "code",
   "execution_count": 63,
   "metadata": {},
   "outputs": [],
   "source": [
    "%matplotlib ipympl\n",
    "import numpy as np\n",
    "import matplotlib.pyplot as plt\n",
    "from matplotlib import ticker\n",
    "from scipy import optimize, integrate\n",
    "import time\n",
    "import os"
   ]
  },
  {
   "cell_type": "code",
   "execution_count": 64,
   "metadata": {},
   "outputs": [],
   "source": [
    "mRb = 87*1.67e-27;\n",
    "gRb = 2*np.pi*6.066e6;\n",
    "mCs = 133*1.67e-27;\n",
    "gCs = 2*np.pi*5.234e6;\n",
    "k = 1.38e-23;\n",
    "hb = 1.0545e-34;\n",
    "fr = [74.434e3/2., 70.919e3/2.]\n",
    "frerr = [368/2., 222/2.]\n",
    "fa = [7.477e3/2, 7.135e3/2]\n",
    "faerr = [56/2., 31/2.]\n",
    "\n",
    "def Tdoppler(m, g):\n",
    "    return hb*g/(2*k)"
   ]
  },
  {
   "cell_type": "code",
   "execution_count": 65,
   "metadata": {},
   "outputs": [
    {
     "name": "stdout",
     "output_type": "stream",
     "text": [
      "Rb: 146 uK\n",
      "Cs: 126 uK\n"
     ]
    }
   ],
   "source": [
    "print('Rb: {:.0f} uK'.format(Tdoppler(mRb, gRb)*1e6))\n",
    "print('Cs: {:.0f} uK'.format(Tdoppler(mCs, gCs)*1e6))"
   ]
  },
  {
   "cell_type": "code",
   "execution_count": 66,
   "metadata": {},
   "outputs": [
    {
     "name": "stdout",
     "output_type": "stream",
     "text": [
      "Rb: 0.468, 0.468, 5.849  um\n",
      "Rb: 0.390, 0.390, 3.982  um\n",
      "Cs: 0.265, 0.265, 2.812  um\n",
      "\n",
      "    fr (um/rtK),   fa (um/rtK)\n",
      "Cs: 34.85(0.17),   346.93(2.60)\n",
      "Rb: 45.22(0.14),   449.51(1.95)\n",
      "---------------\n",
      "Cs: 27.46(0.14),   273.38(2.05)\n",
      "Rb: 35.64(0.11),   354.22(1.54)\n",
      "---------------\n",
      "Cs: 31.12(0.15),   309.75(2.32)\n",
      "Rb: 40.38(0.13),   401.34(1.74)\n",
      "---------------\n",
      "Cs: 37.69(0.19),   375.17(2.81)\n",
      "Rb: 48.91(0.15),   486.11(2.11)\n",
      "---------------\n"
     ]
    }
   ],
   "source": [
    "def a_stdev(m, T, f):\n",
    "    # m: mass, T: temp, w: beam waist\n",
    "    return np.sqrt(k*T/(m*np.power(np.array(2*np.pi*f), 2)))\n",
    "\n",
    "def a_stdev_err(m, T, f, ferr):\n",
    "    # m: mass, T: temp, w: beam waist\n",
    "    return 2*np.pi*ferr*np.sqrt(k*T/(m*np.power(np.array(2*np.pi*f), 4)))\n",
    "\n",
    "# checking some known numbers\n",
    "print('Rb: {:.3f}, {:.3f}, {:.3f}  um'.format(*(1e6*a_stdev(mRb, Tdoppler(mRb, gRb), np.array([4e4, 4e4, 3.2e3])))))\n",
    "print('Rb: {:.3f}, {:.3f}, {:.3f}  um'.format(*(1e6*a_stdev(mRb, Tdoppler(mRb, gRb), np.array([4.8e4, 4.8e4, 4.7e3])))))\n",
    "print('Cs: {:.3f}, {:.3f}, {:.3f}  um'.format(*(1e6*a_stdev(mCs, Tdoppler(mCs, gCs), np.array([5.3e4, 5.3e4, 5e3])))))\n",
    "# most recent numbers\n",
    "u_power = np.array([84.2, 135.6, 105.625, 72])\n",
    "u_fac = np.array([84.2/90., 135.6/90., 105.625/90., 72./90.])  # power ratio from nominal, trap power ratio\n",
    "acloudr = np.array([\n",
    "    a_stdev(mCs, 1, fr[0]*np.sqrt(u_fac)),\n",
    "    a_stdev(mRb, 1, fr[1]*np.sqrt(u_fac))\n",
    "])\n",
    "acloudr_err = np.array([\n",
    "    a_stdev_err(mCs, 1, fr[0]*np.sqrt(u_fac), frerr[0]*np.sqrt(u_fac)),\n",
    "    a_stdev_err(mRb, 1, fr[1]*np.sqrt(u_fac), frerr[1]*np.sqrt(u_fac))\n",
    "])\n",
    "aclouda = np.array([\n",
    "    a_stdev(mCs, 1, fa[0]*np.sqrt(u_fac)),\n",
    "    a_stdev(mRb, 1, fa[1]*np.sqrt(u_fac))\n",
    "])\n",
    "aclouda_err = np.array([\n",
    "    a_stdev_err(mCs, 1, fa[0]*np.sqrt(u_fac), faerr[0]*np.sqrt(u_fac)),\n",
    "    a_stdev_err(mRb, 1, fa[1]*np.sqrt(u_fac), faerr[1]*np.sqrt(u_fac))\n",
    "])\n",
    "\n",
    "print('\\n    fr (um/rtK),   fa (um/rtK)')\n",
    "for i in range(len(u_fac)):\n",
    "    print('Cs: {:.2f}({:.2f}),   {:.2f}({:.2f})'.format(1e6*acloudr[0,i], 1e6*acloudr_err[0,i], 1e6*aclouda[0,i], 1e6*aclouda_err[0,i]))\n",
    "    print('Rb: {:.2f}({:.2f}),   {:.2f}({:.2f})'.format(1e6*acloudr[1,i], 1e6*acloudr_err[1,i], 1e6*aclouda[1,i], 1e6*aclouda_err[1,i]))\n",
    "    print('-'*15)"
   ]
  },
  {
   "cell_type": "code",
   "execution_count": 67,
   "metadata": {},
   "outputs": [
    {
     "data": {
      "text/plain": [
       "array([[3.48497338e-05, 2.74615892e-05, 3.11151680e-05, 3.76868000e-05],\n",
       "       [4.52245667e-05, 3.56369572e-05, 4.03782134e-05, 4.89062329e-05]])"
      ]
     },
     "execution_count": 67,
     "metadata": {},
     "output_type": "execute_result"
    }
   ],
   "source": [
    "acloudr"
   ]
  },
  {
   "cell_type": "code",
   "execution_count": 68,
   "metadata": {},
   "outputs": [],
   "source": [
    "def overlap_density(sx, sa):\n",
    "    # sx -> sigma_x, sa -> sigma_z\n",
    "    return 1./(2*np.pi*np.sum(np.power(sx, 2)))/np.sqrt(2*np.pi*np.sum(np.power(sa, 2)))\n",
    "\n",
    "def overlap_density_err(sx, sx_err, sa, sa_err):\n",
    "    # sx -> sigma_x, sa -> sigma_z\n",
    "    return np.sqrt(\n",
    "        np.sum(np.power(sx*sx_err/(np.sqrt(2)*np.power(np.pi, 1.5)*np.power(np.sum(np.power(sx, 2)), 2)*np.sqrt(np.sum(np.power(sa, 2)))), 2)) +\n",
    "        np.sum(np.power(sa*sa_err/(np.power(2*np.pi, 1.5)*np.sum(np.power(sx, 2))*np.sqrt(np.sum(np.power(sa, 2)))), 1.5))\n",
    "    )"
   ]
  },
  {
   "cell_type": "code",
   "execution_count": 69,
   "metadata": {},
   "outputs": [
    {
     "name": "stdout",
     "output_type": "stream",
     "text": [
      "0.2436357376544271\n"
     ]
    }
   ],
   "source": [
    "def vbar(m1, T1, m2, T2):\n",
    "    return np.sqrt(8*k*(T1/m1 + T2/m2)/np.pi)\n",
    "\n",
    "def vbar_csrb(Tc, Tr):\n",
    "    return vbar(mCs, Tc, mRb, Tr)\n",
    "\n",
    "print vbar_csrb(0.0001, 0.00018)"
   ]
  },
  {
   "cell_type": "markdown",
   "metadata": {},
   "source": [
    "## 42 (2018_07_09_10_18)"
   ]
  },
  {
   "cell_type": "markdown",
   "metadata": {},
   "source": [
    "'2018_07_09_10_18_02_rbcs-collision-42-unpol-4_5ms'\n",
    "'2018_07_09_11_08_47_rbcs-collision-42-unpol-10ms'\n",
    "'2018_07_09_11_33_51_rbcs-collision-42-unpol-30ms'\n",
    "'2018_07_09_11_44_41_rbcs-collision-42-unpol-60ms'\n",
    "'2018_07_09_12_03_06_rbcs-collision-42-unpol-100ms'\n",
    "'2018_07_09_13_15_36_rbcs-collision-42-unpol-300ms'\n",
    "'2018_07_09_14_25_53_rbcs-collision-42-unpol-600ms'"
   ]
  },
  {
   "cell_type": "code",
   "execution_count": 70,
   "metadata": {},
   "outputs": [],
   "source": [
    "b42 = [0.49899089, 0.5545054, 0.43417923, 0.42319934, 0.36130645]\n",
    "b42err = [0.05590329, 0.0617219, 0.03776802, 0.05243504, 0.02613373]"
   ]
  },
  {
   "cell_type": "code",
   "execution_count": 71,
   "metadata": {},
   "outputs": [],
   "source": [
    "# b42 = [1.02148513, 1.08219925e+00, 0.51357683, 1.16771006, 0.56879905]\n",
    "# b42err = [0.18750717, 0.21589205, 0.10867261, 0.22955, 0.09234445]"
   ]
  },
  {
   "cell_type": "markdown",
   "metadata": {},
   "source": [
    "'2018_07_08_22_21_54_temperature'\n",
    "make sure to take temperature measurements closer in the future"
   ]
  },
  {
   "cell_type": "code",
   "execution_count": 72,
   "metadata": {},
   "outputs": [
    {
     "name": "stdout",
     "output_type": "stream",
     "text": [
      "[[3.48497338e-05 2.74615892e-05 3.11151680e-05 3.76868000e-05]\n",
      " [4.52245667e-05 3.56369572e-05 4.03782134e-05 4.89062329e-05]]\n",
      "++++++\n",
      "[[3.48497338e-05 2.74615892e-05 3.11151680e-05 3.11151680e-05\n",
      "  3.76868000e-05]\n",
      " [4.52245667e-05 3.56369572e-05 4.03782134e-05 4.03782134e-05\n",
      "  4.89062329e-05]]\n",
      "==========\n",
      "[ 84.2   135.6   105.625  72.   ]\n",
      "++++++\n",
      "[ 84.2   135.6   105.625 105.625  72.   ]\n"
     ]
    }
   ],
   "source": [
    "# upgrade the temperature fitting so that I can extract an error\n",
    "t42 = np.array([  # uK  # old\n",
    "    [84.5, 104., 84.8, 82, 113.1],  # cs\n",
    "    [79.1, 80.8, 62.2, 69.1, 68.8]  # rb\n",
    "])\n",
    "# t42 = np.array([  # uK\n",
    "#     [86.2, 104.6, 81.9, 82, 113.1],  # cs\n",
    "#     [78.9, 79.8, 69.4, 69.1, 68.8]  # rb\n",
    "# ])\n",
    "# t42err = np.array([  # uK\n",
    "#     [3.60, 5.33, 5.45, , ],  # cs\n",
    "#     [10.2, 13.8, 9.09, , ]  # rb\n",
    "# ])\n",
    "\n",
    "# I took an extra data point at high density \n",
    "acloudr42 = np.copy(acloudr)\n",
    "acloudr42 = np.insert(acloudr42, 3, acloudr42[:,2], axis=1)\n",
    "u_power42 = np.copy(u_power)\n",
    "u_power42 = np.insert(u_power42, 3, u_power42[2], axis=0)\n",
    "# acloudr42 = np.insert(acloudr42, 4, acloudr42[:,-1], axis=1)\n",
    "print(acloudr)\n",
    "print('+'*6)\n",
    "print(acloudr42)\n",
    "print('='*10)\n",
    "print(u_power)\n",
    "print('+'*6)\n",
    "print(u_power42)\n",
    "\n",
    "acloudr42_err = np.copy(acloudr_err)\n",
    "acloudr42_err = np.insert(acloudr42_err, 3, acloudr42_err[:,2], axis=1)\n",
    "# acloudr42_err = np.insert(acloudr42_err, 4, acloudr42_err[:,-1], axis=1)\n",
    "\n",
    "aclouda42 = np.copy(aclouda)\n",
    "aclouda42 = np.insert(aclouda42, 3, aclouda42[:,2], axis=1)\n",
    "# aclouda42 = np.insert(aclouda42, 4, aclouda42[:,-1], axis=1)\n",
    "aclouda42_err = np.copy(aclouda_err)\n",
    "aclouda42_err = np.insert(aclouda42_err, 3, aclouda42_err[:,2], axis=1)\n",
    "# aclouda42_err = np.insert(aclouda42_err, 4, aclouda42_err[:,-1], axis=1)\n",
    "\n",
    "sigma42r = acloudr42[:,:len(t42[0])]*np.sqrt(1e-6*t42)\n",
    "sigma42r_err = acloudr42_err[:,:len(t42[0])]*np.sqrt(1e-6*t42)\n",
    "\n",
    "sigma42a = aclouda42[:,:len(t42[0])]*np.sqrt(1e-6*t42)\n",
    "sigma42a_err = aclouda42_err[:,:len(t42[0])]*np.sqrt(1e-6*t42)"
   ]
  },
  {
   "cell_type": "code",
   "execution_count": 73,
   "metadata": {},
   "outputs": [
    {
     "name": "stdout",
     "output_type": "stream",
     "text": [
      "[[0.32035228 0.28005436 0.28652998 0.28175983 0.4007934 ]\n",
      " [0.40221907 0.3203364  0.31845076 0.33564959 0.40565649]]\n",
      "[[0.00158381 0.00138458 0.0014166  0.00139301 0.00198151]\n",
      " [0.00125908 0.00100276 0.00099686 0.00105069 0.00126984]]\n",
      "[[3.18912687 2.78795856 2.85242381 2.80493663 3.98992326]\n",
      " [3.99789406 3.18401365 3.16527113 3.33622052 4.03206066]]\n",
      "[[0.0238854  0.02088079 0.02136361 0.02100795 0.02988307]\n",
      " [0.01736997 0.01383384 0.0137524  0.01449514 0.01751841]]\n"
     ]
    }
   ],
   "source": [
    "print(sigma42r*1e6)\n",
    "print(sigma42r_err*1e6)\n",
    "\n",
    "print(sigma42a*1e6)\n",
    "print(sigma42a_err*1e6)"
   ]
  },
  {
   "cell_type": "code",
   "execution_count": 74,
   "metadata": {},
   "outputs": [
    {
     "name": "stdout",
     "output_type": "stream",
     "text": [
      "[4.695618648047807, 8.286781081074869, 8.120231942640398, 7.585133340173361, 3.4420473460962318]\n",
      "[0.02546192128772027, 0.046094557859594244, 0.04560290599088632, 0.041680703465827584, 0.020038999866821578]\n"
     ]
    }
   ],
   "source": [
    "od42 = [1e-16*overlap_density(sigma42r[:,i], sigma42a[:,i]) for i in range(len(sigma42r[0]))]  # 10^-10 cm^-3\n",
    "od42_err = [1e-16*overlap_density_err(sigma42r[:,i], sigma42r_err[:,i], sigma42a[:,i], sigma42a_err[:,i]) for i in range(len(sigma42r[0]))]\n",
    "print(od42)\n",
    "print(od42_err)"
   ]
  },
  {
   "cell_type": "markdown",
   "metadata": {},
   "source": [
    "## 31 (2018_07_09_10_18)"
   ]
  },
  {
   "cell_type": "markdown",
   "metadata": {},
   "source": [
    "'2018_07_09_22_50_18_rbcs-collision-31-unpol'\n",
    "'2018_07_09_23_11_33_rbcs-collision-31-unpol-pt2'"
   ]
  },
  {
   "cell_type": "code",
   "execution_count": 75,
   "metadata": {},
   "outputs": [],
   "source": [
    "# b31 = [0.03101263, 0.05244247]\n",
    "# b31err = [0.01624713, 0.02853062]\n",
    "b31 = [0.01931074, 4.22298583e-16]\n",
    "b31err = [0.01723351, 0.03178765]"
   ]
  },
  {
   "cell_type": "markdown",
   "metadata": {},
   "source": [
    "'2018_07_08_22_21_54_temperature'\n",
    "make sure to take temperature measurements closer in the future"
   ]
  },
  {
   "cell_type": "code",
   "execution_count": 76,
   "metadata": {},
   "outputs": [],
   "source": [
    "# upgrade the temperature fitting so that I can extract an error\n",
    "t31 = np.array([  # uK\n",
    "    [84.5, 92.5],  # cs\n",
    "    [79.1, 94.1]  # rb\n",
    "])\n",
    "sigma31r = acloudr[:,:len(b31)]*np.sqrt(1e-6*t31[:,:len(b31)])\n",
    "sigma31r_err = acloudr_err[:,:len(b31)]*np.sqrt(1e-6*t31[:,:len(b31)])\n",
    "\n",
    "u_power31 = np.copy(u_power)[:len(b31)]\n",
    "\n",
    "sigma31a = aclouda[:,:len(b31)]*np.sqrt(1e-6*t31[:,:len(b31)])\n",
    "sigma31a_err = aclouda_err[:,:len(b31)]*np.sqrt(1e-6*t31[:,:len(b31)])"
   ]
  },
  {
   "cell_type": "code",
   "execution_count": 77,
   "metadata": {},
   "outputs": [
    {
     "name": "stdout",
     "output_type": "stream",
     "text": [
      "[[0.32035228 0.26411711]\n",
      " [0.40221907 0.34569685]]\n",
      "[[0.00158381 0.00130579]\n",
      " [0.00125908 0.00108215]]\n",
      "[[3.18912687 2.62930223]\n",
      " [3.99789406 3.43608622]]\n",
      "[[0.0238854  0.01969251]\n",
      " [0.01736997 0.01492904]]\n"
     ]
    }
   ],
   "source": [
    "print(sigma31r*1e6)\n",
    "print(sigma31r_err*1e6)\n",
    "\n",
    "print(sigma31a*1e6)\n",
    "print(sigma31a_err*1e6)"
   ]
  },
  {
   "cell_type": "code",
   "execution_count": 78,
   "metadata": {},
   "outputs": [
    {
     "name": "stdout",
     "output_type": "stream",
     "text": [
      "[4.695618648047807, 7.753714989637125]\n",
      "[0.02546192128772027, 0.041689703930981925]\n"
     ]
    }
   ],
   "source": [
    "od31 = [1e-16*overlap_density(sigma31r[:,i], sigma31a[:,i]) for i in range(len(b31))]  # 10^-10 cm^-3\n",
    "od31_err = [1e-16*overlap_density_err(sigma31r[:,i], sigma31r_err[:,i], sigma31a[:,i], sigma31a_err[:,i]) for i in range(len(b31))]\n",
    "print(od31)\n",
    "print(od31_err)"
   ]
  },
  {
   "cell_type": "markdown",
   "metadata": {},
   "source": [
    "## 32 (2018_07_10)"
   ]
  },
  {
   "cell_type": "markdown",
   "metadata": {},
   "source": [
    "'2018_07_10_16_32_34_rbcs-collisions-32-unpol-pt1'\n",
    "'2018_07_10_17_20_51_rbcs-collisions-32-unpol-pt2'"
   ]
  },
  {
   "cell_type": "code",
   "execution_count": 79,
   "metadata": {},
   "outputs": [],
   "source": [
    "# b32 = [0.30499042,4.52109619e-01]\n",
    "# b32err = [0.04149042, 0.04853909]\n",
    "b32 = [0.31543102,4.31680344e-01,0.28897518]\n",
    "b32err = [0.04331461, 0.05378444,0.01913829]"
   ]
  },
  {
   "cell_type": "markdown",
   "metadata": {},
   "source": [
    "'2018_07_10_18_39_24_rbcs-collisions-32-unpol-temp'"
   ]
  },
  {
   "cell_type": "code",
   "execution_count": 80,
   "metadata": {},
   "outputs": [
    {
     "name": "stdout",
     "output_type": "stream",
     "text": [
      "[[3.48497338e-05 2.74615892e-05 3.11151680e-05 3.76868000e-05]\n",
      " [4.52245667e-05 3.56369572e-05 4.03782134e-05 4.89062329e-05]]\n",
      "[[3.48497338e-05 2.74615892e-05 3.76868000e-05 3.11151680e-05\n",
      "  3.76868000e-05]\n",
      " [4.52245667e-05 3.56369572e-05 4.89062329e-05 4.03782134e-05\n",
      "  4.89062329e-05]]\n"
     ]
    }
   ],
   "source": [
    "# upgrade the temperature fitting so that I can extract an error\n",
    "t32 = np.array([  # uK\n",
    "    [97.4, 99.2, 83.3],  # cs\n",
    "    [75.3, 89.5, 67.2]  # rb\n",
    "])\n",
    "\n",
    "# I took an extra data point at high density \n",
    "acloudr32 = np.copy(acloudr)\n",
    "acloudr32 = np.insert(acloudr32, 2, acloudr42[:,-1], axis=1)\n",
    "# acloudr42 = np.insert(acloudr42, 4, acloudr42[:,-1], axis=1)\n",
    "print(acloudr)\n",
    "print(acloudr32)\n",
    "acloudr32_err = np.copy(acloudr_err)\n",
    "acloudr32_err = np.insert(acloudr32_err, 2, acloudr32_err[:,-1], axis=1)\n",
    "# acloudr42_err = np.insert(acloudr42_err, 4, acloudr42_err[:,-1], axis=1)\n",
    "u_power32 = np.copy(u_power)\n",
    "u_power32 = np.insert(u_power32, 2, u_power32[-1], axis=0)\n",
    "\n",
    "aclouda32 = np.copy(aclouda)\n",
    "aclouda32 = np.insert(aclouda32, 2, aclouda32[:,-1], axis=1)\n",
    "# aclouda42 = np.insert(aclouda42, 4, aclouda42[:,-1], axis=1)\n",
    "aclouda32_err = np.copy(aclouda_err)\n",
    "aclouda32_err = np.insert(aclouda32_err, 3, aclouda32_err[:,2], axis=1)\n",
    "# aclouda42_err = np.insert(aclouda42_err, 4, aclouda42_err[:,-1], axis=1)\n",
    "\n",
    "sigma32r = acloudr32[:,:len(b32)]*np.sqrt(1e-6*t32[:,:len(b32)])\n",
    "sigma32r_err = acloudr32_err[:,:len(b32)]*np.sqrt(1e-6*t32[:,:len(b32)])\n",
    "\n",
    "sigma32a = aclouda32[:,:len(b32)]*np.sqrt(1e-6*t32[:,:len(b32)])\n",
    "sigma32a_err = aclouda32_err[:,:len(b32)]*np.sqrt(1e-6*t32[:,:len(b32)])"
   ]
  },
  {
   "cell_type": "code",
   "execution_count": 81,
   "metadata": {},
   "outputs": [
    {
     "name": "stdout",
     "output_type": "stream",
     "text": [
      "[[0.34393704 0.27351522 0.34396303]\n",
      " [0.39243877 0.33714144 0.40091181]]\n",
      "[[0.00170042 0.00135225 0.00170055]\n",
      " [0.00122846 0.00105536 0.00125499]]\n",
      "[[3.42391458 2.72286105 3.42417334]\n",
      " [3.90068184 3.35104885 3.98490043]]\n",
      "[[0.02564387 0.02039324 0.02117382]\n",
      " [0.0169476  0.01455957 0.01429447]]\n"
     ]
    }
   ],
   "source": [
    "print(sigma32r*1e6)\n",
    "print(sigma32r_err*1e6)\n",
    "\n",
    "print(sigma32a*1e6)\n",
    "print(sigma32a_err*1e6)"
   ]
  },
  {
   "cell_type": "code",
   "execution_count": 82,
   "metadata": {},
   "outputs": [
    {
     "name": "stdout",
     "output_type": "stream",
     "text": [
      "[4.492565151011152, 7.802124673306368, 4.330851671026311]\n",
      "[0.02500931316886158, 0.04249073670317238, 0.023949603510933136]\n"
     ]
    }
   ],
   "source": [
    "od32 = [1e-16*overlap_density(sigma32r[:,i], sigma32a[:,i]) for i in range(len(b32))]  # 10^-10 cm^-3\n",
    "od32_err = [1e-16*overlap_density_err(sigma32r[:,i], sigma32r_err[:,i], sigma32a[:,i], sigma32a_err[:,i]) for i in range(len(b32))]\n",
    "print(od32)\n",
    "print(od32_err)"
   ]
  },
  {
   "cell_type": "markdown",
   "metadata": {},
   "source": [
    "## 41 (2018_07_10)"
   ]
  },
  {
   "cell_type": "markdown",
   "metadata": {},
   "source": [
    "'2018_07_10_11_39_53_rbcs-collisions-41-unpol-pt1'\n",
    "'2018_07_10_11_57_03_rbcs-collisions-41-unpol-pt2'"
   ]
  },
  {
   "cell_type": "code",
   "execution_count": 83,
   "metadata": {},
   "outputs": [],
   "source": [
    "#b41 = [0.53319096, 0.64654081, 0.81842229]  # old model\n",
    "#b41err = [0.06883381, 0.07750669, 0.06680952]\n",
    "b41 = [0.56903, 0.79787923, 0.81842229, 0.5090469]  # new model\n",
    "b41err = [0.07386109, 0.08785919, 0.06680952, 0.04280821]"
   ]
  },
  {
   "cell_type": "markdown",
   "metadata": {},
   "source": [
    "'2018_07_10_15_45_16_rbcs-collisions-41-temp'"
   ]
  },
  {
   "cell_type": "code",
   "execution_count": 84,
   "metadata": {},
   "outputs": [
    {
     "name": "stdout",
     "output_type": "stream",
     "text": [
      "[[3.48497338e-05 2.74615892e-05 3.11151680e-05 3.76868000e-05]\n",
      " [4.52245667e-05 3.56369572e-05 4.03782134e-05 4.89062329e-05]]\n",
      "[[3.48497338e-05 2.74615892e-05 2.74615892e-05 3.76868000e-05\n",
      "  3.11151680e-05 3.76868000e-05]\n",
      " [4.52245667e-05 3.56369572e-05 3.56369572e-05 4.89062329e-05\n",
      "  4.03782134e-05 4.89062329e-05]]\n"
     ]
    }
   ],
   "source": [
    "# upgrade the temperature fitting so that I can extract an error\n",
    "t41 = np.array([  # uK\n",
    "    [91.1, 95.4, 95.6, 74],  # cs\n",
    "    [83.2, 91.9, 91.3, 67.2]  # rb\n",
    "])\n",
    "\n",
    "# I took an extra data point at high density \n",
    "acloudr41 = np.copy(acloudr)\n",
    "acloudr41 = np.insert(acloudr41, 2, acloudr41[:,1], axis=1)\n",
    "acloudr41 = np.insert(acloudr41, 3, acloudr41[:,-1], axis=1)\n",
    "print(acloudr)\n",
    "print(acloudr41)\n",
    "acloudr41_err = np.copy(acloudr_err)\n",
    "acloudr41_err = np.insert(acloudr41_err, 2, acloudr41_err[:,1], axis=1)\n",
    "acloudr41_err = np.insert(acloudr41_err, 3, acloudr41_err[:,-1], axis=1)\n",
    "\n",
    "u_power41 = np.copy(u_power)\n",
    "u_power41 = np.insert(u_power41, 2, u_power41[1], axis=0)\n",
    "u_power41 = np.insert(u_power41, 3, u_power41[-1], axis=0)\n",
    "\n",
    "aclouda41 = np.copy(aclouda)\n",
    "aclouda41 = np.insert(aclouda41, 2, aclouda41[:,1], axis=1)\n",
    "aclouda41 = np.insert(aclouda41, 3, aclouda41[:,-1], axis=1)\n",
    "aclouda41_err = np.copy(aclouda_err)\n",
    "aclouda41_err = np.insert(aclouda41_err, 2, aclouda41_err[:,1], axis=1)\n",
    "aclouda41_err = np.insert(aclouda41_err, 3, aclouda41_err[:,-1], axis=1)\n",
    "\n",
    "sigma41r = acloudr41[:,:len(b41)]*np.sqrt(1e-6*t41[:,:len(b41)])\n",
    "sigma41r_err = acloudr41_err[:,:len(b41)]*np.sqrt(1e-6*t41[:,:len(b41)])\n",
    "\n",
    "sigma41a = aclouda41[:,:len(b41)]*np.sqrt(1e-6*t41[:,:len(b41)])\n",
    "sigma41a_err = aclouda41_err[:,:len(b41)]*np.sqrt(1e-6*t41[:,:len(b41)])"
   ]
  },
  {
   "cell_type": "code",
   "execution_count": 85,
   "metadata": {},
   "outputs": [
    {
     "name": "stdout",
     "output_type": "stream",
     "text": [
      "[[0.33262788 0.26822537 0.26850638 0.32419411]\n",
      " [0.41251152 0.34163186 0.34051481 0.40091181]]\n",
      "[[0.0016445  0.0013261  0.00132749 0.00160281]\n",
      " [0.0012913  0.00106942 0.00106592 0.00125499]]\n",
      "[[3.31133128 2.67020024 2.67299773 3.22737254]\n",
      " [4.10019681 3.39568188 3.3845788  3.98490043]]\n",
      "[[0.02480066 0.01999882 0.02001978 0.02417184]\n",
      " [0.01781445 0.01475349 0.01470525 0.01731351]]\n"
     ]
    }
   ],
   "source": [
    "print(sigma41r*1e6)\n",
    "print(sigma41r_err*1e6)\n",
    "\n",
    "print(sigma41a*1e6)\n",
    "print(sigma41a_err*1e6)"
   ]
  },
  {
   "cell_type": "code",
   "execution_count": 86,
   "metadata": {},
   "outputs": [
    {
     "name": "stdout",
     "output_type": "stream",
     "text": [
      "[4.290255816819904, 7.791010128799664, 7.828998422704749, 4.657825057089577]\n",
      "[0.023330542653599483, 0.04211481797188531, 0.042359108956692086, 0.025346670296528675]\n"
     ]
    }
   ],
   "source": [
    "od41 = [1e-16*overlap_density(sigma41r[:,i], sigma41a[:,i]) for i in range(len(b41))]  # 10^-10 cm^-3\n",
    "od41_err = [1e-16*overlap_density_err(sigma41r[:,i], sigma41r_err[:,i], sigma41a[:,i], sigma41a_err[:,i]) for i in range(len(b41))]\n",
    "print(od41)\n",
    "print(od41_err)"
   ]
  },
  {
   "cell_type": "markdown",
   "metadata": {},
   "source": [
    "## 4020 (2018_08_06)"
   ]
  },
  {
   "cell_type": "markdown",
   "metadata": {},
   "source": []
  },
  {
   "cell_type": "code",
   "execution_count": 87,
   "metadata": {},
   "outputs": [],
   "source": [
    "b4020 = [0.49842794]\n",
    "b4020err = [0.0472946]"
   ]
  },
  {
   "cell_type": "markdown",
   "metadata": {},
   "source": [
    "'2018_07_08_22_21_54_temperature'\n",
    "make sure to take temperature measurements closer in the future"
   ]
  },
  {
   "cell_type": "code",
   "execution_count": 88,
   "metadata": {},
   "outputs": [],
   "source": [
    "# upgrade the temperature fitting so that I can extract an error\n",
    "# t42 = np.array([  # uK  # old\n",
    "#     [84.5, 104., 84.8, 82, 113.1],  # cs\n",
    "#     [79.1, 80.8, 62.2, 69.1, 68.8]  # rb\n",
    "# ])\n",
    "t4020 = np.array([  # uK\n",
    "    [82.5],  # cs\n",
    "    [68.7]  # rb\n",
    "])\n",
    "t4020err = np.array([  # uK\n",
    "    [11.5],  # cs\n",
    "    [9.69]  # rb\n",
    "])\n",
    "\n",
    "# I took an extra data point at high density \n",
    "acloudr4020 = np.copy(acloudr)\n",
    "# acloudr4020 = np.insert(acloudr42, 3, acloudr42[:,2], axis=1)\n",
    "# acloudr42 = np.insert(acloudr42, 4, acloudr42[:,-1], axis=1)\n",
    "# print(acloudr)\n",
    "# print(acloudr42)\n",
    "acloudr4020_err = np.copy(acloudr_err)\n",
    "# acloudr4020_err = np.insert(acloudr42_err, 3, acloudr42_err[:,2], axis=1)\n",
    "# acloudr42_err = np.insert(acloudr42_err, 4, acloudr42_err[:,-1], axis=1)\n",
    "\n",
    "aclouda4020 = np.copy(aclouda)\n",
    "# aclouda42 = np.insert(aclouda42, 3, aclouda42[:,2], axis=1)\n",
    "# aclouda42 = np.insert(aclouda42, 4, aclouda42[:,-1], axis=1)\n",
    "aclouda4020_err = np.copy(aclouda_err)\n",
    "# aclouda42_err = np.insert(aclouda42_err, 3, aclouda42_err[:,2], axis=1)\n",
    "# aclouda42_err = np.insert(aclouda42_err, 4, aclouda42_err[:,-1], axis=1)\n",
    "\n",
    "sigma4020r = acloudr4020[:,:len(t4020[0])]*np.sqrt(1e-6*t4020)\n",
    "sigma4020r_err = acloudr4020_err[:,:len(t4020[0])]*np.sqrt(1e-6*t4020)\n",
    "\n",
    "sigma4020a = aclouda4020[:,:len(t4020[0])]*np.sqrt(1e-6*t4020)\n",
    "sigma4020a_err = aclouda4020_err[:,:len(t4020[0])]*np.sqrt(1e-6*t4020)"
   ]
  },
  {
   "cell_type": "code",
   "execution_count": 89,
   "metadata": {},
   "outputs": [
    {
     "name": "stdout",
     "output_type": "stream",
     "text": [
      "[[0.31653843]\n",
      " [0.37484592]]\n",
      "[[0.00156496]\n",
      " [0.00117339]]\n",
      "[[3.15115972]\n",
      " [3.72581605]]\n",
      "[[0.02360104]\n",
      " [0.01618785]]\n"
     ]
    }
   ],
   "source": [
    "print(sigma4020r*1e6)\n",
    "print(sigma4020r_err*1e6)\n",
    "\n",
    "print(sigma4020a*1e6)\n",
    "print(sigma4020a_err*1e6)"
   ]
  },
  {
   "cell_type": "code",
   "execution_count": 90,
   "metadata": {},
   "outputs": [
    {
     "name": "stdout",
     "output_type": "stream",
     "text": [
      "[5.405672397566167]\n",
      "[0.029754417278596994]\n"
     ]
    }
   ],
   "source": [
    "od4020 = [1e-16*overlap_density(sigma4020r[:,i], sigma4020a[:,i]) for i in range(len(sigma4020r[0]))]  # 10^-10 cm^-3\n",
    "od4020_err = [1e-16*overlap_density_err(sigma4020r[:,i], sigma4020r_err[:,i], sigma4020a[:,i], sigma4020a_err[:,i]) for i in range(len(sigma4020r[0]))]\n",
    "print(od4020)\n",
    "print(od4020_err)"
   ]
  },
  {
   "cell_type": "markdown",
   "metadata": {},
   "source": [
    "# Results"
   ]
  },
  {
   "cell_type": "code",
   "execution_count": 91,
   "metadata": {},
   "outputs": [
    {
     "data": {
      "application/vnd.jupyter.widget-view+json": {
       "model_id": "3bfd476ea5c945a5883dbf40fcb2995b",
       "version_major": 2,
       "version_minor": 0
      },
      "text/html": [
       "<p>Failed to display Jupyter Widget of type <code>FigureCanvasNbAgg</code>.</p>\n",
       "<p>\n",
       "  If you're reading this message in Jupyter Notebook or JupyterLab, it may mean\n",
       "  that the widgets JavaScript is still loading. If this message persists, it\n",
       "  likely means that the widgets JavaScript library is either not installed or\n",
       "  not enabled. See the <a href=\"https://ipywidgets.readthedocs.io/en/stable/user_install.html\">Jupyter\n",
       "  Widgets Documentation</a> for setup instructions.\n",
       "</p>\n",
       "<p>\n",
       "  If you're reading this message in another notebook frontend (for example, a static\n",
       "  rendering on GitHub or <a href=\"https://nbviewer.jupyter.org/\">NBViewer</a>),\n",
       "  it may mean that your frontend doesn't currently support widgets.\n",
       "</p>\n"
      ],
      "text/plain": [
       "FigureCanvasNbAgg()"
      ]
     },
     "metadata": {},
     "output_type": "display_data"
    },
    {
     "name": "stderr",
     "output_type": "stream",
     "text": [
      "/usr/local/lib/python2.7/dist-packages/ipykernel_launcher.py:23: FutureWarning: `rcond` parameter will change to the default of machine precision times ``max(M, N)`` where M and N are the input matrix dimensions.\n",
      "To use the future default and silence this warning we advise to pass `rcond=None`, to keep using the old, explicitly pass `rcond=-1`.\n"
     ]
    },
    {
     "name": "stdout",
     "output_type": "stream",
     "text": [
      "42: 6.6310 x10^-12 cm^3/s\n",
      "41: 10.7896 x10^-12 cm^3/s\n",
      "32: 6.2352 x10^-12 cm^3/s\n",
      "31: 0.1659 x10^-12 cm^3/s\n",
      "4020: 9.2205 x10^-12 cm^3/s\n"
     ]
    }
   ],
   "source": [
    "fig, ax = plt.subplots(figsize=(2*3.375,4.5))\n",
    "\n",
    "marker_styles = [\n",
    "    dict(color='cornflowerblue', marker='^', markeredgecolor='b', linestyle='None', markersize=8),\n",
    "    dict(color='indianred', marker='o', markeredgecolor='r', linestyle='None', markersize=8),\n",
    "    dict(color='chartreuse', marker='d', markeredgecolor='g', linestyle='None', markersize=8),\n",
    "    dict(color='plum', marker='v', markeredgecolor='darkmagenta', linestyle='None', markersize=8),\n",
    "    dict(color='gainsboro', marker='s', markeredgecolor='dimgray', linestyle='None', markersize=8),\n",
    "]\n",
    "\n",
    "ods = [od42, od41, od32, od31, od4020]\n",
    "od_errs = [od42_err, od41_err, od32_err, od31_err, od4020_err]\n",
    "bs = [b42, b41, b32, b31, b4020]\n",
    "b_errs = np.array([b42err, b41err, b32err, b31err, b4020err])\n",
    "\n",
    "leg = ['42','41','32','31','4020']\n",
    "as_ = []\n",
    "xlim = 10\n",
    "for hf in range(len(ods)):\n",
    "    W = np.diag(np.power(b_errs[hf], -0.5))  # weight matrix\n",
    "    Aw = np.dot(W, np.array(ods[hf])[:,np.newaxis])\n",
    "    Bw = np.dot(bs[hf], W)\n",
    "    a, _, _, _ = np.linalg.lstsq(Aw, Bw)\n",
    "    print('{}: {:.4f} x10^-12 cm^3/s'.format(leg[hf], a[0]*1e2))\n",
    "    as_.append(a[0])\n",
    "    xs = np.linspace(0,xlim,2)\n",
    "    ax.plot(xs, a*xs, color=marker_styles[hf]['markeredgecolor'], linestyle='--')\n",
    "    ax.errorbar(\n",
    "        ods[hf], bs[hf], xerr=od_errs[hf], yerr=b_errs[hf],\n",
    "        label=leg[hf], **marker_styles[hf]\n",
    "    )\n",
    "    \n",
    "ax.set_xlim(0,xlim)\n",
    "ax.set_ylim(0,1.)\n",
    "ax.grid()\n",
    "ax.set_xlabel(r\"Density Overlap ($\\times 10^{10}\\cdot$cm$^{-3}$)\", fontsize=14)\n",
    "ax.set_ylabel(r\"$\\gamma_{CsRb}$ (s$^{-1}$)\", fontsize=14)\n",
    "ax.legend(bbox_to_anchor=(0.2, 0.95), loc=1, borderaxespad=0., fontsize=14)\n",
    "plt.tight_layout()\n",
    "\n",
    "out = '/home/ebert/jupyter-notebooks/FNode/analyses/CollisionPaper/'\n",
    "fmts = ['pdf', 'png', 'eps']\n",
    "fn = os.path.join(out, 'beta-data_{}.{}')\n",
    "for fmt in fmts:\n",
    "    fig.savefig(fn.format(time.strftime(\"%Y%m%d_%H%M%S\"), fmt), dpi=200, format=fmt)"
   ]
  },
  {
   "cell_type": "code",
   "execution_count": 92,
   "metadata": {},
   "outputs": [
    {
     "data": {
      "application/vnd.jupyter.widget-view+json": {
       "model_id": "df85c6c39ac749d19888e2a7de6ea223",
       "version_major": 2,
       "version_minor": 0
      },
      "text/html": [
       "<p>Failed to display Jupyter Widget of type <code>FigureCanvasNbAgg</code>.</p>\n",
       "<p>\n",
       "  If you're reading this message in Jupyter Notebook or JupyterLab, it may mean\n",
       "  that the widgets JavaScript is still loading. If this message persists, it\n",
       "  likely means that the widgets JavaScript library is either not installed or\n",
       "  not enabled. See the <a href=\"https://ipywidgets.readthedocs.io/en/stable/user_install.html\">Jupyter\n",
       "  Widgets Documentation</a> for setup instructions.\n",
       "</p>\n",
       "<p>\n",
       "  If you're reading this message in another notebook frontend (for example, a static\n",
       "  rendering on GitHub or <a href=\"https://nbviewer.jupyter.org/\">NBViewer</a>),\n",
       "  it may mean that your frontend doesn't currently support widgets.\n",
       "</p>\n"
      ],
      "text/plain": [
       "FigureCanvasNbAgg()"
      ]
     },
     "metadata": {},
     "output_type": "display_data"
    },
    {
     "name": "stdout",
     "output_type": "stream",
     "text": [
      "0\n",
      "[ 84.2   135.6   105.625 105.625  72.   ]\n",
      "[0.49899089, 0.5545054, 0.43417923, 0.42319934, 0.36130645]\n",
      "1\n",
      "[ 84.2   135.6   135.6    72.    105.625  72.   ]\n",
      "[0.56903, 0.79787923, 0.81842229, 0.5090469]\n",
      "2\n",
      "[ 84.2   135.6    72.    105.625  72.   ]\n",
      "[0.31543102, 0.431680344, 0.28897518]\n",
      "3\n",
      "[ 84.2 135.6]\n",
      "[0.01931074, 4.22298583e-16]\n"
     ]
    }
   ],
   "source": [
    "fig, ax = plt.subplots(figsize=(2*3.375,4.5))\n",
    "\n",
    "u_pows = [u_power42, u_power41, u_power32, u_power31]\n",
    "\n",
    "leg = ['42','41','32','31']\n",
    "\n",
    "\n",
    "for hf in range(len(u_pows)):\n",
    "#     W = np.diag(np.power(b_errs[hf], -0.5))  # weight matrix\n",
    "#     Aw = np.dot(W, np.array(ods[hf])[:,np.newaxis])\n",
    "#     Bw = np.dot(bs[hf], W)\n",
    "#     a, _, _, _ = np.linalg.lstsq(Aw, Bw)\n",
    "#     print('{}: {:.4f} x10^-12 cm^3/s'.format(leg[hf], a[0]*1e2))\n",
    "#     as_.append(a[0])\n",
    "#     xs = np.linspace(0,xlim,2)\n",
    "#     ax.plot(xs, a*xs, color=marker_styles[hf]['markeredgecolor'], linestyle='--')\n",
    "    print(hf)\n",
    "    print(u_pows[hf])\n",
    "    print(bs[hf])\n",
    "    ax.errorbar(\n",
    "        u_pows[hf][:len(bs[hf])], bs[hf], yerr=b_errs[hf],\n",
    "        label=leg[hf], **marker_styles[hf]\n",
    "    )\n",
    "ax.set_xlim(0,140)\n",
    "ax.set_ylim(0,1.)\n",
    "ax.grid()\n",
    "ax.set_xlabel(r\"ODT Power (mV)\", fontsize=14)\n",
    "ax.set_ylabel(r\"$\\gamma_{CsRb}$ (s$^{-1}$)\", fontsize=14)\n",
    "ax.legend(bbox_to_anchor=(0.2, 0.95), loc=1, borderaxespad=0., fontsize=14)\n",
    "plt.tight_layout()\n"
   ]
  },
  {
   "cell_type": "code",
   "execution_count": 93,
   "metadata": {},
   "outputs": [
    {
     "ename": "ValueError",
     "evalue": "operands could not be broadcast together with shapes (5,) (4,) ",
     "output_type": "error",
     "traceback": [
      "\u001b[0;31m\u001b[0m",
      "\u001b[0;31mValueError\u001b[0mTraceback (most recent call last)",
      "\u001b[0;32m<ipython-input-93-8435dca29f6f>\u001b[0m in \u001b[0;36m<module>\u001b[0;34m()\u001b[0m\n\u001b[1;32m      3\u001b[0m     \u001b[0mvbar_csrb\u001b[0m\u001b[0;34m(\u001b[0m\u001b[0;34m*\u001b[0m\u001b[0;34m(\u001b[0m\u001b[0mt41\u001b[0m\u001b[0;34m[\u001b[0m\u001b[0;34m:\u001b[0m\u001b[0;34m,\u001b[0m\u001b[0;36m0\u001b[0m\u001b[0;34m]\u001b[0m\u001b[0;34m*\u001b[0m\u001b[0;36m1e-6\u001b[0m\u001b[0;34m)\u001b[0m\u001b[0;34m)\u001b[0m\u001b[0;34m,\u001b[0m\u001b[0;34m\u001b[0m\u001b[0m\n\u001b[1;32m      4\u001b[0m     \u001b[0mvbar_csrb\u001b[0m\u001b[0;34m(\u001b[0m\u001b[0;34m*\u001b[0m\u001b[0;34m(\u001b[0m\u001b[0mt32\u001b[0m\u001b[0;34m[\u001b[0m\u001b[0;34m:\u001b[0m\u001b[0;34m,\u001b[0m\u001b[0;36m0\u001b[0m\u001b[0;34m]\u001b[0m\u001b[0;34m*\u001b[0m\u001b[0;36m1e-6\u001b[0m\u001b[0;34m)\u001b[0m\u001b[0;34m)\u001b[0m\u001b[0;34m,\u001b[0m\u001b[0;34m\u001b[0m\u001b[0m\n\u001b[0;32m----> 5\u001b[0;31m     \u001b[0mvbar_csrb\u001b[0m\u001b[0;34m(\u001b[0m\u001b[0;34m*\u001b[0m\u001b[0;34m(\u001b[0m\u001b[0mt31\u001b[0m\u001b[0;34m[\u001b[0m\u001b[0;34m:\u001b[0m\u001b[0;34m,\u001b[0m\u001b[0;36m0\u001b[0m\u001b[0;34m]\u001b[0m\u001b[0;34m*\u001b[0m\u001b[0;36m1e-6\u001b[0m\u001b[0;34m)\u001b[0m\u001b[0;34m)\u001b[0m\u001b[0;34m\u001b[0m\u001b[0m\n\u001b[0m\u001b[1;32m      6\u001b[0m ]))\n",
      "\u001b[0;31mValueError\u001b[0m: operands could not be broadcast together with shapes (5,) (4,) "
     ]
    }
   ],
   "source": [
    "xsec_cm2 = np.divide(np.array(as_)*1e-10, 100*np.array([\n",
    "    vbar_csrb(*(t42[:,0]*1e-6)),\n",
    "    vbar_csrb(*(t41[:,0]*1e-6)),\n",
    "    vbar_csrb(*(t32[:,0]*1e-6)),\n",
    "    vbar_csrb(*(t31[:,0]*1e-6))\n",
    "]))"
   ]
  },
  {
   "cell_type": "code",
   "execution_count": 94,
   "metadata": {},
   "outputs": [
    {
     "ename": "NameError",
     "evalue": "name 'xsec_cm2' is not defined",
     "output_type": "error",
     "traceback": [
      "\u001b[0;31m\u001b[0m",
      "\u001b[0;31mNameError\u001b[0mTraceback (most recent call last)",
      "\u001b[0;32m<ipython-input-94-48ac769441f1>\u001b[0m in \u001b[0;36m<module>\u001b[0;34m()\u001b[0m\n\u001b[0;32m----> 1\u001b[0;31m \u001b[0;32mprint\u001b[0m\u001b[0;34m(\u001b[0m\u001b[0mxsec_cm2\u001b[0m\u001b[0;34m)\u001b[0m\u001b[0;34m\u001b[0m\u001b[0m\n\u001b[0m",
      "\u001b[0;31mNameError\u001b[0m: name 'xsec_cm2' is not defined"
     ]
    }
   ],
   "source": [
    "print(xsec_cm2)"
   ]
  },
  {
   "cell_type": "code",
   "execution_count": 95,
   "metadata": {},
   "outputs": [
    {
     "data": {
      "text/plain": [
       "[0.31543102, 0.431680344, 0.28897518]"
      ]
     },
     "execution_count": 95,
     "metadata": {},
     "output_type": "execute_result"
    }
   ],
   "source": [
    "b32"
   ]
  },
  {
   "cell_type": "code",
   "execution_count": 96,
   "metadata": {},
   "outputs": [
    {
     "data": {
      "text/plain": [
       "[0.07386109, 0.08785919, 0.06680952, 0.04280821]"
      ]
     },
     "execution_count": 96,
     "metadata": {},
     "output_type": "execute_result"
    }
   ],
   "source": [
    "b41err"
   ]
  },
  {
   "cell_type": "code",
   "execution_count": 97,
   "metadata": {},
   "outputs": [
    {
     "name": "stdout",
     "output_type": "stream",
     "text": [
      "[ 84.5 104.   84.8  82.  113.1]\n",
      "[91.1 95.4 95.6 74. ]\n",
      "[97.4 99.2 83.3]\n",
      "[84.5 92.5]\n"
     ]
    }
   ],
   "source": [
    "print(t42[0])\n",
    "print(t41[0])\n",
    "print(t32[0])\n",
    "print(t31[0])"
   ]
  },
  {
   "cell_type": "code",
   "execution_count": 98,
   "metadata": {},
   "outputs": [
    {
     "name": "stdout",
     "output_type": "stream",
     "text": [
      "[79.1 80.8 62.2 69.1 68.8]\n",
      "[83.2 91.9 91.3 67.2]\n",
      "[75.3 89.5 67.2]\n",
      "[79.1 94.1]\n"
     ]
    }
   ],
   "source": [
    "print(t42[1])\n",
    "print(t41[1])\n",
    "print(t32[1])\n",
    "print(t31[1])"
   ]
  },
  {
   "cell_type": "code",
   "execution_count": 99,
   "metadata": {},
   "outputs": [
    {
     "name": "stdout",
     "output_type": "stream",
     "text": [
      "[ 5.4 23.2 22.6 12.9 44.3]\n",
      "[7.9 3.5 4.3 6.8]\n",
      "[22.1  9.7 16.1]\n",
      "[ 5.4 -1.6]\n"
     ]
    }
   ],
   "source": [
    "print(t42[0]-t42[1])\n",
    "print(t41[0]-t41[1])\n",
    "print(t32[0]-t32[1])\n",
    "print(t31[0]-t31[1])"
   ]
  },
  {
   "cell_type": "code",
   "execution_count": 100,
   "metadata": {},
   "outputs": [
    {
     "data": {
      "text/plain": [
       "array([1.06267337e-11, 6.69144502e-12, 5.34688212e-12, 5.57932631e-12,\n",
       "       1.04968472e-11])"
      ]
     },
     "execution_count": 100,
     "metadata": {},
     "output_type": "execute_result"
    }
   ],
   "source": [
    "np.divide(b42,np.array(od42)*1e10)"
   ]
  },
  {
   "cell_type": "code",
   "execution_count": 101,
   "metadata": {},
   "outputs": [
    {
     "data": {
      "text/plain": [
       "array([[ 84.5,  79.1],\n",
       "       [104. ,  80.8],\n",
       "       [ 84.8,  62.2],\n",
       "       [ 82. ,  69.1],\n",
       "       [113.1,  68.8]])"
      ]
     },
     "execution_count": 101,
     "metadata": {},
     "output_type": "execute_result"
    }
   ],
   "source": [
    "t42.T"
   ]
  },
  {
   "cell_type": "code",
   "execution_count": 102,
   "metadata": {},
   "outputs": [],
   "source": [
    "def vbar(t12):\n",
    "    return np.sqrt(8*k*(t12[0]/mCs + t12[1]/mRb)*1e-6/np.pi)\n",
    "\n",
    "def therm(t12):\n",
    "    return (mCs*t12[1] + mRb*t12[0])/(mCs+mRb)"
   ]
  },
  {
   "cell_type": "code",
   "execution_count": 103,
   "metadata": {},
   "outputs": [],
   "source": [
    "t42_rel = 1e6*(0.5*(mRb*mCs/(mRb+mCs))*vbar(t42)**2)/k"
   ]
  },
  {
   "cell_type": "code",
   "execution_count": 104,
   "metadata": {},
   "outputs": [
    {
     "data": {
      "application/vnd.jupyter.widget-view+json": {
       "model_id": "8f30f5005dc54f079f54a7960491d321",
       "version_major": 2,
       "version_minor": 0
      },
      "text/html": [
       "<p>Failed to display Jupyter Widget of type <code>FigureCanvasNbAgg</code>.</p>\n",
       "<p>\n",
       "  If you're reading this message in Jupyter Notebook or JupyterLab, it may mean\n",
       "  that the widgets JavaScript is still loading. If this message persists, it\n",
       "  likely means that the widgets JavaScript library is either not installed or\n",
       "  not enabled. See the <a href=\"https://ipywidgets.readthedocs.io/en/stable/user_install.html\">Jupyter\n",
       "  Widgets Documentation</a> for setup instructions.\n",
       "</p>\n",
       "<p>\n",
       "  If you're reading this message in another notebook frontend (for example, a static\n",
       "  rendering on GitHub or <a href=\"https://nbviewer.jupyter.org/\">NBViewer</a>),\n",
       "  it may mean that your frontend doesn't currently support widgets.\n",
       "</p>\n"
      ],
      "text/plain": [
       "FigureCanvasNbAgg()"
      ]
     },
     "metadata": {},
     "output_type": "display_data"
    }
   ],
   "source": [
    "fig, ax = plt.subplots(figsize=(2*3.375,4.5))\n",
    "# ods = [od42, od41, od32, od31]\n",
    "# od_errs = [od42_err, od41_err, od32_err, od31_err]\n",
    "# bs = [b42, b41, b32, b31]\n",
    "# b_errs = np.array([b42err, b41err, b32err, b31err])\n",
    "ts = [t42, t41, t32, t31, t4020]\n",
    "\n",
    "infiles = [ os.path.join('theory','20180801',fn) for fn in ['out.24.thermal','out.14.thermal','out.23.thermal'] ]\n",
    "\n",
    "leg = ['42','41','32','31','4020']\n",
    "fudge = 1\n",
    "for hf in range(len(ts)):\n",
    "    ax.errorbar(\n",
    "        therm(ts[hf]),\n",
    "        np.divide(bs[hf], ods[hf])*1e2,\n",
    "        yerr=np.divide(b_errs[hf], ods[hf])*1e2,\n",
    "        label=leg[hf], **marker_styles[hf]\n",
    "    )\n",
    "    if hf < len(infiles):\n",
    "        thdata = np.loadtxt(infiles[hf])\n",
    "        ax.plot(thdata[:,0], fudge*thdata[:,1]*1e12, color=marker_styles[hf]['color'])\n",
    "    \n",
    "ax.set_xlim(0,150)\n",
    "ax.set_ylim(0,15)\n",
    "ax.grid()\n",
    "ax.set_xlabel(r\"$T_{eff}$ ($\\mu$K)\", fontsize=14)\n",
    "ax.set_ylabel(r\"$\\beta_{CsRb}$ ($\\times 10^{-12}$ cm$^3$/s)\", fontsize=14)\n",
    "ax.legend(bbox_to_anchor=(0.2, 0.95), loc=1, borderaxespad=0., fontsize=14)\n",
    "plt.tight_layout()\n",
    "\n",
    "out = '/home/ebert/jupyter-notebooks/FNode/analyses/CollisionPaper/'\n",
    "fmts = ['pdf', 'png', 'eps']\n",
    "fn = os.path.join(out, 'T-v-beta_{}.{}')\n",
    "for fmt in fmts:\n",
    "    fig.savefig(fn.format(time.strftime(\"%Y%m%d_%H%M%S\"), fmt), dpi=200, format=fmt)"
   ]
  },
  {
   "cell_type": "code",
   "execution_count": 100,
   "metadata": {},
   "outputs": [
    {
     "data": {
      "text/plain": [
       "[0, 1, 2]"
      ]
     },
     "execution_count": 100,
     "metadata": {},
     "output_type": "execute_result"
    }
   ],
   "source": [
    "range(len(infiles))"
   ]
  },
  {
   "cell_type": "code",
   "execution_count": 97,
   "metadata": {},
   "outputs": [
    {
     "data": {
      "text/plain": [
       "array([[  2.50000000e+01,   1.49064000e-12],\n",
       "       [  3.00000000e+01,   1.46060000e-12],\n",
       "       [  3.50000000e+01,   1.43857000e-12],\n",
       "       [  4.00000000e+01,   1.42059000e-12],\n",
       "       [  4.50000000e+01,   1.40465000e-12],\n",
       "       [  5.00000000e+01,   1.38972000e-12],\n",
       "       [  5.50000000e+01,   1.37531000e-12],\n",
       "       [  6.00000000e+01,   1.36119000e-12],\n",
       "       [  6.50000000e+01,   1.34727000e-12],\n",
       "       [  7.00000000e+01,   1.33354000e-12],\n",
       "       [  7.50000000e+01,   1.32001000e-12],\n",
       "       [  8.00000000e+01,   1.30670000e-12],\n",
       "       [  8.50000000e+01,   1.29365000e-12],\n",
       "       [  9.00000000e+01,   1.28088000e-12],\n",
       "       [  9.50000000e+01,   1.26841000e-12],\n",
       "       [  1.00000000e+02,   1.25626000e-12],\n",
       "       [  1.05000000e+02,   1.24445000e-12],\n",
       "       [  1.10000000e+02,   1.23298000e-12],\n",
       "       [  1.15000000e+02,   1.22185000e-12],\n",
       "       [  1.20000000e+02,   1.21107000e-12],\n",
       "       [  1.25000000e+02,   1.20064000e-12],\n",
       "       [  1.30000000e+02,   1.19055000e-12],\n",
       "       [  1.35000000e+02,   1.18080000e-12],\n",
       "       [  1.40000000e+02,   1.17138000e-12],\n",
       "       [  1.45000000e+02,   1.16228000e-12],\n",
       "       [  1.50000000e+02,   1.15351000e-12],\n",
       "       [  1.55000000e+02,   1.14504000e-12],\n",
       "       [  1.60000000e+02,   1.13687000e-12],\n",
       "       [  1.65000000e+02,   1.12899000e-12],\n",
       "       [  1.70000000e+02,   1.12140000e-12],\n",
       "       [  1.75000000e+02,   1.11408000e-12],\n",
       "       [  1.80000000e+02,   1.10702000e-12],\n",
       "       [  1.85000000e+02,   1.10021000e-12],\n",
       "       [  1.90000000e+02,   1.09365000e-12],\n",
       "       [  1.95000000e+02,   1.08733000e-12],\n",
       "       [  2.00000000e+02,   1.08124000e-12]])"
      ]
     },
     "execution_count": 97,
     "metadata": {},
     "output_type": "execute_result"
    }
   ],
   "source": []
  },
  {
   "cell_type": "code",
   "execution_count": null,
   "metadata": {},
   "outputs": [],
   "source": []
  }
 ],
 "metadata": {
  "kernelspec": {
   "display_name": "Python 2",
   "language": "python",
   "name": "python2"
  },
  "language_info": {
   "codemirror_mode": {
    "name": "ipython",
    "version": 2
   },
   "file_extension": ".py",
   "mimetype": "text/x-python",
   "name": "python",
   "nbconvert_exporter": "python",
   "pygments_lexer": "ipython2",
   "version": "2.7.6"
  }
 },
 "nbformat": 4,
 "nbformat_minor": 2
}
