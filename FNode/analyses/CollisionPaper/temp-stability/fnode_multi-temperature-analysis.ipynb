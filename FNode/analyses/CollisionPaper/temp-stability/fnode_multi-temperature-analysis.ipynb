{
 "cells": [
  {
   "cell_type": "code",
   "execution_count": 1,
   "metadata": {},
   "outputs": [],
   "source": [
    "%matplotlib ipympl\n",
    "from QDP import qdp, atom\n",
    "import os.path\n",
    "import numpy as np\n",
    "from scipy.stats import poisson\n",
    "import matplotlib.pyplot as plt\n",
    "from scipy import optimize"
   ]
  },
  {
   "cell_type": "code",
   "execution_count": 2,
   "metadata": {},
   "outputs": [
    {
     "name": "stdout",
     "output_type": "stream",
     "text": [
      "data at: 2018_07_26/2018_07_26_15_08_02_temperature-scan-8.5-20x/results.hdf5\n",
      "name 'fort_exp' is not defined\n",
      "name 'rb_uwave_freq' is not defined\n",
      "fort off time (us)\n"
     ]
    },
    {
     "name": "stderr",
     "output_type": "stream",
     "text": [
      "/home/ebert/jupyter-notebooks/FNode/analyses/qdp/QDP/qdp.py:131: RuntimeWarning: overflow encountered in double_scalars\n",
      "  errs[r] = (z/n[r].astype('float'))*np.sqrt(ns[r].astype('float')*(1.0-ns[r].astype('float')/n[r].astype('float')))\n",
      "/home/ebert/jupyter-notebooks/FNode/analyses/qdp/QDP/qdp.py:131: RuntimeWarning: invalid value encountered in sqrt\n",
      "  errs[r] = (z/n[r].astype('float'))*np.sqrt(ns[r].astype('float')*(1.0-ns[r].astype('float')/n[r].astype('float')))\n"
     ]
    }
   ],
   "source": [
    "dp = '/home/ebert/jupyter-notebooks/FNode-data'\n",
    "exclude = [2]\n",
    "exp_name = '2018_07_26_15_08_02_temperature-scan-8.5-20x'\n",
    "if exp_name:\n",
    "    exp_date = '_'.join(exp_name.split('_')[:3])\n",
    "    experiment_file = os.path.join(exp_date, exp_name, 'results.hdf5')\n",
    "else:\n",
    "    experiment_file = ''\n",
    "q = qdp.QDP(base_data_path=dp)\n",
    "q.load_data_file(experiment_file)\n",
    "\n",
    "cs_cuts = [[33],[3]]\n",
    "rb_cuts = [[32],[3]]\n",
    "marker_styles = [\n",
    "    dict(color='cornflowerblue', marker='o', markeredgecolor='b', linestyle='None'),\n",
    "    dict(color='indianred', marker='d', markeredgecolor='r', linestyle='None')\n",
    "]\n",
    "q.set_thresholds(cs_cuts, roi=0)\n",
    "q.set_thresholds(rb_cuts, roi=1)\n",
    "# q.generate_thresholds(loss=False)\n",
    "retention = q.apply_thresholds(exclude_rois=exclude, ncondition=1)\n",
    "\n",
    "xlab = q.experiments[0]['variable_desc'][q.experiments[0]['variable_list'][0]]['description']\n",
    "print(xlab)"
   ]
  },
  {
   "cell_type": "code",
   "execution_count": 28,
   "metadata": {},
   "outputs": [
    {
     "data": {
      "application/vnd.jupyter.widget-view+json": {
       "model_id": "9549edccc1a84de48f1a914a7aa57227",
       "version_major": 2,
       "version_minor": 0
      },
      "text/html": [
       "<p>Failed to display Jupyter Widget of type <code>FigureCanvasNbAgg</code>.</p>\n",
       "<p>\n",
       "  If you're reading this message in Jupyter Notebook or JupyterLab, it may mean\n",
       "  that the widgets JavaScript is still loading. If this message persists, it\n",
       "  likely means that the widgets JavaScript library is either not installed or\n",
       "  not enabled. See the <a href=\"https://ipywidgets.readthedocs.io/en/stable/user_install.html\">Jupyter\n",
       "  Widgets Documentation</a> for setup instructions.\n",
       "</p>\n",
       "<p>\n",
       "  If you're reading this message in another notebook frontend (for example, a static\n",
       "  rendering on GitHub or <a href=\"https://nbviewer.jupyter.org/\">NBViewer</a>),\n",
       "  it may mean that your frontend doesn't currently support widgets.\n",
       "</p>\n"
      ],
      "text/plain": [
       "FigureCanvasNbAgg()"
      ]
     },
     "metadata": {},
     "output_type": "display_data"
    }
   ],
   "source": [
    "fig, ax = plt.subplots()\n",
    "\n",
    "ax.set_ylim(0,1)\n",
    "for i in range(len(retention['ivar'][0,0])/11):\n",
    "    ax.plot(retention['ivar'][0,0,:11], retention['conditional_retention'][0,:,0].reshape(-1,11)[i], linestyle='None', marker='o')"
   ]
  },
  {
   "cell_type": "code",
   "execution_count": 30,
   "metadata": {},
   "outputs": [
    {
     "data": {
      "application/vnd.jupyter.widget-view+json": {
       "model_id": "851f10efab30428e9969791330166648",
       "version_major": 2,
       "version_minor": 0
      },
      "text/html": [
       "<p>Failed to display Jupyter Widget of type <code>FigureCanvasNbAgg</code>.</p>\n",
       "<p>\n",
       "  If you're reading this message in Jupyter Notebook or JupyterLab, it may mean\n",
       "  that the widgets JavaScript is still loading. If this message persists, it\n",
       "  likely means that the widgets JavaScript library is either not installed or\n",
       "  not enabled. See the <a href=\"https://ipywidgets.readthedocs.io/en/stable/user_install.html\">Jupyter\n",
       "  Widgets Documentation</a> for setup instructions.\n",
       "</p>\n",
       "<p>\n",
       "  If you're reading this message in another notebook frontend (for example, a static\n",
       "  rendering on GitHub or <a href=\"https://nbviewer.jupyter.org/\">NBViewer</a>),\n",
       "  it may mean that your frontend doesn't currently support widgets.\n",
       "</p>\n"
      ],
      "text/plain": [
       "FigureCanvasNbAgg()"
      ]
     },
     "metadata": {},
     "output_type": "display_data"
    }
   ],
   "source": [
    "fig, ax = plt.subplots()\n",
    "ax.set_ylim(0,1)\n",
    "for i in range(len(retention['ivar'][0,0])/11):\n",
    "    ax.plot(retention['ivar'][0,0,:11], retention['conditional_retention'][0,:,1].reshape(-1,11)[i], linestyle='None', marker='d')"
   ]
  },
  {
   "cell_type": "code",
   "execution_count": 49,
   "metadata": {},
   "outputs": [],
   "source": [
    "q.save_experiment_data(filename_prefix='cooling_attempt_data')"
   ]
  },
  {
   "cell_type": "code",
   "execution_count": 75,
   "metadata": {},
   "outputs": [],
   "source": [
    "def fnode_release_recapture(t, T_uk, a='cs'):\n",
    "    wr_um = 2.4\n",
    "    zr_um = 17  # calculated\n",
    "    pfort_nom = 90.  # 80 mV on detector\n",
    "    pfort_act = 84  # mV on detector\n",
    "    fort_depth_fac = pfort_act/pfort_nom\n",
    "    if a == 'cs':\n",
    "        U_mk = 1.27*fort_depth_fac\n",
    "        fr_khz = 37.4*np.sqrt(fort_depth_fac)\n",
    "        fa_khz = 3.730*np.sqrt(fort_depth_fac)\n",
    "        m_au = 132.905\n",
    "    else:  # rb\n",
    "        U_mk = 0.744*fort_depth_fac\n",
    "        fr_khz = 35.4*np.sqrt(fort_depth_fac)\n",
    "        fa_khz = 3.57*np.sqrt(fort_depth_fac)\n",
    "        m_au = 86.909\n",
    "    n=50000\n",
    "    try:\n",
    "        res = np.zeros(len(t))\n",
    "        for i in xrange(len(t)):\n",
    "            res[i] = atom.release_recapture(t[i], T_uk, U_mk, wr_um, zr_um, fr_khz, fa_khz, n=n, m_au=m_au)\n",
    "        return res\n",
    "    except Exception as e:\n",
    "        print(e)\n",
    "        return atom.release_recapture(t, T_uk, U_mk, wr_um, zr_um, fr_khz, fa_khz, n=n, m_au=m_au)\n",
    "\n",
    "def residuals(x, y, t, e, a='cs'):\n",
    "    T_uk = x[0]\n",
    "    f0 = x[1]\n",
    "    res = (y - f0*fnode_release_recapture(t, T_uk, a=a))*np.power(e,-2)\n",
    "    #print \"T_uk = {}, -> {}\".format(T_uk, np.sum(np.power(res, 2)))\n",
    "    return res\n",
    "\n",
    "def ls_err(x, y, t, f0, w, a='cs'):\n",
    "    res = residuals(T_uk, y, t, f0, a=a)\n",
    "    return np.dot(np.power(res, 2), w)"
   ]
  },
  {
   "cell_type": "code",
   "execution_count": 77,
   "metadata": {
    "scrolled": false
   },
   "outputs": [
    {
     "data": {
      "application/vnd.jupyter.widget-view+json": {
       "model_id": "9e43a55098f14dce820ddabd6208bc5a",
       "version_major": 2,
       "version_minor": 0
      },
      "text/html": [
       "<p>Failed to display Jupyter Widget of type <code>FigureCanvasNbAgg</code>.</p>\n",
       "<p>\n",
       "  If you're reading this message in Jupyter Notebook or JupyterLab, it may mean\n",
       "  that the widgets JavaScript is still loading. If this message persists, it\n",
       "  likely means that the widgets JavaScript library is either not installed or\n",
       "  not enabled. See the <a href=\"https://ipywidgets.readthedocs.io/en/stable/user_install.html\">Jupyter\n",
       "  Widgets Documentation</a> for setup instructions.\n",
       "</p>\n",
       "<p>\n",
       "  If you're reading this message in another notebook frontend (for example, a static\n",
       "  rendering on GitHub or <a href=\"https://nbviewer.jupyter.org/\">NBViewer</a>),\n",
       "  it may mean that your frontend doesn't currently support widgets.\n",
       "</p>\n"
      ],
      "text/plain": [
       "FigureCanvasNbAgg()"
      ]
     },
     "metadata": {},
     "output_type": "display_data"
    },
    {
     "name": "stdout",
     "output_type": "stream",
     "text": [
      "7.22127708342\n",
      "7.44868606849\n",
      "4.73896511895\n",
      "6.35419630979\n",
      "5.18872311982\n",
      "13.1179225094\n",
      "6.3662879227\n",
      "5.20776142827\n",
      "7.27973207396\n",
      "5.26702370539\n",
      "5.35874085664\n",
      "7.22830076938\n",
      "8.16823704547\n",
      "5.51693193001\n",
      "8.03535372299\n",
      "9.37492624512\n",
      "7.89216626505\n",
      "8.56444619065\n",
      "8.91497936479\n",
      "6.15758222582\n"
     ]
    },
    {
     "data": {
      "text/plain": [
       "Text(0,0.5,u'retention')"
      ]
     },
     "execution_count": 77,
     "metadata": {},
     "output_type": "execute_result"
    }
   ],
   "source": [
    "fig, ax = plt.subplots()\n",
    "T_opts = []\n",
    "T_uncerts = []\n",
    "T_opt = 90.  # initial temperature guess\n",
    "\n",
    "for e in range(len(retention['ivar'][0,0])/11):\n",
    "    ax.errorbar(retention['ivar'][0,0,:11], retention['conditional_retention'][0,:,0].reshape(-1,11)[e],\n",
    "                yerr=retention['conditional_retention_err'][0,:,0].reshape(-1,11)[e],\n",
    "                fmt = 'o'\n",
    "    )\n",
    "    p0 = np.mean(retention['conditional_retention'][0,:,0].reshape(-1,11)[e,:2])\n",
    "    guess = (T_opt, p0)\n",
    "    x = optimize.least_squares(\n",
    "        residuals,\n",
    "        guess,\n",
    "        args=(retention['conditional_retention'][0,:,0].reshape(-1,11)[e], retention['ivar'][0,0,:11], retention['conditional_retention_err'][0,:,0].reshape(-1,11)[e]),\n",
    "        diff_step=0.05,\n",
    "        xtol=0.01\n",
    "    )\n",
    "    if x['success']:\n",
    "        T_opt = x['x'][0]\n",
    "    T_opts.append(T_opt)\n",
    "    \n",
    "    J = x.jac\n",
    "    res = residuals(x['x'], retention['conditional_retention'][0,:,0].reshape(-1,11)[e], retention['ivar'][0,0,:11], retention['conditional_retention_err'][0,:,0].reshape(-1,11)[e])\n",
    "    ucert = np.sqrt(np.abs(np.linalg.inv(J.T.dot(J)) * (res**2).mean())[0,0])\n",
    "    T_uncerts.append(ucert)\n",
    "    print ucert\n",
    "\n",
    "    xs = np.linspace(0, 26, 30)\n",
    "    ax.plot(xs, fnode_release_recapture(xs, T_opt)*x['x'][1], 'k-')\n",
    "    ax.text(1, 0.4-e*0.07, \"T = {:.1f} uK\".format(T_opt))\n",
    "    \n",
    "ax.set_ylim(0, 1.05)\n",
    "ax.set_xlabel(xlab)\n",
    "ax.set_ylabel('retention')"
   ]
  },
  {
   "cell_type": "code",
   "execution_count": 78,
   "metadata": {},
   "outputs": [
    {
     "data": {
      "application/vnd.jupyter.widget-view+json": {
       "model_id": "6007ced1bbd246a1b2f2f26034c0c8f1",
       "version_major": 2,
       "version_minor": 0
      },
      "text/html": [
       "<p>Failed to display Jupyter Widget of type <code>FigureCanvasNbAgg</code>.</p>\n",
       "<p>\n",
       "  If you're reading this message in Jupyter Notebook or JupyterLab, it may mean\n",
       "  that the widgets JavaScript is still loading. If this message persists, it\n",
       "  likely means that the widgets JavaScript library is either not installed or\n",
       "  not enabled. See the <a href=\"https://ipywidgets.readthedocs.io/en/stable/user_install.html\">Jupyter\n",
       "  Widgets Documentation</a> for setup instructions.\n",
       "</p>\n",
       "<p>\n",
       "  If you're reading this message in another notebook frontend (for example, a static\n",
       "  rendering on GitHub or <a href=\"https://nbviewer.jupyter.org/\">NBViewer</a>),\n",
       "  it may mean that your frontend doesn't currently support widgets.\n",
       "</p>\n"
      ],
      "text/plain": [
       "FigureCanvasNbAgg()"
      ]
     },
     "metadata": {},
     "output_type": "display_data"
    },
    {
     "data": {
      "text/plain": [
       "(0, 150)"
      ]
     },
     "execution_count": 78,
     "metadata": {},
     "output_type": "execute_result"
    }
   ],
   "source": [
    "fig, ax = plt.subplots()\n",
    "\n",
    "ax.errorbar(range(20), T_opts, yerr=T_uncerts, fmt='bo')\n",
    "ax.set_ylim(0,150)"
   ]
  },
  {
   "cell_type": "code",
   "execution_count": 79,
   "metadata": {},
   "outputs": [
    {
     "data": {
      "application/vnd.jupyter.widget-view+json": {
       "model_id": "1c56ad28416c42eb9a37852f7fc98ae8",
       "version_major": 2,
       "version_minor": 0
      },
      "text/html": [
       "<p>Failed to display Jupyter Widget of type <code>FigureCanvasNbAgg</code>.</p>\n",
       "<p>\n",
       "  If you're reading this message in Jupyter Notebook or JupyterLab, it may mean\n",
       "  that the widgets JavaScript is still loading. If this message persists, it\n",
       "  likely means that the widgets JavaScript library is either not installed or\n",
       "  not enabled. See the <a href=\"https://ipywidgets.readthedocs.io/en/stable/user_install.html\">Jupyter\n",
       "  Widgets Documentation</a> for setup instructions.\n",
       "</p>\n",
       "<p>\n",
       "  If you're reading this message in another notebook frontend (for example, a static\n",
       "  rendering on GitHub or <a href=\"https://nbviewer.jupyter.org/\">NBViewer</a>),\n",
       "  it may mean that your frontend doesn't currently support widgets.\n",
       "</p>\n"
      ],
      "text/plain": [
       "FigureCanvasNbAgg()"
      ]
     },
     "metadata": {},
     "output_type": "display_data"
    },
    {
     "name": "stdout",
     "output_type": "stream",
     "text": [
      "12.4155929049\n",
      "6.36641064529\n",
      "8.05396155245\n",
      "6.27896239624\n",
      "5.27795224061\n",
      "9.58433408728\n",
      "4.02493189406\n",
      "5.2560328734\n",
      "5.10343414402\n",
      "8.03893030686\n",
      "6.92242151574\n",
      "6.69134079001\n",
      "8.33597797613\n",
      "6.42579992651\n",
      "8.0727435663\n",
      "9.53921687569\n",
      "6.67998143419\n",
      "14.2994419248\n",
      "10.4999752429\n",
      "6.04971044094\n"
     ]
    },
    {
     "data": {
      "text/plain": [
       "Text(0,0.5,u'retention')"
      ]
     },
     "execution_count": 79,
     "metadata": {},
     "output_type": "execute_result"
    }
   ],
   "source": [
    "fig, ax = plt.subplots()\n",
    "guess = 90\n",
    "Tr_opts = []\n",
    "Tr_uncerts = []\n",
    "T_opt = 90.\n",
    "\n",
    "for e in range(len(retention['ivar'][0,0])/11):\n",
    "    ax.errorbar(retention['ivar'][0,0,:11], retention['conditional_retention'][0,:,1].reshape(-1,11)[e],\n",
    "                yerr=retention['conditional_retention_err'][0,:,1].reshape(-1,11)[e],\n",
    "                fmt = 'o'\n",
    "    )\n",
    "    p0 = np.mean(retention['conditional_retention'][0,:,1].reshape(-1,11)[e,:2])\n",
    "    guess = (T_opt, p0)\n",
    "    x = optimize.least_squares(\n",
    "        residuals,\n",
    "        guess,\n",
    "        args=(retention['conditional_retention'][0,:,1].reshape(-1,11)[e], retention['ivar'][0,0,:11], retention['conditional_retention_err'][0,:,1].reshape(-1,11)[e], 'rb'),\n",
    "        diff_step=0.05,\n",
    "        xtol=0.01\n",
    "    )\n",
    "    if x['success']:\n",
    "        T_opt = x['x'][0]\n",
    "    Tr_opts.append(T_opt)\n",
    "    \n",
    "    J = x.jac\n",
    "    res = residuals(x['x'], retention['conditional_retention'][0,:,0].reshape(-1,11)[e], retention['ivar'][0,0,:11], retention['conditional_retention_err'][0,:,0].reshape(-1,11)[e])\n",
    "    ucert = np.sqrt(np.abs(np.linalg.inv(J.T.dot(J)) * (res**2).mean())[0,0])\n",
    "    Tr_uncerts.append(ucert)\n",
    "    print ucert\n",
    "    \n",
    "    xs = np.linspace(0, 26, 30)\n",
    "    ax.plot(xs, fnode_release_recapture(xs, T_opt, a='rb')*x['x'][1], 'k-')\n",
    "    ax.text(1, 0.4-e*0.07, \"T = {:.1f} uK\".format(T_opt))\n",
    "    \n",
    "ax.set_ylim(0, 1.05)\n",
    "ax.set_xlabel(xlab)\n",
    "ax.set_ylabel('retention')"
   ]
  },
  {
   "cell_type": "code",
   "execution_count": 80,
   "metadata": {},
   "outputs": [
    {
     "data": {
      "application/vnd.jupyter.widget-view+json": {
       "model_id": "300483135ffb454c8982c3e23ac63112",
       "version_major": 2,
       "version_minor": 0
      },
      "text/html": [
       "<p>Failed to display Jupyter Widget of type <code>FigureCanvasNbAgg</code>.</p>\n",
       "<p>\n",
       "  If you're reading this message in Jupyter Notebook or JupyterLab, it may mean\n",
       "  that the widgets JavaScript is still loading. If this message persists, it\n",
       "  likely means that the widgets JavaScript library is either not installed or\n",
       "  not enabled. See the <a href=\"https://ipywidgets.readthedocs.io/en/stable/user_install.html\">Jupyter\n",
       "  Widgets Documentation</a> for setup instructions.\n",
       "</p>\n",
       "<p>\n",
       "  If you're reading this message in another notebook frontend (for example, a static\n",
       "  rendering on GitHub or <a href=\"https://nbviewer.jupyter.org/\">NBViewer</a>),\n",
       "  it may mean that your frontend doesn't currently support widgets.\n",
       "</p>\n"
      ],
      "text/plain": [
       "FigureCanvasNbAgg()"
      ]
     },
     "metadata": {},
     "output_type": "display_data"
    }
   ],
   "source": [
    "fig, ax = plt.subplots(figsize=(2*3.375,3.5))\n",
    "\n",
    "marker_styles = [\n",
    "    dict(color='cornflowerblue', marker='o', markeredgecolor='b', linestyle='--'),\n",
    "    dict(color='indianred', marker='d', markeredgecolor='r', linestyle='--')\n",
    "]\n",
    "\n",
    "ax.errorbar(range(20), T_opts, yerr=T_uncerts, **marker_styles[0])\n",
    "ax.errorbar(range(20), Tr_opts, yerr=Tr_uncerts, **marker_styles[1])\n",
    "ax.set_ylim(0,120)\n",
    "ax.grid()\n",
    "ax.set_ylabel(r'Temperature ($\\mu$K)', fontsize=14)\n",
    "ax.set_xlabel('Trial Number', fontsize=14)\n",
    "plt.tight_layout()\n",
    "\n",
    "fmts = ['pdf', 'png', 'eps']\n",
    "out = '/home/ebert/jupyter-notebooks/FNode/analyses/CollisionPaper/temp-stability/'\n",
    "fn = os.path.join(out, 'temp-stability.{}')\n",
    "for fmt in fmts:\n",
    "    fig.savefig(fn.format(fmt), dpi=200, format=fmt)"
   ]
  },
  {
   "cell_type": "code",
   "execution_count": 83,
   "metadata": {},
   "outputs": [
    {
     "name": "stdout",
     "output_type": "stream",
     "text": [
      "98.4551812726\n",
      "64.8280347474\n"
     ]
    }
   ],
   "source": [
    "print(np.max(T_opts))\n",
    "print(np.min(T_opts))"
   ]
  },
  {
   "cell_type": "code",
   "execution_count": 84,
   "metadata": {},
   "outputs": [
    {
     "name": "stdout",
     "output_type": "stream",
     "text": [
      "71.7688446621\n",
      "46.7819155895\n"
     ]
    }
   ],
   "source": [
    "print(np.max(Tr_opts))\n",
    "print(np.min(Tr_opts))"
   ]
  },
  {
   "cell_type": "code",
   "execution_count": null,
   "metadata": {},
   "outputs": [],
   "source": []
  }
 ],
 "metadata": {
  "kernelspec": {
   "display_name": "Python 2",
   "language": "python",
   "name": "python2"
  },
  "language_info": {
   "codemirror_mode": {
    "name": "ipython",
    "version": 2
   },
   "file_extension": ".py",
   "mimetype": "text/x-python",
   "name": "python",
   "nbconvert_exporter": "python",
   "pygments_lexer": "ipython2",
   "version": "2.7.6"
  }
 },
 "nbformat": 4,
 "nbformat_minor": 2
}
