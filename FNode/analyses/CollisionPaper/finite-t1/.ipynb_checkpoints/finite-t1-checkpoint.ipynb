{
 "cells": [
  {
   "cell_type": "code",
   "execution_count": 44,
   "metadata": {},
   "outputs": [],
   "source": [
    "%matplotlib ipympl\n",
    "from scipy.special import gammaincc, gamma, factorial, erf\n",
    "from scipy.stats import poisson\n",
    "import numpy as np\n",
    "import matplotlib.pyplot as plt"
   ]
  },
  {
   "cell_type": "code",
   "execution_count": 2,
   "metadata": {},
   "outputs": [],
   "source": [
    "def f(x, mu_d, mu_b, t, a):\n",
    "    A = (a/((1-np.exp(-a*t))*factorial(x, exact=False)))*np.exp(float(mu_d*a*t)/mu_b)*np.power(float(mu_b), x)*np.power(float(a+mu_b),-x-1)\n",
    "    return A*(gammaincc(x+1, float(t*(a+mu_b)*mu_d)/mu_b)*gamma(x+1) - gammaincc(x+1, t*(a+mu_b)*(1+float(mu_d)/mu_b))*gamma(x+1))"
   ]
  },
  {
   "cell_type": "code",
   "execution_count": null,
   "metadata": {},
   "outputs": [],
   "source": [
    "def g1(x, mu_d, mu_b, sigma_d, sigma_b, t, a):\n",
    "    np.exp(2*np.abs(x)*np.sqrt(t*(np.power(mu_b, 2)*t + ))\n",
    "\n",
    "def g(x, mu_d, mu_b, sigma_d, sigma_b, t, a):\n",
    "    "
   ]
  },
  {
   "cell_type": "code",
   "execution_count": 85,
   "metadata": {},
   "outputs": [
    {
     "data": {
      "application/vnd.jupyter.widget-view+json": {
       "model_id": "9dd3c001ca444546a54cb29b22762e4a",
       "version_major": 2,
       "version_minor": 0
      },
      "text/html": [
       "<p>Failed to display Jupyter Widget of type <code>FigureCanvasNbAgg</code>.</p>\n",
       "<p>\n",
       "  If you're reading this message in Jupyter Notebook or JupyterLab, it may mean\n",
       "  that the widgets JavaScript is still loading. If this message persists, it\n",
       "  likely means that the widgets JavaScript library is either not installed or\n",
       "  not enabled. See the <a href=\"https://ipywidgets.readthedocs.io/en/stable/user_install.html\">Jupyter\n",
       "  Widgets Documentation</a> for setup instructions.\n",
       "</p>\n",
       "<p>\n",
       "  If you're reading this message in another notebook frontend (for example, a static\n",
       "  rendering on GitHub or <a href=\"https://nbviewer.jupyter.org/\">NBViewer</a>),\n",
       "  it may mean that your frontend doesn't currently support widgets.\n",
       "</p>\n"
      ],
      "text/plain": [
       "FigureCanvasNbAgg()"
      ]
     },
     "metadata": {},
     "output_type": "display_data"
    },
    {
     "data": {
      "text/plain": [
       "[<matplotlib.lines.Line2D at 0x9e9b1a8c>]"
      ]
     },
     "execution_count": 85,
     "metadata": {},
     "output_type": "execute_result"
    }
   ],
   "source": [
    "fig, ax = plt.subplots()\n",
    "\n",
    "xs = np.arange(0, 30)\n",
    "ax.plot(xs, f(xs, 5, 12, 1, 0.001), 'bo')\n",
    "ax.plot(xs, f(xs, 5, 12, 1, 1), 'rx')\n",
    "ax.plot(xs, f(xs, 5, 12, 1, 3), 'k*')\n",
    "ax.plot(xs, f(xs, 5, 12, 1, 10), 'ys')"
   ]
  },
  {
   "cell_type": "code",
   "execution_count": 47,
   "metadata": {},
   "outputs": [],
   "source": [
    "def pdist(x, mu):\n",
    "    \"\"\"Continuous approximmation of the Poisson PMF to prevent failures from non-integer bin edges\"\"\"\n",
    "    # large values of x will cause overflow, so use gaussian instead\n",
    "    result = np.power(float(mu), x)*np.exp(-float(mu))/gamma(x+1)\n",
    "    nans = np.argwhere(np.isnan(result))\n",
    "    result[nans] = np.exp(-(x[nans]-mu)**2 / (2*np.sqrt(mu)**2))/np.sqrt(2*np.pi*np.sqrt(mu)**2)\n",
    "    return result"
   ]
  },
  {
   "cell_type": "code",
   "execution_count": 48,
   "metadata": {},
   "outputs": [
    {
     "data": {
      "application/vnd.jupyter.widget-view+json": {
       "model_id": "",
       "version_major": 2,
       "version_minor": 0
      },
      "text/html": [
       "<p>Failed to display Jupyter Widget of type <code>FigureCanvasNbAgg</code>.</p>\n",
       "<p>\n",
       "  If you're reading this message in Jupyter Notebook or JupyterLab, it may mean\n",
       "  that the widgets JavaScript is still loading. If this message persists, it\n",
       "  likely means that the widgets JavaScript library is either not installed or\n",
       "  not enabled. See the <a href=\"https://ipywidgets.readthedocs.io/en/stable/user_install.html\">Jupyter\n",
       "  Widgets Documentation</a> for setup instructions.\n",
       "</p>\n",
       "<p>\n",
       "  If you're reading this message in another notebook frontend (for example, a static\n",
       "  rendering on GitHub or <a href=\"https://nbviewer.jupyter.org/\">NBViewer</a>),\n",
       "  it may mean that your frontend doesn't currently support widgets.\n",
       "</p>\n"
      ],
      "text/plain": [
       "FigureCanvasNbAgg()"
      ]
     },
     "metadata": {},
     "output_type": "display_data"
    },
    {
     "name": "stderr",
     "output_type": "stream",
     "text": [
      "/usr/local/lib/python2.7/dist-packages/ipykernel_launcher.py:4: RuntimeWarning: overflow encountered in power\n",
      "  after removing the cwd from sys.path.\n",
      "/usr/local/lib/python2.7/dist-packages/ipykernel_launcher.py:4: RuntimeWarning: invalid value encountered in divide\n",
      "  after removing the cwd from sys.path.\n"
     ]
    },
    {
     "data": {
      "text/plain": [
       "[<matplotlib.lines.Line2D at 0x9ec4f3cc>]"
      ]
     },
     "execution_count": 48,
     "metadata": {},
     "output_type": "execute_result"
    }
   ],
   "source": [
    "fig, ax = plt.subplots()\n",
    "\n",
    "mu = 500\n",
    "xs = np.linspace(400, 750, 100)\n",
    "x2 = np.arange(400, 750)\n",
    "ax.plot(x2, poisson.pmf(mu, x2), 'ro')\n",
    "ax.plot(xs, pdist(xs, mu), 'b-')"
   ]
  },
  {
   "cell_type": "code",
   "execution_count": 50,
   "metadata": {},
   "outputs": [
    {
     "data": {
      "application/vnd.jupyter.widget-view+json": {
       "model_id": "",
       "version_major": 2,
       "version_minor": 0
      },
      "text/html": [
       "<p>Failed to display Jupyter Widget of type <code>FigureCanvasNbAgg</code>.</p>\n",
       "<p>\n",
       "  If you're reading this message in Jupyter Notebook or JupyterLab, it may mean\n",
       "  that the widgets JavaScript is still loading. If this message persists, it\n",
       "  likely means that the widgets JavaScript library is either not installed or\n",
       "  not enabled. See the <a href=\"https://ipywidgets.readthedocs.io/en/stable/user_install.html\">Jupyter\n",
       "  Widgets Documentation</a> for setup instructions.\n",
       "</p>\n",
       "<p>\n",
       "  If you're reading this message in another notebook frontend (for example, a static\n",
       "  rendering on GitHub or <a href=\"https://nbviewer.jupyter.org/\">NBViewer</a>),\n",
       "  it may mean that your frontend doesn't currently support widgets.\n",
       "</p>\n"
      ],
      "text/plain": [
       "FigureCanvasNbAgg()"
      ]
     },
     "metadata": {},
     "output_type": "display_data"
    },
    {
     "name": "stderr",
     "output_type": "stream",
     "text": [
      "/usr/local/lib/python2.7/dist-packages/ipykernel_launcher.py:4: RuntimeWarning: overflow encountered in power\n",
      "  after removing the cwd from sys.path.\n",
      "/usr/local/lib/python2.7/dist-packages/ipykernel_launcher.py:4: RuntimeWarning: invalid value encountered in divide\n",
      "  after removing the cwd from sys.path.\n"
     ]
    },
    {
     "data": {
      "text/plain": [
       "[<matplotlib.lines.Line2D at 0x9e98210c>]"
      ]
     },
     "execution_count": 50,
     "metadata": {},
     "output_type": "execute_result"
    }
   ],
   "source": [
    "fig, ax = plt.subplots()\n",
    "\n",
    "mu = 500\n",
    "xs = np.linspace(400, 750, 100)\n",
    "x2 = np.arange(400, 750)\n",
    "ax.plot(x2, (poisson.pmf(mu, x2)-pdist(x2, mu))/poisson.pmf(mu, x2), 'ro')"
   ]
  },
  {
   "cell_type": "code",
   "execution_count": 28,
   "metadata": {},
   "outputs": [
    {
     "name": "stderr",
     "output_type": "stream",
     "text": [
      "/usr/local/lib/python2.7/dist-packages/ipykernel_launcher.py:1: RuntimeWarning: overflow encountered in float_power\n",
      "  \"\"\"Entry point for launching an IPython kernel.\n"
     ]
    },
    {
     "data": {
      "text/plain": [
       "inf"
      ]
     },
     "execution_count": 28,
     "metadata": {},
     "output_type": "execute_result"
    }
   ],
   "source": [
    "np.float_power(5, 600.1)"
   ]
  },
  {
   "cell_type": "code",
   "execution_count": 126,
   "metadata": {},
   "outputs": [],
   "source": [
    "def sbl(x, g_b, s_b, a, t):\n",
    "    # see PRL 119 180504 SM\n",
    "    chi = np.float_power(g_b, 2)*t + 2*a*np.float_power(s_b, 2)\n",
    "    Ap = np.exp(np.longdouble((x/np.float_power(s_b, 2)))*(g_b*t+x*np.sqrt(chi*t)))*(erf((x+np.sqrt(chi*t)/(np.sqrt(2)*s_b)))-1)\n",
    "    Am = np.exp(np.longdouble((x/np.float_power(s_b, 2)))*(g_b*t-x*np.sqrt(chi*t)))*(erf((x-np.sqrt(chi*t)/(np.sqrt(2)*s_b)))-1)\n",
    "    return a*np.sqrt(t/chi)*(Ap - Am)/(2*(1-np.exp(-a*t)))"
   ]
  },
  {
   "cell_type": "code",
   "execution_count": 127,
   "metadata": {},
   "outputs": [
    {
     "data": {
      "application/vnd.jupyter.widget-view+json": {
       "model_id": "c6407b94fc164189a22758d2dadd4085",
       "version_major": 2,
       "version_minor": 0
      },
      "text/html": [
       "<p>Failed to display Jupyter Widget of type <code>FigureCanvasNbAgg</code>.</p>\n",
       "<p>\n",
       "  If you're reading this message in Jupyter Notebook or JupyterLab, it may mean\n",
       "  that the widgets JavaScript is still loading. If this message persists, it\n",
       "  likely means that the widgets JavaScript library is either not installed or\n",
       "  not enabled. See the <a href=\"https://ipywidgets.readthedocs.io/en/stable/user_install.html\">Jupyter\n",
       "  Widgets Documentation</a> for setup instructions.\n",
       "</p>\n",
       "<p>\n",
       "  If you're reading this message in another notebook frontend (for example, a static\n",
       "  rendering on GitHub or <a href=\"https://nbviewer.jupyter.org/\">NBViewer</a>),\n",
       "  it may mean that your frontend doesn't currently support widgets.\n",
       "</p>\n"
      ],
      "text/plain": [
       "FigureCanvasNbAgg()"
      ]
     },
     "metadata": {},
     "output_type": "display_data"
    },
    {
     "name": "stderr",
     "output_type": "stream",
     "text": [
      "/usr/local/lib/python2.7/dist-packages/ipykernel_launcher.py:4: RuntimeWarning: overflow encountered in exp\n",
      "  after removing the cwd from sys.path.\n",
      "/usr/local/lib/python2.7/dist-packages/ipykernel_launcher.py:4: RuntimeWarning: invalid value encountered in multiply\n",
      "  after removing the cwd from sys.path.\n"
     ]
    },
    {
     "data": {
      "text/plain": [
       "[<matplotlib.lines.Line2D at 0x96b6a10c>]"
      ]
     },
     "execution_count": 127,
     "metadata": {},
     "output_type": "execute_result"
    }
   ],
   "source": [
    "fig, ax = plt.subplots()\n",
    "\n",
    "t = 3.\n",
    "mu = 50.\n",
    "sb = 0.75\n",
    "a = 0.2\n",
    "xs = np.linspace(0,70,300)\n",
    "ax.plot(xs, sbl(xs, mu/t, sb, a, t), 'r-')"
   ]
  },
  {
   "cell_type": "code",
   "execution_count": 94,
   "metadata": {},
   "outputs": [
    {
     "data": {
      "text/plain": [
       "0.0"
      ]
     },
     "execution_count": 94,
     "metadata": {},
     "output_type": "execute_result"
    }
   ],
   "source": [
    "sbl(37, mu/t, sb/np.sqrt(t), a, t)"
   ]
  },
  {
   "cell_type": "code",
   "execution_count": 82,
   "metadata": {},
   "outputs": [
    {
     "data": {
      "application/vnd.jupyter.widget-view+json": {
       "model_id": "258abf685e414dff8b859e5c01b0daf0",
       "version_major": 2,
       "version_minor": 0
      },
      "text/html": [
       "<p>Failed to display Jupyter Widget of type <code>FigureCanvasNbAgg</code>.</p>\n",
       "<p>\n",
       "  If you're reading this message in Jupyter Notebook or JupyterLab, it may mean\n",
       "  that the widgets JavaScript is still loading. If this message persists, it\n",
       "  likely means that the widgets JavaScript library is either not installed or\n",
       "  not enabled. See the <a href=\"https://ipywidgets.readthedocs.io/en/stable/user_install.html\">Jupyter\n",
       "  Widgets Documentation</a> for setup instructions.\n",
       "</p>\n",
       "<p>\n",
       "  If you're reading this message in another notebook frontend (for example, a static\n",
       "  rendering on GitHub or <a href=\"https://nbviewer.jupyter.org/\">NBViewer</a>),\n",
       "  it may mean that your frontend doesn't currently support widgets.\n",
       "</p>\n"
      ],
      "text/plain": [
       "FigureCanvasNbAgg()"
      ]
     },
     "metadata": {},
     "output_type": "display_data"
    },
    {
     "data": {
      "text/plain": [
       "[<matplotlib.lines.Line2D at 0x9afd874c>]"
      ]
     },
     "execution_count": 82,
     "metadata": {},
     "output_type": "execute_result"
    }
   ],
   "source": [
    "fig, ax = plt.subplots()\n",
    "xs = np.linspace(-3,300,300)\n",
    "ax.plot(xs, erf(xs), 'r-')"
   ]
  },
  {
   "cell_type": "code",
   "execution_count": 3,
   "metadata": {},
   "outputs": [
    {
     "data": {
      "application/vnd.jupyter.widget-view+json": {
       "model_id": "4fa562fb6b454ce6985dcb111d38dfea",
       "version_major": 2,
       "version_minor": 0
      },
      "text/html": [
       "<p>Failed to display Jupyter Widget of type <code>FigureCanvasNbAgg</code>.</p>\n",
       "<p>\n",
       "  If you're reading this message in Jupyter Notebook or JupyterLab, it may mean\n",
       "  that the widgets JavaScript is still loading. If this message persists, it\n",
       "  likely means that the widgets JavaScript library is either not installed or\n",
       "  not enabled. See the <a href=\"https://ipywidgets.readthedocs.io/en/stable/user_install.html\">Jupyter\n",
       "  Widgets Documentation</a> for setup instructions.\n",
       "</p>\n",
       "<p>\n",
       "  If you're reading this message in another notebook frontend (for example, a static\n",
       "  rendering on GitHub or <a href=\"https://nbviewer.jupyter.org/\">NBViewer</a>),\n",
       "  it may mean that your frontend doesn't currently support widgets.\n",
       "</p>\n"
      ],
      "text/plain": [
       "FigureCanvasNbAgg()"
      ]
     },
     "metadata": {},
     "output_type": "display_data"
    },
    {
     "data": {
      "text/plain": [
       "[]"
      ]
     },
     "execution_count": 3,
     "metadata": {},
     "output_type": "execute_result"
    }
   ],
   "source": [
    "fig, ax = plt.subplots()\n",
    "data = np.array([\n",
    "    [2.3e-14, 2.0e-15],  # gibbs1967\n",
    "    [9.37227e-12, 2.13006e-12],  # telles2001\n",
    "    [1.06503e-12, 6.39019e-13],  # holmes2004\n",
    "    [1.09525e-13, 6.57148e-14],  # ji2011\n",
    "    [1.09525e-12, 6.57148e-13],  # zhao2017\n",
    "    [5.67155e-13, 2.61e-14]  # ebert\n",
    "])\n",
    "labels = [\"Gibbs1967\", \"Telles2001\", \"Holmes2004\", \"Ji2011\", \"Zhao2017\", \"Ebert\"]\n",
    "\n",
    "ax.errorbar(\n",
    "    np.arange(len(data)), data[:,0],\n",
    "    yerr=data[:,1],\n",
    "    fmt='bo'\n",
    ")\n",
    "\n",
    "colors='ygggcc'\n",
    "for lbl, x, y in zip(labels, np.arange(len(data)), data[:,0]):\n",
    "    ax.annotate(\n",
    "        lbl,\n",
    "        xy=(x,y), xytext=(5,30),\n",
    "        textcoords='offset points', ha='left', va='bottom',\n",
    "        bbox=dict(boxstyle='round,pad=0.5', fc=colors[x], alpha=0.5),\n",
    "        arrowprops=dict(arrowstyle='->', connectionstyle='arc3,rad=0')\n",
    "    )\n",
    "ax.set_yscale('log')\n",
    "ax.set_xlim(-0.5,6)\n",
    "ax.set_ylim(1e-14,1e-10)\n",
    "ax.grid(which='major', axis='y')\n",
    "ax.set_ylabel(r'$\\sigma_{Rb^{87}Cs} (cm^2)$', fontsize=14)\n",
    "ax.set_xticklabels([])"
   ]
  },
  {
   "cell_type": "code",
   "execution_count": 7,
   "metadata": {},
   "outputs": [
    {
     "data": {
      "application/vnd.jupyter.widget-view+json": {
       "model_id": "12a05fd86077402b8ac82fcc22bfbbcf",
       "version_major": 2,
       "version_minor": 0
      },
      "text/html": [
       "<p>Failed to display Jupyter Widget of type <code>FigureCanvasNbAgg</code>.</p>\n",
       "<p>\n",
       "  If you're reading this message in Jupyter Notebook or JupyterLab, it may mean\n",
       "  that the widgets JavaScript is still loading. If this message persists, it\n",
       "  likely means that the widgets JavaScript library is either not installed or\n",
       "  not enabled. See the <a href=\"https://ipywidgets.readthedocs.io/en/stable/user_install.html\">Jupyter\n",
       "  Widgets Documentation</a> for setup instructions.\n",
       "</p>\n",
       "<p>\n",
       "  If you're reading this message in another notebook frontend (for example, a static\n",
       "  rendering on GitHub or <a href=\"https://nbviewer.jupyter.org/\">NBViewer</a>),\n",
       "  it may mean that your frontend doesn't currently support widgets.\n",
       "</p>\n"
      ],
      "text/plain": [
       "FigureCanvasNbAgg()"
      ]
     },
     "metadata": {},
     "output_type": "display_data"
    },
    {
     "data": {
      "text/plain": [
       "[]"
      ]
     },
     "execution_count": 7,
     "metadata": {},
     "output_type": "execute_result"
    }
   ],
   "source": [
    "fig, ax = plt.subplots()\n",
    "data = np.array([\n",
    "    [2.3e-14, 2.0e-15],  # gibbs1967\n",
    "    [9.37227e-12, 2.13006e-12],  # telles2001\n",
    "    [1.06503e-12, 6.39019e-13],  # holmes2004\n",
    "    [1.09525e-13, 6.57148e-14],  # ji2011\n",
    "    [4*np.pi*np.power((997-513.3)*5.29e-9, 2), 0],  # Takekoshi2012\n",
    "    [1.09525e-12, 6.57148e-13],  # zhao2017\n",
    "    [5.67155e-13, 2.61e-14]  # ebert\n",
    "])\n",
    "labels = [\"Gibbs1967\", \"Telles2001\", \"Holmes2004\", \"Ji2011\", \"Takekoshi2012\", \"Zhao2017\", \"Ebert\"]\n",
    "\n",
    "ax.errorbar(\n",
    "    np.arange(len(data)), data[:,0],\n",
    "    yerr=data[:,1],\n",
    "    fmt='bo'\n",
    ")\n",
    "\n",
    "colors='ygggrcc'\n",
    "for lbl, x, y in zip(labels, np.arange(len(data)), data[:,0]):\n",
    "    ax.annotate(\n",
    "        lbl,\n",
    "        xy=(x,y), xytext=(5,30),\n",
    "        textcoords='offset points', ha='left', va='bottom',\n",
    "        bbox=dict(boxstyle='round,pad=0.5', fc=colors[x], alpha=0.5),\n",
    "        arrowprops=dict(arrowstyle='->', connectionstyle='arc3,rad=0')\n",
    "    )\n",
    "ax.set_yscale('log')\n",
    "ax.set_xlim(-0.5,7)\n",
    "ax.set_ylim(1e-14,1e-9)\n",
    "ax.grid(which='major', axis='y')\n",
    "ax.set_ylabel(r'$\\sigma_{Rb^{87}Cs} (cm^2)$', fontsize=14)\n",
    "ax.set_xticklabels([])"
   ]
  },
  {
   "cell_type": "code",
   "execution_count": 9,
   "metadata": {},
   "outputs": [
    {
     "data": {
      "application/vnd.jupyter.widget-view+json": {
       "model_id": "6efce5480a8e4b97a3da2376eef64537",
       "version_major": 2,
       "version_minor": 0
      },
      "text/html": [
       "<p>Failed to display Jupyter Widget of type <code>FigureCanvasNbAgg</code>.</p>\n",
       "<p>\n",
       "  If you're reading this message in Jupyter Notebook or JupyterLab, it may mean\n",
       "  that the widgets JavaScript is still loading. If this message persists, it\n",
       "  likely means that the widgets JavaScript library is either not installed or\n",
       "  not enabled. See the <a href=\"https://ipywidgets.readthedocs.io/en/stable/user_install.html\">Jupyter\n",
       "  Widgets Documentation</a> for setup instructions.\n",
       "</p>\n",
       "<p>\n",
       "  If you're reading this message in another notebook frontend (for example, a static\n",
       "  rendering on GitHub or <a href=\"https://nbviewer.jupyter.org/\">NBViewer</a>),\n",
       "  it may mean that your frontend doesn't currently support widgets.\n",
       "</p>\n"
      ],
      "text/plain": [
       "FigureCanvasNbAgg()"
      ]
     },
     "metadata": {},
     "output_type": "display_data"
    },
    {
     "data": {
      "text/plain": [
       "[]"
      ]
     },
     "execution_count": 9,
     "metadata": {},
     "output_type": "execute_result"
    }
   ],
   "source": [
    "fig, ax = plt.subplots()\n",
    "data = np.array([\n",
    "    [2.3e-14, 2.0e-15],  # gibbs1967\n",
    "    [9.37227e-12, 2.13006e-12],  # telles2001\n",
    "    [1.06503e-12, 6.39019e-13],  # holmes2004\n",
    "    [1.09525e-13, 6.57148e-14],  # ji2011\n",
    "    [4*np.pi*(np.power(997*5.29e-9,2)-np.power(513.3*5.29e-9, 2)), 0],  # Takekoshi2012\n",
    "    [1.09525e-12, 6.57148e-13],  # zhao2017\n",
    "    [5.67155e-13, 2.61e-14]  # ebert\n",
    "])\n",
    "labels = [\"Gibbs1967\", \"Telles2001\", \"Holmes2004\", \"Ji2011\", \"Takekoshi2012\", \"Zhao2017\", \"Ebert\"]\n",
    "\n",
    "ax.errorbar(\n",
    "    np.arange(len(data)), data[:,0],\n",
    "    yerr=data[:,1],\n",
    "    fmt='bo'\n",
    ")\n",
    "\n",
    "colors='ygggrcc'\n",
    "for lbl, x, y in zip(labels, np.arange(len(data)), data[:,0]):\n",
    "    ax.annotate(\n",
    "        lbl,\n",
    "        xy=(x,y), xytext=(5,30),\n",
    "        textcoords='offset points', ha='left', va='bottom',\n",
    "        bbox=dict(boxstyle='round,pad=0.5', fc=colors[x], alpha=0.5),\n",
    "        arrowprops=dict(arrowstyle='->', connectionstyle='arc3,rad=0')\n",
    "    )\n",
    "ax.set_yscale('log')\n",
    "ax.set_xlim(-0.5,7)\n",
    "ax.set_ylim(1e-14,1e-8)\n",
    "ax.grid(which='major', axis='y')\n",
    "ax.set_ylabel(r'$\\sigma_{Rb^{87}Cs} (cm^2)$', fontsize=14)\n",
    "ax.set_xticklabels([])"
   ]
  },
  {
   "cell_type": "code",
   "execution_count": 39,
   "metadata": {},
   "outputs": [
    {
     "data": {
      "application/vnd.jupyter.widget-view+json": {
       "model_id": "af24efe142c54241b99a013bf51d38ff",
       "version_major": 2,
       "version_minor": 0
      },
      "text/html": [
       "<p>Failed to display Jupyter Widget of type <code>FigureCanvasNbAgg</code>.</p>\n",
       "<p>\n",
       "  If you're reading this message in Jupyter Notebook or JupyterLab, it may mean\n",
       "  that the widgets JavaScript is still loading. If this message persists, it\n",
       "  likely means that the widgets JavaScript library is either not installed or\n",
       "  not enabled. See the <a href=\"https://ipywidgets.readthedocs.io/en/stable/user_install.html\">Jupyter\n",
       "  Widgets Documentation</a> for setup instructions.\n",
       "</p>\n",
       "<p>\n",
       "  If you're reading this message in another notebook frontend (for example, a static\n",
       "  rendering on GitHub or <a href=\"https://nbviewer.jupyter.org/\">NBViewer</a>),\n",
       "  it may mean that your frontend doesn't currently support widgets.\n",
       "</p>\n"
      ],
      "text/plain": [
       "FigureCanvasNbAgg()"
      ]
     },
     "metadata": {},
     "output_type": "display_data"
    },
    {
     "data": {
      "text/plain": [
       "Text(0,0.5,u'Cs T1, F=3->4 (s)')"
      ]
     },
     "execution_count": 39,
     "metadata": {},
     "output_type": "execute_result"
    }
   ],
   "source": [
    "fig, ax = plt.subplots()\n",
    "marker_styles = [\n",
    "    dict(color='cornflowerblue', marker='o', markeredgecolor='b', linestyle='None'),\n",
    "    dict(color='indianred', marker='d', markeredgecolor='r', linestyle='None')\n",
    "]\n",
    "\n",
    "odt_pd_mv = np.array([135.6, 105.6, 66.25, 90.])\n",
    "ys = np.array([1.369, 3.883, 7.365, 5.153])\n",
    "yerrs = np.array([0.14, 0.78, 1.6, 1.1])\n",
    "ax.errorbar(odt_pd_mv, ys, yerr=yerrs, **marker_styles[0])\n",
    "ax.set_ylim(0,10)\n",
    "ax.set_xlim(0,140)\n",
    "ax.set_xlabel('FORT power (mV)')\n",
    "ax.set_ylabel('Cs T1, F=3->4 (s)')"
   ]
  },
  {
   "cell_type": "code",
   "execution_count": 37,
   "metadata": {},
   "outputs": [
    {
     "data": {
      "application/vnd.jupyter.widget-view+json": {
       "model_id": "9c8d702518dd414cb55731088d8b7fb0",
       "version_major": 2,
       "version_minor": 0
      },
      "text/html": [
       "<p>Failed to display Jupyter Widget of type <code>FigureCanvasNbAgg</code>.</p>\n",
       "<p>\n",
       "  If you're reading this message in Jupyter Notebook or JupyterLab, it may mean\n",
       "  that the widgets JavaScript is still loading. If this message persists, it\n",
       "  likely means that the widgets JavaScript library is either not installed or\n",
       "  not enabled. See the <a href=\"https://ipywidgets.readthedocs.io/en/stable/user_install.html\">Jupyter\n",
       "  Widgets Documentation</a> for setup instructions.\n",
       "</p>\n",
       "<p>\n",
       "  If you're reading this message in another notebook frontend (for example, a static\n",
       "  rendering on GitHub or <a href=\"https://nbviewer.jupyter.org/\">NBViewer</a>),\n",
       "  it may mean that your frontend doesn't currently support widgets.\n",
       "</p>\n"
      ],
      "text/plain": [
       "FigureCanvasNbAgg()"
      ]
     },
     "metadata": {},
     "output_type": "display_data"
    },
    {
     "data": {
      "text/plain": [
       "Text(0,0.5,u'Cs 1/T1, F=3->4 (1/s)')"
      ]
     },
     "execution_count": 37,
     "metadata": {},
     "output_type": "execute_result"
    }
   ],
   "source": [
    "fig, ax = plt.subplots()\n",
    "marker_styles = [\n",
    "    dict(color='cornflowerblue', marker='o', markeredgecolor='b', linestyle='None'),\n",
    "    dict(color='indianred', marker='d', markeredgecolor='r', linestyle='None')\n",
    "]\n",
    "\n",
    "odt_pd_mv = np.array([135.6, 105.6, 66.25, 80.])\n",
    "ys = np.array([1.369, 3.883, 7.365, 5.153])**-1\n",
    "yerrs = np.array([0.14, 0.78, 1.6, 1.1])*np.power(ys,2)\n",
    "ax.errorbar(odt_pd_mv, ys, yerr=yerrs, **marker_styles[0])\n",
    "ax.set_ylim(0,1)\n",
    "ax.set_xlim(0,140)\n",
    "ax.set_xlabel('FORT power (mV)')\n",
    "ax.set_ylabel('Cs 1/T1, F=3->4 (1/s)')"
   ]
  },
  {
   "cell_type": "code",
   "execution_count": null,
   "metadata": {},
   "outputs": [],
   "source": [
    "np.sqrt()"
   ]
  },
  {
   "cell_type": "code",
   "execution_count": 25,
   "metadata": {},
   "outputs": [
    {
     "data": {
      "text/plain": [
       "0.017436101569668478"
      ]
     },
     "execution_count": 25,
     "metadata": {},
     "output_type": "execute_result"
    }
   ],
   "source": [
    "(1-0.5*(1-0.682))*np.sqrt(79/82.*(1-79/82.)/82.)"
   ]
  },
  {
   "cell_type": "code",
   "execution_count": 43,
   "metadata": {},
   "outputs": [
    {
     "data": {
      "application/vnd.jupyter.widget-view+json": {
       "model_id": "4098fceaeca24431a57b4dc1d1c61f6e",
       "version_major": 2,
       "version_minor": 0
      },
      "text/html": [
       "<p>Failed to display Jupyter Widget of type <code>FigureCanvasNbAgg</code>.</p>\n",
       "<p>\n",
       "  If you're reading this message in Jupyter Notebook or JupyterLab, it may mean\n",
       "  that the widgets JavaScript is still loading. If this message persists, it\n",
       "  likely means that the widgets JavaScript library is either not installed or\n",
       "  not enabled. See the <a href=\"https://ipywidgets.readthedocs.io/en/stable/user_install.html\">Jupyter\n",
       "  Widgets Documentation</a> for setup instructions.\n",
       "</p>\n",
       "<p>\n",
       "  If you're reading this message in another notebook frontend (for example, a static\n",
       "  rendering on GitHub or <a href=\"https://nbviewer.jupyter.org/\">NBViewer</a>),\n",
       "  it may mean that your frontend doesn't currently support widgets.\n",
       "</p>\n"
      ],
      "text/plain": [
       "FigureCanvasNbAgg()"
      ]
     },
     "metadata": {},
     "output_type": "display_data"
    },
    {
     "data": {
      "text/plain": [
       "Text(0,0.5,u'Temperature (uK)')"
      ]
     },
     "execution_count": 43,
     "metadata": {},
     "output_type": "execute_result"
    }
   ],
   "source": [
    "fig, ax = plt.subplots()\n",
    "marker_styles = [\n",
    "    dict(color='cornflowerblue', marker='o', markeredgecolor='b', linestyle='None'),\n",
    "    dict(color='indianred', marker='d', markeredgecolor='r', linestyle='None')\n",
    "]\n",
    "\n",
    "ts = np.array([8.5,250,1000,500,750])\n",
    "ys = np.array([\n",
    "    [93.8,109.,91.6,162.2,104.5],\n",
    "    [93.5,85.8,84.2,87.6,92.2]\n",
    "])\n",
    "# yerrs = np.array([0.14, 0.78, 1.6, 1.1])*np.power(ys,2)\n",
    "for r in range(2):\n",
    "    ax.plot(ts, ys[r], **marker_styles[r])\n",
    "ax.set_ylim(0,200)\n",
    "ax.set_xlim(0,1100)\n",
    "ax.set_xlabel('Wait Time (ms)')\n",
    "ax.set_ylabel('Temperature (uK)')"
   ]
  },
  {
   "cell_type": "code",
   "execution_count": null,
   "metadata": {},
   "outputs": [],
   "source": []
  }
 ],
 "metadata": {
  "kernelspec": {
   "display_name": "Python 2",
   "language": "python",
   "name": "python2"
  },
  "language_info": {
   "codemirror_mode": {
    "name": "ipython",
    "version": 2
   },
   "file_extension": ".py",
   "mimetype": "text/x-python",
   "name": "python",
   "nbconvert_exporter": "python",
   "pygments_lexer": "ipython2",
   "version": "2.7.6"
  }
 },
 "nbformat": 4,
 "nbformat_minor": 2
}
