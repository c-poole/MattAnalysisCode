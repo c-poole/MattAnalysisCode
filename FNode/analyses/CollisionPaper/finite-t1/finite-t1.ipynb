{
 "cells": [
  {
   "cell_type": "code",
   "execution_count": 12,
   "metadata": {},
   "outputs": [],
   "source": [
    "%matplotlib ipympl\n",
    "from scipy.optimize import curve_fit\n",
    "import numpy as np\n",
    "import matplotlib.pyplot as plt\n",
    "import os.path"
   ]
  },
  {
   "cell_type": "code",
   "execution_count": 14,
   "metadata": {},
   "outputs": [
    {
     "data": {
      "application/vnd.jupyter.widget-view+json": {
       "model_id": "f2a7a064ca1d43b89bc472905abda656",
       "version_major": 2,
       "version_minor": 0
      },
      "text/html": [
       "<p>Failed to display Jupyter Widget of type <code>FigureCanvasNbAgg</code>.</p>\n",
       "<p>\n",
       "  If you're reading this message in Jupyter Notebook or JupyterLab, it may mean\n",
       "  that the widgets JavaScript is still loading. If this message persists, it\n",
       "  likely means that the widgets JavaScript library is either not installed or\n",
       "  not enabled. See the <a href=\"https://ipywidgets.readthedocs.io/en/stable/user_install.html\">Jupyter\n",
       "  Widgets Documentation</a> for setup instructions.\n",
       "</p>\n",
       "<p>\n",
       "  If you're reading this message in another notebook frontend (for example, a static\n",
       "  rendering on GitHub or <a href=\"https://nbviewer.jupyter.org/\">NBViewer</a>),\n",
       "  it may mean that your frontend doesn't currently support widgets.\n",
       "</p>\n"
      ],
      "text/plain": [
       "FigureCanvasNbAgg()"
      ]
     },
     "metadata": {},
     "output_type": "display_data"
    }
   ],
   "source": [
    "fig, ax = plt.subplots(figsize=(2*3.375,3.5))\n",
    "marker_styles = [\n",
    "    dict(color='cornflowerblue', marker='o', markeredgecolor='b', linestyle='None'),\n",
    "    dict(color='indianred', marker='d', markeredgecolor='r', linestyle='None')\n",
    "]\n",
    "\n",
    "def t1(x, a, t10):\n",
    "    return a/(x+1/t10)\n",
    "\n",
    "odt_pd_mv = np.array([135.6, 105.6, 66.25, 90.])*0.523822\n",
    "ys = np.array([1.369, 3.883, 7.365, 5.153])\n",
    "yerrs = np.array([0.14, 0.78, 1.6, 1.1])\n",
    "ax.errorbar(odt_pd_mv, ys, yerr=yerrs, **marker_styles[0])\n",
    "\n",
    "popt, pcov = curve_fit(\n",
    "    t1,\n",
    "    odt_pd_mv,\n",
    "    ys,\n",
    "    p0=[100,100],\n",
    "    sigma=yerrs\n",
    ")\n",
    "\n",
    "xs = np.linspace(1,100,1000)\n",
    "ax.plot(xs, t1(xs,*popt), linestyle='--', color='cornflowerblue')\n",
    "ax.set_ylim(0,10)\n",
    "ax.set_xlim(0,80)\n",
    "ax.grid()\n",
    "\n",
    "ax.set_xlabel(r'$P_{ODT}$ (mW)', fontsize=14)\n",
    "ax.set_ylabel(r'T$_1$, $F=3\\rightarrow 4$ (s)', fontsize=14)\n",
    "plt.tight_layout()\n",
    "\n",
    "fmts = ['pdf', 'png', 'eps']\n",
    "out = '/home/ebert/jupyter-notebooks/FNode/analyses/CollisionPaper/finite-t1/'\n",
    "fn = os.path.join(out, 'finite-t1.{}')\n",
    "for fmt in fmts:\n",
    "    fig.savefig(fn.format(fmt), dpi=200, format=fmt)"
   ]
  },
  {
   "cell_type": "code",
   "execution_count": 15,
   "metadata": {},
   "outputs": [
    {
     "data": {
      "application/vnd.jupyter.widget-view+json": {
       "model_id": "80bf95f84fb74506b8fa962ce8bf9bca",
       "version_major": 2,
       "version_minor": 0
      },
      "text/html": [
       "<p>Failed to display Jupyter Widget of type <code>FigureCanvasNbAgg</code>.</p>\n",
       "<p>\n",
       "  If you're reading this message in Jupyter Notebook or JupyterLab, it may mean\n",
       "  that the widgets JavaScript is still loading. If this message persists, it\n",
       "  likely means that the widgets JavaScript library is either not installed or\n",
       "  not enabled. See the <a href=\"https://ipywidgets.readthedocs.io/en/stable/user_install.html\">Jupyter\n",
       "  Widgets Documentation</a> for setup instructions.\n",
       "</p>\n",
       "<p>\n",
       "  If you're reading this message in another notebook frontend (for example, a static\n",
       "  rendering on GitHub or <a href=\"https://nbviewer.jupyter.org/\">NBViewer</a>),\n",
       "  it may mean that your frontend doesn't currently support widgets.\n",
       "</p>\n"
      ],
      "text/plain": [
       "FigureCanvasNbAgg()"
      ]
     },
     "metadata": {},
     "output_type": "display_data"
    },
    {
     "data": {
      "text/plain": [
       "Text(0,0.5,u'Cs 1/T1, F=3->4 (1/s)')"
      ]
     },
     "execution_count": 15,
     "metadata": {},
     "output_type": "execute_result"
    }
   ],
   "source": [
    "fig, ax = plt.subplots()\n",
    "marker_styles = [\n",
    "    dict(color='cornflowerblue', marker='o', markeredgecolor='b', linestyle='None'),\n",
    "    dict(color='indianred', marker='d', markeredgecolor='r', linestyle='None')\n",
    "]\n",
    "\n",
    "odt_pd_mv = np.array([135.6, 105.6, 66.25, 80.])\n",
    "ys = np.array([1.369, 3.883, 7.365, 5.153])**-1\n",
    "yerrs = np.array([0.14, 0.78, 1.6, 1.1])*np.power(ys,2)\n",
    "ax.errorbar(odt_pd_mv, ys, yerr=yerrs, **marker_styles[0])\n",
    "ax.set_ylim(0,1)\n",
    "ax.set_xlim(0,140)\n",
    "ax.set_xlabel('FORT power (mV)')\n",
    "ax.set_ylabel('Cs 1/T1, F=3->4 (1/s)')"
   ]
  },
  {
   "cell_type": "code",
   "execution_count": null,
   "metadata": {},
   "outputs": [],
   "source": []
  }
 ],
 "metadata": {
  "kernelspec": {
   "display_name": "Python 2",
   "language": "python",
   "name": "python2"
  },
  "language_info": {
   "codemirror_mode": {
    "name": "ipython",
    "version": 2
   },
   "file_extension": ".py",
   "mimetype": "text/x-python",
   "name": "python",
   "nbconvert_exporter": "python",
   "pygments_lexer": "ipython2",
   "version": "2.7.6"
  }
 },
 "nbformat": 4,
 "nbformat_minor": 2
}
