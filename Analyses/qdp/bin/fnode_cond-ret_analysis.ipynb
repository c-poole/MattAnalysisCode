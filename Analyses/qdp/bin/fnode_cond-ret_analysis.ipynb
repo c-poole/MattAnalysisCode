{
 "cells": [
  {
   "cell_type": "code",
   "execution_count": 4,
   "metadata": {},
   "outputs": [],
   "source": [
    "%matplotlib ipympl\n",
    "from QDP import qdp\n",
    "import numpy as np\n",
    "import matplotlib.pyplot as plt\n",
    "import os.path\n",
    "from scipy.stats import skew, skewtest\n",
    "dp = '/home/ebert/jupyter-notebooks/FNode-data'\n",
    "exclude = [2]"
   ]
  },
  {
   "cell_type": "code",
   "execution_count": 64,
   "metadata": {
    "scrolled": false
   },
   "outputs": [
    {
     "name": "stdout",
     "output_type": "stream",
     "text": [
      "data at: 2018_07_19/2018_07_19_14_25_41_csrb-collisions-42-high-density-pt4/results.hdf5\n",
      "ivars: []\n",
      "Could not find conditional retention\n",
      "ivar:\t0.0\tretention:[0.76031746 0.79554937 2.5       ] +- [0.01264909 0.01264909 0.01264909]\n",
      "Only one iteration\n"
     ]
    },
    {
     "data": {
      "application/vnd.jupyter.widget-view+json": {
       "model_id": "a651536610e24d5a973b9ac5df95ac96",
       "version_major": 2,
       "version_minor": 0
      },
      "text/html": [
       "<p>Failed to display Jupyter Widget of type <code>FigureCanvasNbAgg</code>.</p>\n",
       "<p>\n",
       "  If you're reading this message in Jupyter Notebook or JupyterLab, it may mean\n",
       "  that the widgets JavaScript is still loading. If this message persists, it\n",
       "  likely means that the widgets JavaScript library is either not installed or\n",
       "  not enabled. See the <a href=\"https://ipywidgets.readthedocs.io/en/stable/user_install.html\">Jupyter\n",
       "  Widgets Documentation</a> for setup instructions.\n",
       "</p>\n",
       "<p>\n",
       "  If you're reading this message in another notebook frontend (for example, a static\n",
       "  rendering on GitHub or <a href=\"https://nbviewer.jupyter.org/\">NBViewer</a>),\n",
       "  it may mean that your frontend doesn't currently support widgets.\n",
       "</p>\n"
      ],
      "text/plain": [
       "FigureCanvasNbAgg()"
      ]
     },
     "metadata": {},
     "output_type": "display_data"
    }
   ],
   "source": [
    "exp_name = '2018_07_19_14_25_41_csrb-collisions-42-high-density-pt4'\n",
    "if exp_name:\n",
    "    exp_date = '_'.join(exp_name.split('_')[:3])\n",
    "    experiment_file = os.path.join(exp_date, exp_name, 'results.hdf5')\n",
    "else:\n",
    "    experiment_file = ''\n",
    "q = qdp.QDP(base_data_path=dp)\n",
    "q.load_data_file(experiment_file)\n",
    "print \"ivars: {}\".format(q.experiments[0]['variable_list'])\n",
    "roi_map = ['cs', 'rb']\n",
    "cs_cuts = [[35],[3]]\n",
    "rb_cuts = [[32],[3]]\n",
    "q.set_thresholds(cs_cuts, roi=0)\n",
    "q.set_thresholds(rb_cuts, roi=1)\n",
    "retention = q.apply_thresholds(exclude_rois=exclude)\n",
    "tbl_str = \"ivar:\\t{0}\\tretention:{1} +- {2}\"\n",
    "entries = np.product(retention['retention'].shape[:-1])\n",
    "for i in range(entries):\n",
    "    print(tbl_str.format(\n",
    "        retention['ivar'].reshape((entries,-1))[i][0],\n",
    "        retention['retention'].reshape((entries,-1))[i],\n",
    "        retention['error'].reshape((entries,-1))[i]\n",
    "    ))\n",
    "# q.save_experiment_data()\n",
    "q.experiments[0]['variable_list']\n",
    "try:\n",
    "    xlab = q.experiments[0]['variable_desc'][q.experiments[0]['variable_list'][0]]['description']\n",
    "except IndexError:\n",
    "    print(\"Only one iteration\")\n",
    "    xlab = ''\n",
    "\n",
    "fig, ax = plt.subplots()\n",
    "for e in range(len(retention['ivar'])):\n",
    "    for r in range(2):\n",
    "        ax.errorbar(\n",
    "            retention['ivar'][e, :, r], retention['retention'][e, :, r],\n",
    "            yerr=retention['error'][e, :, r],\n",
    "            fmt=['bo','rx'][r]\n",
    "        )\n",
    "ax.set_ylim(0, 1.01)\n",
    "ax.set_xlabel(xlab)\n",
    "ax.set_ylabel('F=4(2) pop.')\n",
    "\n",
    "fmts = ['pdf', 'png']\n",
    "fn = os.path.join(dp, q.experiments[0]['source_path'], 'retention_scan.{}')\n",
    "for fmt in fmts:\n",
    "    fig.savefig(fn.format(fmt), dpi=200, format=fmt)"
   ]
  },
  {
   "cell_type": "code",
   "execution_count": 65,
   "metadata": {},
   "outputs": [
    {
     "name": "stdout",
     "output_type": "stream",
     "text": [
      "--------------------\n",
      "--------------------\n",
      "--------------------\n",
      "--------------------\n",
      "Internal work array size computation failed: -5\n",
      "There may be some issue with your guess: `[3.01145486e-18 0.00000000e+00 0.00000000e+00]`\n",
      "--------------------\n",
      "Internal work array size computation failed: -5\n",
      "There may be some issue with your guess: `[3.01145486e-18 0.00000000e+00 0.00000000e+00]`\n",
      "--------------------\n",
      "{0: [[31], [2]], 1: [[31], [4]]}\n",
      "Could not find conditional retention\n",
      "151\n"
     ]
    }
   ],
   "source": [
    "drop_itr = []\n",
    "\n",
    "dual_data = np.zeros((2, len(q.experiments[0]['iterations'].keys()) - len(drop_itr)))\n",
    "indv_data = np.zeros((2, len(q.experiments[0]['iterations'].keys()) - len(drop_itr)))\n",
    "dual_err = np.zeros((2, len(q.experiments[0]['iterations'].keys()) - len(drop_itr)))\n",
    "indv_err = np.zeros((2, len(q.experiments[0]['iterations'].keys()) - len(drop_itr)))\n",
    "dual_ret_data = []\n",
    "j = 0\n",
    "\n",
    "for i in q.experiments[0]['iterations'].keys():\n",
    "    if i in drop_itr:\n",
    "        print('Skipping iteration: {}'.format(i))\n",
    "        j += 1\n",
    "        continue\n",
    "\n",
    "    cs_cuts = [[35],[3]]\n",
    "    rb_cuts = [[32],[3]]\n",
    "    q.set_thresholds(cs_cuts, roi=0)\n",
    "    q.set_thresholds(rb_cuts, roi=1)\n",
    "    results = q.generate_thresholds(itr=i, loss=False)\n",
    "    \n",
    "    itr_cuts = {\n",
    "        0: q.get_thresholds()[0],\n",
    "        1: q.get_thresholds()[1]\n",
    "    }\n",
    "    print(itr_cuts)\n",
    "    q.apply_thresholds(exclude_rois=exclude)\n",
    "    qd = q.experiments[0]['iterations'][i]['quantized_data']\n",
    "    dual_load = np.logical_and(qd[:,0,0], qd[:,0,1])\n",
    "    print(np.sum(dual_load))\n",
    "    cs_only = np.logical_and(qd[:,0,0], np.logical_not(qd[:,0,1]))\n",
    "    rb_only = np.logical_and(np.logical_not(qd[:,0,0]), qd[:,0,1])\n",
    "    dual_ret =  np.mean(qd[dual_load,1], axis=0)[:2]\n",
    "    cs_ret = np.mean(qd[cs_only,1], axis=0)[:2]\n",
    "    rb_ret = np.mean(qd[rb_only,1], axis=0)[:2]\n",
    "    \n",
    "    dual_ret_data.append(qd[dual_load,1])\n",
    "\n",
    "    dual_data[:, i-j] = dual_ret\n",
    "    indv_data[0, i-j] = cs_ret[0]\n",
    "    indv_data[1, i-j] = rb_ret[1]\n",
    "\n",
    "    n_dual = sum(dual_load)\n",
    "    n_cs = sum(cs_only)\n",
    "    n_rb = sum(rb_only)\n",
    "\n",
    "    def binomial_err(n, p):\n",
    "        return np.sqrt(p*(1-p)/n)\n",
    "\n",
    "    dual_err[:, i-j] = binomial_err(n_dual, np.mean(qd[dual_load,1], axis=0))[:2]\n",
    "    cs_err = binomial_err(n_cs, np.mean(qd[cs_only,1], axis=0))[0]\n",
    "    rb_err = binomial_err(n_rb, np.mean(qd[rb_only,1], axis=0))[1]\n",
    "    indv_err[0, i-j] = cs_err\n",
    "    indv_err[1, i-j] = rb_err"
   ]
  },
  {
   "cell_type": "code",
   "execution_count": 66,
   "metadata": {},
   "outputs": [
    {
     "data": {
      "text/plain": [
       "array([[0.54304636],\n",
       "       [0.54304636]])"
      ]
     },
     "execution_count": 66,
     "metadata": {},
     "output_type": "execute_result"
    }
   ],
   "source": [
    "dual_data"
   ]
  },
  {
   "cell_type": "code",
   "execution_count": 67,
   "metadata": {},
   "outputs": [
    {
     "data": {
      "text/plain": [
       "array([[0.8562753 ],\n",
       "       [0.84938704]])"
      ]
     },
     "execution_count": 67,
     "metadata": {},
     "output_type": "execute_result"
    }
   ],
   "source": [
    "indv_data"
   ]
  },
  {
   "cell_type": "code",
   "execution_count": 68,
   "metadata": {},
   "outputs": [
    {
     "data": {
      "application/vnd.jupyter.widget-view+json": {
       "model_id": "0af19948f9f246ecb44ae37a61f94608",
       "version_major": 2,
       "version_minor": 0
      },
      "text/html": [
       "<p>Failed to display Jupyter Widget of type <code>FigureCanvasNbAgg</code>.</p>\n",
       "<p>\n",
       "  If you're reading this message in Jupyter Notebook or JupyterLab, it may mean\n",
       "  that the widgets JavaScript is still loading. If this message persists, it\n",
       "  likely means that the widgets JavaScript library is either not installed or\n",
       "  not enabled. See the <a href=\"https://ipywidgets.readthedocs.io/en/stable/user_install.html\">Jupyter\n",
       "  Widgets Documentation</a> for setup instructions.\n",
       "</p>\n",
       "<p>\n",
       "  If you're reading this message in another notebook frontend (for example, a static\n",
       "  rendering on GitHub or <a href=\"https://nbviewer.jupyter.org/\">NBViewer</a>),\n",
       "  it may mean that your frontend doesn't currently support widgets.\n",
       "</p>\n"
      ],
      "text/plain": [
       "FigureCanvasNbAgg()"
      ]
     },
     "metadata": {},
     "output_type": "display_data"
    },
    {
     "name": "stdout",
     "output_type": "stream",
     "text": [
      "cs_data.append([0.856275303644,0.0157837042504,0.543046357616,0.04053834838])\n",
      "rb_data.append([0.84938704028,0.014968074378,0.543046357616,0.04053834838])\n"
     ]
    }
   ],
   "source": [
    "fig, ax = plt.subplots(ncols=2)\n",
    "for r in range(2):\n",
    "    ax[r].errorbar(\n",
    "        np.arange(dual_data.shape[1]), dual_data[r],\n",
    "        yerr=dual_err[r],\n",
    "        fmt=['bo','rx'][r],\n",
    "        label=['cs(rb)', 'rb(cs)'][r]\n",
    "    )\n",
    "    ax[r].errorbar(\n",
    "        0.2+np.arange(dual_data.shape[1]), indv_data[r],\n",
    "        yerr=indv_err[r],\n",
    "        fmt=['cs','yd'][r],\n",
    "        label=['cs(!rb)', 'rb(!cs)'][r]\n",
    "    )\n",
    "    # plot weighted means\n",
    "    indv_wmean = np.dot(indv_data[r], np.power(indv_err[r], -2))/np.sum(np.power(indv_err[r], -2))\n",
    "    indv_stderr = np.sqrt(np.sum(np.power(indv_err[r], 2)))/dual_data.shape[1]\n",
    "    dual_wmean = np.dot(dual_data[r], np.power(dual_err[r], -2))/np.sum(np.power(dual_err[r], -2))\n",
    "    dual_stderr = np.sqrt(np.sum(np.power(dual_err[r], 2)))/dual_data.shape[1]\n",
    "    print (\"{}_data.append([{},{},{},{}])\".format(['cs','rb'][r],indv_wmean, indv_stderr, dual_wmean, dual_stderr))\n",
    "    ax[r].axhline(indv_wmean, color='cy'[r], alpha=0.5, lw=3)\n",
    "    ax[r].axhline(dual_wmean, color='br'[r], alpha=0.5, lw=3)\n",
    "    # plot uncertainty of the mean\n",
    "    ax[r].fill_between([0, dual_data.shape[1]], indv_wmean-indv_stderr, indv_wmean+indv_stderr, facecolor='cy'[r], alpha=0.2)\n",
    "    ax[r].fill_between([0, dual_data.shape[1]], dual_wmean-dual_stderr, dual_wmean+dual_stderr, facecolor='br'[r], alpha=0.2)\n",
    "    \n",
    "    ax[r].set_xlabel(xlab)\n",
    "    ax[r].legend(bbox_to_anchor=(0.95, 0.15), loc=1, borderaxespad=0.)\n",
    "    ax[r].set_ylim(0., 1)\n",
    "ax[0].set_ylabel('Retention')\n",
    "\n",
    "fmts = ['pdf', 'png']\n",
    "fn = os.path.join(dp, q.experiments[0]['source_path'], 'dual_retention_stability.{}')\n",
    "for fmt in fmts:\n",
    "    fig.savefig(fn.format(fmt), dpi=200, format=fmt)"
   ]
  },
  {
   "cell_type": "code",
   "execution_count": 69,
   "metadata": {},
   "outputs": [],
   "source": [
    "ps = np.zeros((2,2))\n",
    "n = 0\n",
    "for itr in dual_ret_data:\n",
    "    n += len(itr)\n",
    "    ps[1,1] += np.sum(np.logical_and(itr[:,0], itr[:,1]))  # both atoms retained\n",
    "    ps[0,0] += np.sum(np.logical_and(np.logical_not(itr[:,0]), np.logical_not(itr[:,1])))  # both atoms lost\n",
    "    ps[0,1] += np.sum(np.logical_and(np.logical_not(itr[:,0]), itr[:,1]))  # cs only lost\n",
    "    ps[1,0] += np.sum(np.logical_and(itr[:,0], np.logical_not(itr[:,1])))  # cs only lost\n",
    "ps = ps.astype('float')/n"
   ]
  },
  {
   "cell_type": "code",
   "execution_count": 70,
   "metadata": {},
   "outputs": [
    {
     "name": "stdout",
     "output_type": "stream",
     "text": [
      "corr_ret_data.append([[0.35761589404,0.0993377483444],[0.0993377483444,0.443708609272]])\n",
      "corr_ret_err.append([[0.0390047345037,0.0243416303385],[0.0243416303385,0.0404307337798]])\n"
     ]
    }
   ],
   "source": [
    "print('corr_ret_data.append(['+','.join(['[{},{}]'.format(ps[i][0],ps[i][1]) for i in range(2)])+'])')\n",
    "print('corr_ret_err.append(['+','.join(['[{},{}]'.format(binomial_err(n, ps)[i][0],binomial_err(n, ps)[i][1]) for i in range(2)])+'])')"
   ]
  },
  {
   "cell_type": "code",
   "execution_count": 71,
   "metadata": {},
   "outputs": [
    {
     "data": {
      "text/plain": [
       "0.004675066912975902"
      ]
     },
     "execution_count": 71,
     "metadata": {},
     "output_type": "execute_result"
    }
   ],
   "source": [
    "binomial_err(n,1./(2*n))"
   ]
  },
  {
   "cell_type": "code",
   "execution_count": 72,
   "metadata": {},
   "outputs": [],
   "source": [
    "#ps11 = []"
   ]
  },
  {
   "cell_type": "code",
   "execution_count": 73,
   "metadata": {},
   "outputs": [
    {
     "data": {
      "application/vnd.jupyter.widget-view+json": {
       "model_id": "826cf87ad56d4adb88a9a939a9e59078",
       "version_major": 2,
       "version_minor": 0
      },
      "text/html": [
       "<p>Failed to display Jupyter Widget of type <code>FigureCanvasNbAgg</code>.</p>\n",
       "<p>\n",
       "  If you're reading this message in Jupyter Notebook or JupyterLab, it may mean\n",
       "  that the widgets JavaScript is still loading. If this message persists, it\n",
       "  likely means that the widgets JavaScript library is either not installed or\n",
       "  not enabled. See the <a href=\"https://ipywidgets.readthedocs.io/en/stable/user_install.html\">Jupyter\n",
       "  Widgets Documentation</a> for setup instructions.\n",
       "</p>\n",
       "<p>\n",
       "  If you're reading this message in another notebook frontend (for example, a static\n",
       "  rendering on GitHub or <a href=\"https://nbviewer.jupyter.org/\">NBViewer</a>),\n",
       "  it may mean that your frontend doesn't currently support widgets.\n",
       "</p>\n"
      ],
      "text/plain": [
       "FigureCanvasNbAgg()"
      ]
     },
     "metadata": {},
     "output_type": "display_data"
    },
    {
     "name": "stdout",
     "output_type": "stream",
     "text": [
      "--------------------\n",
      "--------------------\n",
      "--------------------\n",
      "--------------------\n",
      "Internal work array size computation failed: -5\n",
      "There may be some issue with your guess: `[3.01145486e-18 0.00000000e+00 0.00000000e+00]`\n",
      "--------------------\n",
      "Internal work array size computation failed: -5\n",
      "There may be some issue with your guess: `[3.01145486e-18 0.00000000e+00 0.00000000e+00]`\n",
      "--------------------\n",
      "{0: [[31], [2]], 1: [[31], [4]]}\n",
      "Could not find conditional retention\n"
     ]
    }
   ],
   "source": [
    "bins = 40\n",
    "trials = 25\n",
    "fig, ax = plt.subplots()\n",
    "\n",
    "\n",
    "for i in q.experiments[0]['iterations'].keys():\n",
    "    dual_data = np.zeros((2, 1))\n",
    "    indv_data = np.zeros((2, 1))\n",
    "    dual_err = np.zeros((2, 1))\n",
    "    indv_err = np.zeros((2, 1))\n",
    "    dual_ret_data = []\n",
    "\n",
    "    cs_cuts = [[35],[3]]\n",
    "    rb_cuts = [[32],[3]]\n",
    "    q.set_thresholds(cs_cuts, roi=0)\n",
    "    q.set_thresholds(rb_cuts, roi=1)\n",
    "    results = q.generate_thresholds(itr=i, loss=False)\n",
    "\n",
    "    itr_cuts = {\n",
    "        0: q.get_thresholds()[0],\n",
    "        1: q.get_thresholds()[1]\n",
    "    }\n",
    "    print(itr_cuts)\n",
    "    q.apply_thresholds(exclude_rois=exclude)\n",
    "    qd = q.experiments[0]['iterations'][i]['quantized_data']\n",
    "    dual_load = np.logical_and(qd[:,0,0], qd[:,0,1])\n",
    "    dual_data =  qd[dual_load,1,:2]\n",
    "\n",
    "    for k in range(1):\n",
    "        ps = np.zeros((2,2,bins))\n",
    "\n",
    "        for nn in xrange(bins):\n",
    "            itr = dual_data[np.random.randint(len(dual_data), size=trials)]\n",
    "            ps[1,1,nn] += np.log(np.sum(np.logical_and(itr[:,0], itr[:,1])).astype('float')/trials)  # both atoms retained\n",
    "            ps[0,0,nn] += np.sum(np.logical_and(np.logical_not(itr[:,0]), np.logical_not(itr[:,1]))).astype('float')/trials  # both atoms lost\n",
    "            ps[0,1,nn] += np.sum(np.logical_and(np.logical_not(itr[:,0]), itr[:,1])).astype('float')/trials  # cs only lost\n",
    "            ps[1,0,nn] += np.sum(np.logical_and(itr[:,0], np.logical_not(itr[:,1]))).astype('float')/trials  # cs only lost\n",
    "\n",
    "        ax.hist(ps[1,1], alpha=0.3)\n",
    "        ps11.append(ps[1,1])"
   ]
  },
  {
   "cell_type": "code",
   "execution_count": 109,
   "metadata": {},
   "outputs": [
    {
     "data": {
      "application/vnd.jupyter.widget-view+json": {
       "model_id": "515fe7f1d84d4d85b097775a278eebd8",
       "version_major": 2,
       "version_minor": 0
      },
      "text/html": [
       "<p>Failed to display Jupyter Widget of type <code>FigureCanvasNbAgg</code>.</p>\n",
       "<p>\n",
       "  If you're reading this message in Jupyter Notebook or JupyterLab, it may mean\n",
       "  that the widgets JavaScript is still loading. If this message persists, it\n",
       "  likely means that the widgets JavaScript library is either not installed or\n",
       "  not enabled. See the <a href=\"https://ipywidgets.readthedocs.io/en/stable/user_install.html\">Jupyter\n",
       "  Widgets Documentation</a> for setup instructions.\n",
       "</p>\n",
       "<p>\n",
       "  If you're reading this message in another notebook frontend (for example, a static\n",
       "  rendering on GitHub or <a href=\"https://nbviewer.jupyter.org/\">NBViewer</a>),\n",
       "  it may mean that your frontend doesn't currently support widgets.\n",
       "</p>\n"
      ],
      "text/plain": [
       "FigureCanvasNbAgg()"
      ]
     },
     "metadata": {},
     "output_type": "display_data"
    },
    {
     "name": "stdout",
     "output_type": "stream",
     "text": [
      "1.2197461351814725\n",
      "1.4137923203638503\n",
      "0.9446377232673526\n",
      "0.9730423630078635\n",
      "0.7112670008967481\n",
      "1.0037196304474003\n",
      "0.7353642566809804\n"
     ]
    },
    {
     "data": {
      "application/vnd.jupyter.widget-view+json": {
       "model_id": "e73f94f8cb8c4116959f9aeddb97cb6a",
       "version_major": 2,
       "version_minor": 0
      },
      "text/html": [
       "<p>Failed to display Jupyter Widget of type <code>FigureCanvasNbAgg</code>.</p>\n",
       "<p>\n",
       "  If you're reading this message in Jupyter Notebook or JupyterLab, it may mean\n",
       "  that the widgets JavaScript is still loading. If this message persists, it\n",
       "  likely means that the widgets JavaScript library is either not installed or\n",
       "  not enabled. See the <a href=\"https://ipywidgets.readthedocs.io/en/stable/user_install.html\">Jupyter\n",
       "  Widgets Documentation</a> for setup instructions.\n",
       "</p>\n",
       "<p>\n",
       "  If you're reading this message in another notebook frontend (for example, a static\n",
       "  rendering on GitHub or <a href=\"https://nbviewer.jupyter.org/\">NBViewer</a>),\n",
       "  it may mean that your frontend doesn't currently support widgets.\n",
       "</p>\n"
      ],
      "text/plain": [
       "FigureCanvasNbAgg()"
      ]
     },
     "metadata": {},
     "output_type": "display_data"
    },
    {
     "data": {
      "text/plain": [
       "[<matplotlib.lines.Line2D at 0x85c730cc>]"
      ]
     },
     "execution_count": 109,
     "metadata": {},
     "output_type": "execute_result"
    }
   ],
   "source": [
    "ts = np.array([8.5,30,60,100,300,600,1200])/1000.\n",
    "fig, ax = plt.subplots(nrows=len(ps11), figsize=(3,8), sharex=True)\n",
    "ks = []\n",
    "for n, d in enumerate(ps11):\n",
    "    k = -np.array(d)/np.sqrt(ts[n])\n",
    "    ax[n].hist(k, alpha=0.8, normed=True)\n",
    "#     ax[n].set_xlim(-1.5,0.1)\n",
    "    print(np.mean(k))\n",
    "    ks.append(np.mean(k))\n",
    "    ax[n].text(20, 0.05, r\"$t={}$ s\".format(ts[n]))\n",
    "ax[-1].set_xlabel(r\"$-ln(p(t))/\\sqrt{t}$\")\n",
    "ax[3].set_ylabel(r\"PDF\")\n",
    "plt.tight_layout()\n",
    "\n",
    "fig2, ax2 = plt.subplots()\n",
    "ax2.plot(ts, ks)"
   ]
  },
  {
   "cell_type": "code",
   "execution_count": 23,
   "metadata": {},
   "outputs": [
    {
     "data": {
      "application/vnd.jupyter.widget-view+json": {
       "model_id": "825a7e39d6af49a981e6b020f579dbe1",
       "version_major": 2,
       "version_minor": 0
      },
      "text/html": [
       "<p>Failed to display Jupyter Widget of type <code>FigureCanvasNbAgg</code>.</p>\n",
       "<p>\n",
       "  If you're reading this message in Jupyter Notebook or JupyterLab, it may mean\n",
       "  that the widgets JavaScript is still loading. If this message persists, it\n",
       "  likely means that the widgets JavaScript library is either not installed or\n",
       "  not enabled. See the <a href=\"https://ipywidgets.readthedocs.io/en/stable/user_install.html\">Jupyter\n",
       "  Widgets Documentation</a> for setup instructions.\n",
       "</p>\n",
       "<p>\n",
       "  If you're reading this message in another notebook frontend (for example, a static\n",
       "  rendering on GitHub or <a href=\"https://nbviewer.jupyter.org/\">NBViewer</a>),\n",
       "  it may mean that your frontend doesn't currently support widgets.\n",
       "</p>\n"
      ],
      "text/plain": [
       "FigureCanvasNbAgg()"
      ]
     },
     "metadata": {},
     "output_type": "display_data"
    }
   ],
   "source": [
    "fig, ax = plt.subplots(nrows=len(ps11), figsize=(3,8), sharex=True)\n",
    "for n, d in enumerate(ps11):\n",
    "    ax[n].hist(d, alpha=0.8)\n",
    "    ax[n].set_xlim(0,1)"
   ]
  },
  {
   "cell_type": "code",
   "execution_count": null,
   "metadata": {},
   "outputs": [],
   "source": []
  }
 ],
 "metadata": {
  "kernelspec": {
   "display_name": "Python 2",
   "language": "python",
   "name": "python2"
  },
  "language_info": {
   "codemirror_mode": {
    "name": "ipython",
    "version": 2
   },
   "file_extension": ".py",
   "mimetype": "text/x-python",
   "name": "python",
   "nbconvert_exporter": "python",
   "pygments_lexer": "ipython2",
   "version": "2.7.6"
  }
 },
 "nbformat": 4,
 "nbformat_minor": 2
}
