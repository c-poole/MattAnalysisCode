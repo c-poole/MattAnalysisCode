{
 "cells": [
  {
   "cell_type": "code",
   "execution_count": 1,
   "metadata": {},
   "outputs": [],
   "source": [
    "%matplotlib ipympl\n",
    "from QDP import qdp\n",
    "import os.path\n",
    "import numpy as np\n",
    "from scipy.stats import poisson\n",
    "import matplotlib.pyplot as plt\n",
    "from matplotlib import gridspec\n",
    "from matplotlib.colors import LogNorm\n",
    "import datetime\n",
    "import os\n",
    "dp = '/home/ebert/jupyter-notebooks/FNode-data'\n",
    "marker_styles = [\n",
    "    dict(color='cornflowerblue', marker='o', markeredgecolor='b', linestyle='None'),\n",
    "    dict(color='indianred', marker='d', markeredgecolor='r', linestyle='None')\n",
    "]\n",
    "\n",
    "exclude = [2]"
   ]
  },
  {
   "cell_type": "code",
   "execution_count": 2,
   "metadata": {
    "scrolled": true
   },
   "outputs": [
    {
     "name": "stdout",
     "output_type": "stream",
     "text": [
      "data at: 2018_07_11/2018_07_11_09_29_44_trap-lifetime/results.hdf5\n",
      "name 'fort_exp' is not defined\n",
      "name 'rb_uwave_freq' is not defined\n",
      "data at: 2018_07_11/2018_07_11_13_45_13_trap-lifetime-2/results.hdf5\n",
      "name 'fort_exp' is not defined\n",
      "name 'rb_uwave_freq' is not defined\n",
      "ivars: [u'gap_time']\n",
      "[    79.     91.  10000.]\n",
      "[   82.    100.   4005.1]\n",
      "loading\n",
      "loading\n",
      "loading\n",
      "[ 65.  63.   5.]\n",
      "[  96.  100.    0.]\n",
      "loading\n",
      "loading\n",
      "no loading observed\n",
      "[    65.     52.  10000.]\n",
      "[ 106.  100.    0.]\n",
      "loading\n",
      "loading\n",
      "no loading observed\n",
      "[ 62.  51.   5.]\n",
      "[ 137.  100.    0.]\n",
      "loading\n",
      "loading\n",
      "no loading observed\n",
      "[    90.     45.  10000.]\n",
      "[ 192.  102.    0.]\n",
      "loading\n",
      "loading\n",
      "no loading observed\n",
      "[ 56.  43.   5.]\n",
      "[ 153.  103.    0.]\n",
      "loading\n",
      "loading\n",
      "no loading observed\n",
      "[    34.     31.  10000.]\n",
      "[ 147.  101.    0.]\n",
      "loading\n",
      "loading\n",
      "no loading observed\n",
      "[ 16.  21.   5.]\n",
      "[ 79.  98.   0.]\n",
      "loading\n",
      "loading\n",
      "no loading observed\n",
      "[     0.     29.  10000.]\n",
      "[  2.  99.   0.]\n",
      "loading\n",
      "loading\n",
      "no loading observed\n",
      "[ 16.  23.   5.]\n",
      "[  85.  101.    0.]\n",
      "loading\n",
      "loading\n",
      "no loading observed\n",
      "[    14.     17.  10000.]\n",
      "[ 92.  98.   0.]\n",
      "loading\n",
      "loading\n",
      "no loading observed\n",
      "[67 81  0]\n",
      "[70 88  1]\n",
      "loading\n",
      "loading\n",
      "loading\n",
      "[57 58  0]\n",
      "[72 76  1]\n",
      "loading\n",
      "loading\n",
      "loading\n",
      "[56 44  0]\n",
      "[79 73  1]\n",
      "loading\n",
      "loading\n",
      "loading\n",
      "[61 49  0]\n",
      "[114  77   1]\n",
      "loading\n",
      "loading\n",
      "loading\n",
      "[79 39  0]\n",
      "[162  72   1]\n",
      "loading\n",
      "loading\n",
      "loading\n",
      "[50 37  0]\n",
      "[124  74   1]\n",
      "loading\n",
      "loading\n",
      "loading\n",
      "[32 27  0]\n",
      "[116  70   1]\n",
      "loading\n",
      "loading\n",
      "loading\n",
      "[15 19  0]\n",
      "[60 79  1]\n",
      "loading\n",
      "loading\n",
      "loading\n",
      "[ 0 29  0]\n",
      "[ 2 99  1]\n",
      "loading\n",
      "loading\n",
      "loading\n",
      "[15 19  0]\n",
      "[61 77  1]\n",
      "loading\n",
      "loading\n",
      "loading\n",
      "[10 13  0]\n",
      "[58 64  1]\n",
      "loading\n",
      "loading\n",
      "loading\n",
      "ivar:\t0.000\tloading:0.286\tretention:0.957 +- 0.024\n",
      "ivar:\t0.000\tloading:0.348\tretention:0.920 +- 0.024\n",
      "ivar:\t0.000\tloading:13.955\tretention:0.000 +- 0.024\n",
      "ivar:\t0.000\tloading:0.302\tretention:0.792 +- 0.041\n",
      "ivar:\t0.000\tloading:0.314\tretention:0.763 +- 0.041\n",
      "ivar:\t0.000\tloading:0.000\tretention:0.000 +- 0.041\n",
      "ivar:\t0.000\tloading:0.280\tretention:0.709 +- 0.048\n",
      "ivar:\t0.000\tloading:0.264\tretention:0.603 +- 0.048\n",
      "ivar:\t0.000\tloading:0.000\tretention:0.000 +- 0.048\n",
      "ivar:\t0.000\tloading:0.354\tretention:0.535 +- 0.046\n",
      "ivar:\t0.000\tloading:0.258\tretention:0.636 +- 0.046\n",
      "ivar:\t0.000\tloading:0.000\tretention:0.000 +- 0.046\n",
      "ivar:\t0.000\tloading:0.369\tretention:0.488 +- 0.049\n",
      "ivar:\t0.000\tloading:0.196\tretention:0.542 +- 0.049\n",
      "ivar:\t0.000\tloading:0.000\tretention:0.000 +- 0.049\n",
      "ivar:\t0.000\tloading:0.295\tretention:0.403 +- 0.049\n",
      "ivar:\t0.000\tloading:0.199\tretention:0.500 +- 0.049\n",
      "ivar:\t0.000\tloading:0.000\tretention:0.000 +- 0.049\n",
      "ivar:\t12000.000\tloading:0.386\tretention:0.276 +- 0.049\n",
      "ivar:\t12000.000\tloading:0.265\tretention:0.386 +- 0.049\n",
      "ivar:\t12000.000\tloading:0.000\tretention:0.000 +- 0.049\n",
      "ivar:\t14000.000\tloading:0.228\tretention:0.250 +- 0.040\n",
      "ivar:\t14000.000\tloading:0.283\tretention:0.241 +- 0.040\n",
      "ivar:\t14000.000\tloading:0.000\tretention:0.000 +- 0.040\n",
      "ivar:\t16000.000\tloading:0.005\tretention:0.000 +- 0.038\n",
      "ivar:\t16000.000\tloading:0.254\tretention:0.293 +- 0.038\n",
      "ivar:\t16000.000\tloading:0.000\tretention:0.000 +- 0.038\n",
      "ivar:\t18000.000\tloading:0.276\tretention:0.246 +- 0.041\n",
      "ivar:\t18000.000\tloading:0.328\tretention:0.247 +- 0.041\n",
      "ivar:\t18000.000\tloading:0.000\tretention:0.000 +- 0.041\n",
      "ivar:\t20000.000\tloading:0.367\tretention:0.172 +- 0.042\n",
      "ivar:\t20000.000\tloading:0.390\tretention:0.203 +- 0.042\n",
      "ivar:\t20000.000\tloading:0.000\tretention:0.000 +- 0.042\n",
      "ivar:\t0.000\tloading:0.000\tretention:0.000 +- 0.000\n",
      "ivar:\t0.000\tloading:0.000\tretention:0.000 +- 0.000\n",
      "ivar:\t0.000\tloading:0.000\tretention:0.000 +- 0.000\n"
     ]
    },
    {
     "name": "stderr",
     "output_type": "stream",
     "text": [
      "/home/ebert/jupyter-notebooks/FNode/analyses/qdp/QDP/qdp.py:133: RuntimeWarning: invalid value encountered in sqrt\n",
      "  errs[r] = (z/n[r].astype('float'))*np.sqrt(ns[r].astype('float')*(1.0-ns[r].astype('float')/n[r].astype('float')))\n"
     ]
    }
   ],
   "source": [
    "exp_names = [\n",
    "    '2018_07_11_09_29_44_trap-lifetime',\n",
    "    '2018_07_11_13_45_13_trap-lifetime-2'\n",
    "]\n",
    "\n",
    "single_only = True\n",
    "\n",
    "rets = 'retention'\n",
    "errs = 'error'\n",
    "if single_only:\n",
    "    rets = 'conditional_retention'\n",
    "    errs = 'conditional_retention_err'\n",
    "\n",
    "q = qdp.QDP(base_data_path=dp)\n",
    "for exp_name in exp_names:\n",
    "    exp_date = '_'.join(exp_name.split('_')[:3])\n",
    "    experiment_file = os.path.join(exp_date, exp_name, 'results.hdf5')\n",
    "    q.load_data_file(experiment_file)\n",
    "\n",
    "print \"ivars: {}\".format(q.experiments[0]['variable_list'])\n",
    "roi_map = ['cs', 'rb']\n",
    "cs_cuts = [[33],[3]]\n",
    "rb_cuts = [[31],[3]]\n",
    "q.set_thresholds(cs_cuts, roi=0)\n",
    "q.set_thresholds(rb_cuts, roi=1)\n",
    "retention = q.apply_thresholds(exclude_rois=exclude, ncondition=1)\n",
    "tbl_str = \"ivar:\\t{0}\\tretention:{1} +- {2}\"\n",
    "\n",
    "q.experiments[0]['variable_list']\n",
    "try:\n",
    "    xlab = q.experiments[0]['variable_desc'][q.experiments[0]['variable_list'][0]]['description']\n",
    "except IndexError:\n",
    "    xlab = 'iterator'\n",
    "\n",
    "tbl_str = \"ivar:\\t{0:.3f}\\tloading:{1:.3f}\\tretention:{2:.3f} +- {3:.3f}\"\n",
    "for i in range(len(retention[rets].flatten())):\n",
    "    print(tbl_str.format(\n",
    "        retention['ivar'].flatten()[i],\n",
    "        retention['loading'].flatten()[i],\n",
    "        retention[rets].flatten()[i],\n",
    "        retention[errs].flatten()[i]\n",
    "    ))"
   ]
  },
  {
   "cell_type": "code",
   "execution_count": 3,
   "metadata": {},
   "outputs": [],
   "source": [
    "q.save_experiment_data(filename_prefix='lifetime')\n",
    "legends = ['{}'.format(x) for x in [1,2]]"
   ]
  },
  {
   "cell_type": "code",
   "execution_count": 86,
   "metadata": {
    "scrolled": false
   },
   "outputs": [
    {
     "data": {
      "application/vnd.jupyter.widget-view+json": {
       "model_id": "",
       "version_major": 2,
       "version_minor": 0
      },
      "text/html": [
       "<p>Failed to display Jupyter Widget of type <code>FigureCanvasNbAgg</code>.</p>\n",
       "<p>\n",
       "  If you're reading this message in Jupyter Notebook or JupyterLab, it may mean\n",
       "  that the widgets JavaScript is still loading. If this message persists, it\n",
       "  likely means that the widgets JavaScript library is either not installed or\n",
       "  not enabled. See the <a href=\"https://ipywidgets.readthedocs.io/en/stable/user_install.html\">Jupyter\n",
       "  Widgets Documentation</a> for setup instructions.\n",
       "</p>\n",
       "<p>\n",
       "  If you're reading this message in another notebook frontend (for example, a static\n",
       "  rendering on GitHub or <a href=\"https://nbviewer.jupyter.org/\">NBViewer</a>),\n",
       "  it may mean that your frontend doesn't currently support widgets.\n",
       "</p>\n"
      ],
      "text/plain": [
       "FigureCanvasNbAgg()"
      ]
     },
     "metadata": {},
     "output_type": "display_data"
    },
    {
     "ename": "ValueError",
     "evalue": "could not broadcast input array from shape (5) into shape (6)",
     "output_type": "error",
     "traceback": [
      "\u001b[0;31m\u001b[0m",
      "\u001b[0;31mValueError\u001b[0mTraceback (most recent call last)",
      "\u001b[0;32m<ipython-input-86-43a35b36d569>\u001b[0m in \u001b[0;36m<module>\u001b[0;34m()\u001b[0m\n\u001b[1;32m      4\u001b[0m \u001b[0;31m# fits = []\u001b[0m\u001b[0;34m\u001b[0m\u001b[0;34m\u001b[0m\u001b[0m\n\u001b[1;32m      5\u001b[0m \u001b[0mretention\u001b[0m\u001b[0;34m[\u001b[0m\u001b[0;34m'ivar'\u001b[0m\u001b[0;34m]\u001b[0m\u001b[0;34m[\u001b[0m\u001b[0;36m0\u001b[0m\u001b[0;34m,\u001b[0m\u001b[0;34m:\u001b[0m\u001b[0;34m,\u001b[0m\u001b[0;36m0\u001b[0m\u001b[0;34m]\u001b[0m \u001b[0;34m=\u001b[0m \u001b[0mnp\u001b[0m\u001b[0;34m.\u001b[0m\u001b[0mlinspace\u001b[0m\u001b[0;34m(\u001b[0m\u001b[0;36m8.5\u001b[0m\u001b[0;34m,\u001b[0m\u001b[0;36m1e4\u001b[0m\u001b[0;34m,\u001b[0m\u001b[0;36m6\u001b[0m\u001b[0;34m)\u001b[0m\u001b[0;34m\u001b[0m\u001b[0m\n\u001b[0;32m----> 6\u001b[0;31m \u001b[0mretention\u001b[0m\u001b[0;34m[\u001b[0m\u001b[0;34m'ivar'\u001b[0m\u001b[0;34m]\u001b[0m\u001b[0;34m[\u001b[0m\u001b[0;36m1\u001b[0m\u001b[0;34m,\u001b[0m\u001b[0;34m:\u001b[0m\u001b[0;34m,\u001b[0m\u001b[0;36m0\u001b[0m\u001b[0;34m]\u001b[0m \u001b[0;34m=\u001b[0m \u001b[0mnp\u001b[0m\u001b[0;34m.\u001b[0m\u001b[0mlinspace\u001b[0m\u001b[0;34m(\u001b[0m\u001b[0;36m1.2e4\u001b[0m\u001b[0;34m,\u001b[0m\u001b[0;36m2e4\u001b[0m\u001b[0;34m,\u001b[0m\u001b[0;36m5\u001b[0m\u001b[0;34m)\u001b[0m\u001b[0;34m\u001b[0m\u001b[0m\n\u001b[0m\u001b[1;32m      7\u001b[0m \u001b[0;32mfor\u001b[0m \u001b[0me\u001b[0m \u001b[0;32min\u001b[0m \u001b[0mrange\u001b[0m\u001b[0;34m(\u001b[0m\u001b[0mlen\u001b[0m\u001b[0;34m(\u001b[0m\u001b[0mretention\u001b[0m\u001b[0;34m[\u001b[0m\u001b[0;34m'ivar'\u001b[0m\u001b[0;34m]\u001b[0m\u001b[0;34m)\u001b[0m\u001b[0;34m)\u001b[0m\u001b[0;34m:\u001b[0m\u001b[0;34m\u001b[0m\u001b[0m\n\u001b[1;32m      8\u001b[0m \u001b[0;31m#     fits.append(np.polyfit(retention['ivar'][e,:,roi], retention['retention'][e,:,roi], 1))\u001b[0m\u001b[0;34m\u001b[0m\u001b[0;34m\u001b[0m\u001b[0m\n",
      "\u001b[0;31mValueError\u001b[0m: could not broadcast input array from shape (5) into shape (6)"
     ]
    }
   ],
   "source": [
    "fig, ax = plt.subplots()\n",
    "colors = ['b', 'g', 'r', 'c', 'm', 'y', 'k']\n",
    "roi = 0\n",
    "# fits = []\n",
    "ivar = np.concatenate(np.linspace(8.5,1e4,6)\n",
    "retention['ivar'][1,:,0] = np.linspace(1.2e4,2e4,5)\n",
    "for e in range(len(retention['ivar'])):\n",
    "#     fits.append(np.polyfit(retention['ivar'][e,:,roi], retention['retention'][e,:,roi], 1))\n",
    "    ax.errorbar(retention['ivar'][e,:,0], retention['retention'][e,:,roi],\n",
    "                yerr=retention['error'][e,:,roi],\n",
    "                fmt = colors[e]+'o-',\n",
    "                label=legends[e]\n",
    "    )\n",
    "        \n",
    "#     ax.plot(-8.6-np.linspace(0,2,6), retention['loading'][e,:,roi], colors[e]+'x')\n",
    "#     ax.plot(retention['ivar'][e,:,roi], np.poly1d(fits[-1])(retention['ivar'][e,:,roi]), colors[e]+'-' ,label=legends[e])\n",
    "ax.legend(bbox_to_anchor=(0.85, 0.95), loc=1, borderaxespad=0.)\n",
    "ax.set_ylim(0., 1.01)\n",
    "ax.set_xlabel(xlab)\n",
    "ax.set_ylabel('F=2')\n",
    "fmts = ['pdf', 'png']\n",
    "fn = os.path.join(dp, os.path.dirname(experiment_file), 'cs-uwave-ramsey.{}')\n",
    "for fmt in fmts:\n",
    "    fig.savefig(fn.format(fmt), dpi=200, format=fmt)"
   ]
  },
  {
   "cell_type": "code",
   "execution_count": 3,
   "metadata": {
    "scrolled": false
   },
   "outputs": [
    {
     "data": {
      "application/vnd.jupyter.widget-view+json": {
       "model_id": "37aea9ebe14c4194a9ad0d7e049fd44a",
       "version_major": 2,
       "version_minor": 0
      },
      "text/html": [
       "<p>Failed to display Jupyter Widget of type <code>FigureCanvasNbAgg</code>.</p>\n",
       "<p>\n",
       "  If you're reading this message in Jupyter Notebook or JupyterLab, it may mean\n",
       "  that the widgets JavaScript is still loading. If this message persists, it\n",
       "  likely means that the widgets JavaScript library is either not installed or\n",
       "  not enabled. See the <a href=\"https://ipywidgets.readthedocs.io/en/stable/user_install.html\">Jupyter\n",
       "  Widgets Documentation</a> for setup instructions.\n",
       "</p>\n",
       "<p>\n",
       "  If you're reading this message in another notebook frontend (for example, a static\n",
       "  rendering on GitHub or <a href=\"https://nbviewer.jupyter.org/\">NBViewer</a>),\n",
       "  it may mean that your frontend doesn't currently support widgets.\n",
       "</p>\n"
      ],
      "text/plain": [
       "FigureCanvasNbAgg()"
      ]
     },
     "metadata": {},
     "output_type": "display_data"
    },
    {
     "name": "stdout",
     "output_type": "stream",
     "text": [
      "[  0.95692399  11.29052678]\n",
      "[ 0.01630036  0.48585541]\n",
      "[  0.91393715  13.4564238 ]\n",
      "[ 0.02352775  0.83475513]\n"
     ]
    }
   ],
   "source": [
    "import scipy.optimize as optimize\n",
    "\n",
    "fig, ax = plt.subplots()\n",
    "ret = []\n",
    "err = []\n",
    "fmt_map = ['bo', 'rd']\n",
    "ivar = [\n",
    "    np.delete(np.concatenate((np.linspace(8.5,1e4,6), np.linspace(1.2e4,2e4,5)))/1e3, -3),\n",
    "    np.concatenate((np.linspace(8.5,1e4,6), np.linspace(1.2e4,2e4,5)))/1e3\n",
    "]\n",
    "\n",
    "def expon(x, a, tau, b):\n",
    "    return b + a*np.exp(-x/tau)\n",
    "\n",
    "for r in range(2):\n",
    "    ret.append(np.concatenate((retention[rets][0,:,r], retention[rets][1,:-1,r])))\n",
    "    err.append(np.concatenate((retention[errs][0,:,r], retention[errs][1,:-1,r])))\n",
    "    if r == 0:\n",
    "        ret[r] = np.delete(ret[r], -3)\n",
    "        err[r] = np.delete(err[r], -3)\n",
    "    guess = [1,10]\n",
    "    popt, pcov = optimize.curve_fit(\n",
    "        lambda t, a, tau: expon(t, a, tau, 0),\n",
    "        ivar[r],\n",
    "        ret[r],\n",
    "        p0=guess,\n",
    "        sigma=err[r]\n",
    "    )\n",
    "    print(popt)\n",
    "    print(np.sqrt(np.diagonal(np.abs(pcov))))\n",
    "    xs = np.linspace(0,25,100)\n",
    "    ax.plot(xs, expon(xs, popt[0], popt[1], 0), fmt_map[r][0]+'--', alpha=0.6)\n",
    "    ax.errorbar(ivar[r], ret[r], yerr=err[r], **marker_styles[r])\n",
    "        \n",
    "ax.set_ylim(0., 1.0)\n",
    "ax.set_xlabel('Time Between Readouts (s)')\n",
    "ax.set_ylabel('Retention')\n",
    "fmts = ['pdf', 'png']\n",
    "fn = os.path.join(dp, os.path.dirname(experiment_file), 'trap-lifetime_20180711.{}')\n",
    "for fmt in fmts:\n",
    "    fig.savefig(fn.format(fmt), dpi=200, format=fmt)"
   ]
  },
  {
   "cell_type": "code",
   "execution_count": 4,
   "metadata": {},
   "outputs": [
    {
     "data": {
      "text/plain": [
       "array([ 0.02406789,  0.04060384,  0.04201635,  0.04204159,  0.04134656,\n",
       "        0.04086486])"
      ]
     },
     "execution_count": 4,
     "metadata": {},
     "output_type": "execute_result"
    }
   ],
   "source": [
    "retention['error'][0,:,0]"
   ]
  },
  {
   "cell_type": "code",
   "execution_count": 6,
   "metadata": {},
   "outputs": [
    {
     "data": {
      "text/plain": [
       "array([ 0.,  0.,  0.,  0.,  0.,  0.])"
      ]
     },
     "execution_count": 6,
     "metadata": {},
     "output_type": "execute_result"
    }
   ],
   "source": [
    "retention[errs][1,:,0]"
   ]
  },
  {
   "cell_type": "code",
   "execution_count": 45,
   "metadata": {},
   "outputs": [
    {
     "name": "stderr",
     "output_type": "stream",
     "text": [
      "/usr/local/lib/python2.7/dist-packages/matplotlib/pyplot.py:523: RuntimeWarning: More than 20 figures have been opened. Figures created through the pyplot interface (`matplotlib.pyplot.figure`) are retained until explicitly closed and may consume too much memory. (To control this warning, see the rcParam `figure.max_open_warning`).\n",
      "  max_open_warning, RuntimeWarning)\n"
     ]
    },
    {
     "data": {
      "application/vnd.jupyter.widget-view+json": {
       "model_id": "2a6c3eefb7f54403a16382df3a046f7a",
       "version_major": 2,
       "version_minor": 0
      },
      "text/html": [
       "<p>Failed to display Jupyter Widget of type <code>FigureCanvasNbAgg</code>.</p>\n",
       "<p>\n",
       "  If you're reading this message in Jupyter Notebook or JupyterLab, it may mean\n",
       "  that the widgets JavaScript is still loading. If this message persists, it\n",
       "  likely means that the widgets JavaScript library is either not installed or\n",
       "  not enabled. See the <a href=\"https://ipywidgets.readthedocs.io/en/stable/user_install.html\">Jupyter\n",
       "  Widgets Documentation</a> for setup instructions.\n",
       "</p>\n",
       "<p>\n",
       "  If you're reading this message in another notebook frontend (for example, a static\n",
       "  rendering on GitHub or <a href=\"https://nbviewer.jupyter.org/\">NBViewer</a>),\n",
       "  it may mean that your frontend doesn't currently support widgets.\n",
       "</p>\n"
      ],
      "text/plain": [
       "FigureCanvasNbAgg()"
      ]
     },
     "metadata": {},
     "output_type": "display_data"
    }
   ],
   "source": [
    "fig, ax = plt.subplots()\n",
    "colors = ['b', 'g', 'r', 'c', 'm', 'y', 'k']\n",
    "roi = 1\n",
    "# fits = []\n",
    "for e in range(len(retention['ivar'])):\n",
    "#     fits.append(np.polyfit(retention['ivar'][e,:,roi], retention['retention'][e,:,roi], 1))\n",
    "    l = len(retention['ivar'][e,:,roi])\n",
    "#     if e == 3:\n",
    "#         l = 4\n",
    "    ax.errorbar(retention['ivar'][e,:l,roi], retention['retention'][e,:l,roi],\n",
    "                yerr=retention['error'][e,:l,roi],\n",
    "                fmt = colors[e]+'o-',\n",
    "                label=legends[e]\n",
    "    )\n",
    "        \n",
    "#     ax.plot(retention['ivar'][e,:,roi], retention['loading'][e,:,roi], colors[e]+'x')\n",
    "#     ax.plot(retention['ivar'][e,:,roi], np.poly1d(fits[-1])(retention['ivar'][e,:,roi]), colors[e]+'-' ,label=legends[e])\n",
    "ax.legend(bbox_to_anchor=(0.85, 0.95), loc=1, borderaxespad=0.)\n",
    "ax.set_ylim(0, 1.01)\n",
    "ax.set_xlabel(xlab)\n",
    "ax.set_ylabel('Retention')\n",
    "fmts = ['pdf', 'png']\n",
    "fn = os.path.join(dp, os.path.dirname(experiment_file), 'rb_retention.{}')\n",
    "for fmt in fmts:\n",
    "    fig.savefig(fn.format(fmt), dpi=200, format=fmt)"
   ]
  },
  {
   "cell_type": "code",
   "execution_count": 6,
   "metadata": {},
   "outputs": [],
   "source": [
    "import scipy.optimize as optimize\n",
    "\n",
    "def gaussian(x, a, x0, s, b):\n",
    "    return b + a*np.exp(-0.5*((x-x0)/s)**2)\n",
    "\n",
    "def rfe(x, a, f, phi, b, tau):\n",
    "    return b + a*np.cos(2*np.pi*f*x+phi)*np.exp(-x/tau)"
   ]
  },
  {
   "cell_type": "code",
   "execution_count": 82,
   "metadata": {},
   "outputs": [
    {
     "data": {
      "application/vnd.jupyter.widget-view+json": {
       "model_id": "94f1f0b38c974f2fb035774408d5fdac",
       "version_major": 2,
       "version_minor": 0
      },
      "text/html": [
       "<p>Failed to display Jupyter Widget of type <code>FigureCanvasNbAgg</code>.</p>\n",
       "<p>\n",
       "  If you're reading this message in Jupyter Notebook or JupyterLab, it may mean\n",
       "  that the widgets JavaScript is still loading. If this message persists, it\n",
       "  likely means that the widgets JavaScript library is either not installed or\n",
       "  not enabled. See the <a href=\"https://ipywidgets.readthedocs.io/en/stable/user_install.html\">Jupyter\n",
       "  Widgets Documentation</a> for setup instructions.\n",
       "</p>\n",
       "<p>\n",
       "  If you're reading this message in another notebook frontend (for example, a static\n",
       "  rendering on GitHub or <a href=\"https://nbviewer.jupyter.org/\">NBViewer</a>),\n",
       "  it may mean that your frontend doesn't currently support widgets.\n",
       "</p>\n"
      ],
      "text/plain": [
       "FigureCanvasNbAgg()"
      ]
     },
     "metadata": {},
     "output_type": "display_data"
    }
   ],
   "source": [
    "fig, ax = plt.subplots()\n",
    "xdat = []\n",
    "ydat = []\n",
    "edat = []\n",
    "colors = ['b', 'g', 'r', 'c', 'm', 'y', 'k']\n",
    "roi = 1\n",
    "# fits = []\n",
    "for e in range(len(retention['ivar'])):\n",
    "#     fits.append(np.polyfit(retention['ivar'][e,:,roi], retention['retention'][e,:,roi], 1))\n",
    "    xpts = [[ 0. ,  0.5,  1. ,  1.5,  2. ,  2.5,  3. ,  3.5,  4. ,  4.5,  5. ,\n",
    "        5.5,  6. ][:13],[ 0. ,  0.2,  0.4,  0.6,  0.8,  1. ,  1.2,  1.4,  1.6,  1.8,  2. ,\n",
    "        2.2,  2.4,  2.6,  2.8,  3. ][:13]][e]\n",
    "    ax.errorbar(xpts, retention['retention'][e,:,roi],\n",
    "                yerr=retention['error'][e,:,roi],\n",
    "                fmt = colors[e]+'o',\n",
    "                label=legends[e]\n",
    "    )\n",
    "    xdat += xpts\n",
    "    ydat += retention['retention'][e,:,roi].tolist()\n",
    "    edat += retention['error'][e,:,roi].tolist()\n",
    "# print(xdat)\n",
    "# print(ydat)\n",
    "# print(edat)\n",
    "ax.legend(bbox_to_anchor=(0.85, 0.95), loc=1, borderaxespad=0.)\n",
    "ax.set_ylim(0., 1.01)\n",
    "ax.set_xlabel(xlab)\n",
    "ax.set_ylabel('F=2')\n",
    "\n",
    "guess = [ 0.7,  1.2, 3, 0.5, 3]\n",
    "popt, pcov = optimize.curve_fit(\n",
    "    rfe,\n",
    "    xdat,\n",
    "    ydat,\n",
    "    p0=guess,\n",
    "    sigma=edat\n",
    ")\n",
    "xs = np.linspace(min(xdat),max(xdat),100)\n",
    "ax.plot(xs, rfe(xs, *popt))\n",
    "\n",
    "fit_data = \"a: {:.3f}\\nf: {:.5f}\\nphi: {:.3f}\\nb: {:.3f}\\ntau: {:.3f}\"\n",
    "ax.text(4.5, 0.1, fit_data.format(*popt), fontsize=12)\n",
    "\n",
    "fmts = ['pdf', 'png']\n",
    "fn = os.path.join(dp, os.path.dirname(experiment_file), 'rb-uwave-ramsey.{}')\n",
    "for fmt in fmts:\n",
    "    fig.savefig(fn.format(fmt), dpi=200, format=fmt)"
   ]
  },
  {
   "cell_type": "code",
   "execution_count": 40,
   "metadata": {},
   "outputs": [
    {
     "data": {
      "text/plain": [
       "[[-1.0, -1.0],\n",
       " [-0.8, -0.8],\n",
       " [-0.6, -0.6],\n",
       " [-0.3999999999999999, -0.3999999999999999],\n",
       " [-0.19999999999999996, -0.19999999999999996],\n",
       " [0.0, 0.0],\n",
       " [0.20000000000000018, 0.20000000000000018],\n",
       " [0.40000000000000013, 0.40000000000000013],\n",
       " [0.6000000000000001, 0.6000000000000001],\n",
       " [0.8, 0.8],\n",
       " [1.0, 1.0],\n",
       " [-0.5, -0.5],\n",
       " [-0.7, -0.7],\n",
       " [-0.9, -0.9],\n",
       " [-1.1, -1.1],\n",
       " [-1.3, -1.3],\n",
       " [-1.5, -1.5],\n",
       " [-1.7000000000000002, -1.7000000000000002],\n",
       " [-1.9000000000000001, -1.9000000000000001],\n",
       " [-2.1, -2.1],\n",
       " [-2.3, -2.3],\n",
       " [-2.5, -2.5],\n",
       " [-2.0, -2.0],\n",
       " [-2.1, -2.1],\n",
       " [-2.2, -2.2],\n",
       " [-2.3, -2.3],\n",
       " [-2.4, -2.4],\n",
       " [-2.5, -2.5],\n",
       " [-2.6, -2.6],\n",
       " [-2.7, -2.7],\n",
       " [-2.8, -2.8],\n",
       " [-2.9, -2.9],\n",
       " [-3.0, -3.0],\n",
       " [-3.5, -3.5],\n",
       " [-3.3333333333333335, -3.3333333333333335],\n",
       " [-3.1666666666666665, -3.1666666666666665],\n",
       " [-3.0, -3.0],\n",
       " [0.0, 0.0],\n",
       " [0.0, 0.0],\n",
       " [0.0, 0.0],\n",
       " [1.35807730942e-312, 1.094299833e-315],\n",
       " [0.0, 0.0],\n",
       " [0.0, nan],\n",
       " [0.0, 0.0]]"
      ]
     },
     "execution_count": 40,
     "metadata": {},
     "output_type": "execute_result"
    }
   ],
   "source": [
    "xdat"
   ]
  },
  {
   "cell_type": "code",
   "execution_count": 13,
   "metadata": {},
   "outputs": [
    {
     "data": {
      "application/vnd.jupyter.widget-view+json": {
       "model_id": "732989cabf324dc2b489481d6815e293",
       "version_major": 2,
       "version_minor": 0
      },
      "text/html": [
       "<p>Failed to display Jupyter Widget of type <code>FigureCanvasNbAgg</code>.</p>\n",
       "<p>\n",
       "  If you're reading this message in Jupyter Notebook or JupyterLab, it may mean\n",
       "  that the widgets JavaScript is still loading. If this message persists, it\n",
       "  likely means that the widgets JavaScript library is either not installed or\n",
       "  not enabled. See the <a href=\"https://ipywidgets.readthedocs.io/en/stable/user_install.html\">Jupyter\n",
       "  Widgets Documentation</a> for setup instructions.\n",
       "</p>\n",
       "<p>\n",
       "  If you're reading this message in another notebook frontend (for example, a static\n",
       "  rendering on GitHub or <a href=\"https://nbviewer.jupyter.org/\">NBViewer</a>),\n",
       "  it may mean that your frontend doesn't currently support widgets.\n",
       "</p>\n"
      ],
      "text/plain": [
       "FigureCanvasNbAgg()"
      ]
     },
     "metadata": {},
     "output_type": "display_data"
    }
   ],
   "source": [
    "fig, ax = plt.subplots()\n",
    "colors = ['b', 'g', 'r', 'c', 'm', 'y', 'k']\n",
    "roi = 0\n",
    "# fits = []\n",
    "for e in range(len(retention['ivar'])):\n",
    "#     fits.append(np.polyfit(retention['ivar'][e,:,roi], retention['retention'][e,:,roi], 1))\n",
    "    l = len(retention['ivar'][e,:,roi])\n",
    "#     if e == 3:\n",
    "#         l = 4\n",
    "    ax.plot([1,0], retention['loading'][e,:l,roi],\n",
    "            colors[e]+'o-',\n",
    "            label=legends[e]\n",
    "    )\n",
    "        \n",
    "#     ax.plot(retention['ivar'][e,:,roi], retention['loading'][e,:,roi], colors[e]+'x')\n",
    "#     ax.plot(retention['ivar'][e,:,roi], np.poly1d(fits[-1])(retention['ivar'][e,:,roi]), colors[e]+'-' ,label=legends[e])\n",
    "ax.legend(bbox_to_anchor=(0.85, 0.95), loc=1, borderaxespad=0.)\n",
    "ax.set_ylim(0., .3)\n",
    "ax.set_xlabel(\"Rb loading\")\n",
    "ax.set_ylabel('Loading')\n",
    "fmts = ['pdf', 'png']\n",
    "fn = os.path.join(dp, os.path.dirname(experiment_file), 'cs_rb-collision_loading.{}')\n",
    "for fmt in fmts:\n",
    "    fig.savefig(fn.format(fmt), dpi=200, format=fmt)"
   ]
  },
  {
   "cell_type": "code",
   "execution_count": 9,
   "metadata": {},
   "outputs": [
    {
     "data": {
      "application/vnd.jupyter.widget-view+json": {
       "model_id": "7aff5adc3bdf4fcd81d1b591d10f4e12",
       "version_major": 2,
       "version_minor": 0
      },
      "text/html": [
       "<p>Failed to display Jupyter Widget of type <code>FigureCanvasNbAgg</code>.</p>\n",
       "<p>\n",
       "  If you're reading this message in Jupyter Notebook or JupyterLab, it may mean\n",
       "  that the widgets JavaScript is still loading. If this message persists, it\n",
       "  likely means that the widgets JavaScript library is either not installed or\n",
       "  not enabled. See the <a href=\"https://ipywidgets.readthedocs.io/en/stable/user_install.html\">Jupyter\n",
       "  Widgets Documentation</a> for setup instructions.\n",
       "</p>\n",
       "<p>\n",
       "  If you're reading this message in another notebook frontend (for example, a static\n",
       "  rendering on GitHub or <a href=\"https://nbviewer.jupyter.org/\">NBViewer</a>),\n",
       "  it may mean that your frontend doesn't currently support widgets.\n",
       "</p>\n"
      ],
      "text/plain": [
       "FigureCanvasNbAgg()"
      ]
     },
     "metadata": {},
     "output_type": "display_data"
    }
   ],
   "source": [
    "fig, ax = plt.subplots()\n",
    "colors = ['b', 'g', 'r', 'c', 'm', 'y', 'k']\n",
    "roi = 0\n",
    "# fits = []\n",
    "for e in range(len(retention['ivar'])):\n",
    "#     fits.append(np.polyfit(retention['ivar'][e,:,roi], retention['retention'][e,:,roi], 1))\n",
    "    l = len(retention['ivar'][e,:,roi])\n",
    "#     if e == 3:\n",
    "#         l = 4\n",
    "    ax.plot(retention['loading'][e,:l,1], retention['loading'][e,:l,roi],\n",
    "            colors[e]+'o-',\n",
    "            label=legends[e]\n",
    "    )\n",
    "        \n",
    "#     ax.plot(retention['ivar'][e,:,roi], retention['loading'][e,:,roi], colors[e]+'x')\n",
    "#     ax.plot(retention['ivar'][e,:,roi], np.poly1d(fits[-1])(retention['ivar'][e,:,roi]), colors[e]+'-' ,label=legends[e])\n",
    "ax.legend(bbox_to_anchor=(0.85, 0.95), loc=1, borderaxespad=0.)\n",
    "ax.set_ylim(0., .3)\n",
    "ax.set_xlabel(\"Rb loading\")\n",
    "ax.set_ylabel('Cs Loading')\n",
    "fmts = ['pdf', 'png']\n",
    "fn = os.path.join(dp, os.path.dirname(experiment_file), 'cs_rb-collision_loadingXY.{}')\n",
    "for fmt in fmts:\n",
    "    fig.savefig(fn.format(fmt), dpi=200, format=fmt)"
   ]
  },
  {
   "cell_type": "code",
   "execution_count": null,
   "metadata": {},
   "outputs": [],
   "source": []
  }
 ],
 "metadata": {
  "kernelspec": {
   "display_name": "Python 2",
   "language": "python",
   "name": "python2"
  },
  "language_info": {
   "codemirror_mode": {
    "name": "ipython",
    "version": 2
   },
   "file_extension": ".py",
   "mimetype": "text/x-python",
   "name": "python",
   "nbconvert_exporter": "python",
   "pygments_lexer": "ipython2",
   "version": "2.7.6"
  }
 },
 "nbformat": 4,
 "nbformat_minor": 2
}
