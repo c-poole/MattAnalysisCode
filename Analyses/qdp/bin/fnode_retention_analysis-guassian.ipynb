{
 "cells": [
  {
   "cell_type": "code",
   "execution_count": 26,
   "metadata": {},
   "outputs": [],
   "source": [
    "%matplotlib ipympl\n",
    "from QDP import qdp\n",
    "import os.path\n",
    "import numpy as np\n",
    "from scipy.stats import poisson\n",
    "import matplotlib.pyplot as plt\n",
    "from scipy import optimize\n",
    "dp = '/home/ebert/jupyter-notebooks/FNode-data'\n",
    "exclude = [2]\n",
    "\n",
    "def gaussian(x, a, x0, s, b):\n",
    "    return b + a*np.exp(-0.5*((x-x0)/s)**2)"
   ]
  },
  {
   "cell_type": "code",
   "execution_count": 27,
   "metadata": {
    "scrolled": false
   },
   "outputs": [
    {
     "name": "stdout",
     "output_type": "stream",
     "text": [
      "data at: 2018_12_18/2018_12_18_13_49_46_izreadretention/results.hdf5\n",
      "name 'fort_exp' is not defined\n",
      "name 'rb_uwave_freq' is not defined\n",
      "ivars: [u'Iz_read']\n",
      "--------------------\n",
      "--------------------\n",
      "--------------------\n",
      "--------------------\n",
      "Internal work array size computation failed: -5\n",
      "There may be some issue with your guess: `[1.9488994e-18 0.0000000e+00 0.0000000e+00]`\n",
      "--------------------\n",
      "Internal work array size computation failed: -5\n",
      "There may be some issue with your guess: `[1.9488994e-18 0.0000000e+00 0.0000000e+00]`\n",
      "--------------------\n",
      "Could not find conditional retention\n",
      "Could not find conditional retention\n",
      "Could not find conditional retention\n",
      "Could not find conditional retention\n",
      "Could not find conditional retention\n",
      "Could not find conditional retention\n",
      "Could not find conditional retention\n",
      "Could not find conditional retention\n",
      "Could not find conditional retention\n",
      "Could not find conditional retention\n",
      "Could not find conditional retention\n",
      "ivar: -0.1100\tcloading: 0.143\trloading: 0.155\t\tcretention: 0.961 +- 0.017\trretention: 0.702 +- 0.017\n",
      "ivar: -0.0900\tcloading: 0.219\trloading: 0.190\t\tcretention: 0.986 +- 0.017\trretention: 0.767 +- 0.017\n",
      "ivar: -0.0700\tcloading: 0.121\trloading: 0.252\t\tcretention: 0.970 +- 0.008\trretention: 0.880 +- 0.008\n",
      "ivar: -0.0500\tcloading: 0.189\trloading: 0.318\t\tcretention: 0.980 +- 0.008\trretention: 0.926 +- 0.008\n",
      "ivar: -0.0300\tcloading: 0.205\trloading: 0.262\t\tcretention: 0.972 +- 0.009\trretention: 0.913 +- 0.009\n",
      "ivar: -0.0100\tcloading: 0.145\trloading: 0.267\t\tcretention: 0.965 +- 0.008\trretention: 0.908 +- 0.008\n",
      "ivar: 0.0100\tcloading: 0.180\trloading: 0.252\t\tcretention: 0.976 +- 0.009\trretention: 0.908 +- 0.009\n",
      "ivar: 0.0300\tcloading: 0.166\trloading: 0.206\t\tcretention: 0.974 +- 0.012\trretention: 0.862 +- 0.012\n",
      "ivar: 0.0500\tcloading: 0.225\trloading: 0.102\t\tcretention: 0.967 +- 0.026\trretention: 0.672 +- 0.026\n",
      "ivar: 0.0700\tcloading: 0.285\trloading: 0.075\t\tcretention: 0.975 +- 0.036\trretention: 0.567 +- 0.036\n",
      "ivar: 0.0900\tcloading: 0.233\trloading: 0.079\t\tcretention: 0.971 +- 0.032\trretention: 0.497 +- 0.032\n",
      "Could not find conditional retention\n",
      "Could not find conditional retention\n",
      "Could not find conditional retention\n",
      "Could not find conditional retention\n",
      "Could not find conditional retention\n",
      "Could not find conditional retention\n",
      "Could not find conditional retention\n",
      "Could not find conditional retention\n",
      "Could not find conditional retention\n",
      "Could not find conditional retention\n",
      "Could not find conditional retention\n"
     ]
    },
    {
     "data": {
      "application/vnd.jupyter.widget-view+json": {
       "model_id": "7b28bd5defaa4a26a30f1c6a9f055d35",
       "version_major": 2,
       "version_minor": 0
      },
      "text/html": [
       "<p>Failed to display Jupyter Widget of type <code>FigureCanvasNbAgg</code>.</p>\n",
       "<p>\n",
       "  If you're reading this message in Jupyter Notebook or JupyterLab, it may mean\n",
       "  that the widgets JavaScript is still loading. If this message persists, it\n",
       "  likely means that the widgets JavaScript library is either not installed or\n",
       "  not enabled. See the <a href=\"https://ipywidgets.readthedocs.io/en/stable/user_install.html\">Jupyter\n",
       "  Widgets Documentation</a> for setup instructions.\n",
       "</p>\n",
       "<p>\n",
       "  If you're reading this message in another notebook frontend (for example, a static\n",
       "  rendering on GitHub or <a href=\"https://nbviewer.jupyter.org/\">NBViewer</a>),\n",
       "  it may mean that your frontend doesn't currently support widgets.\n",
       "</p>\n"
      ],
      "text/plain": [
       "FigureCanvasNbAgg()"
      ]
     },
     "metadata": {},
     "output_type": "display_data"
    },
    {
     "name": "stdout",
     "output_type": "stream",
     "text": [
      "[ 0.01156738 -0.05214645 -0.00312008  0.97102834]\n",
      "[ 9.19118370e+02 -2.58912799e-02  3.71859655e+00 -9.18183873e+02]\n"
     ]
    }
   ],
   "source": [
    "exp_name = ''\n",
    "if exp_name:\n",
    "    exp_date = '_'.join(exp_name.split('_')[:3])\n",
    "    experiment_file = os.path.join(exp_date, exp_name, 'results.hdf5')\n",
    "else:\n",
    "    experiment_file = ''\n",
    "q = qdp.QDP(base_data_path=dp)\n",
    "q.load_data_file(experiment_file)\n",
    "print \"ivars: {}\".format(q.experiments[0]['variable_list'])\n",
    "cs_cuts = [[30],[30]]\n",
    "rb_cuts = [[30],[30]]\n",
    "q.set_thresholds(cs_cuts, roi=0)\n",
    "q.set_thresholds(rb_cuts, roi=1)\n",
    "q.generate_thresholds(loss=False)\n",
    "retention = q.apply_thresholds(exclude_rois=exclude)\n",
    "cuts = q.get_thresholds()\n",
    "roi_map = ['cs', 'rb']\n",
    "fmt_map = ['bo', 'rd']\n",
    "marker_styles = [\n",
    "    dict(color='cornflowerblue', marker='o', markeredgecolor='b', linestyle='None'),\n",
    "    dict(color='indianred', marker='d', markeredgecolor='r', linestyle='None')\n",
    "]\n",
    "entries = np.product(retention['retention'].shape[:-1])\n",
    "tbl_str = \"ivar: {0:.4f}\\tcloading: {1:.3f}\\trloading: {2:.3f}\\t\\tcretention: {3:.3f} +- {4:.3f}\\trretention: {5:.3f} +- {6:.3f}\"\n",
    "for i in range(entries):\n",
    "    print(tbl_str.format(\n",
    "        retention['ivar'].reshape((entries,-1))[i][0],\n",
    "        retention['loading'].reshape((entries,-1))[i][0], retention['loading'].reshape((entries,-1))[i][1],\n",
    "        retention['retention'].reshape((entries,-1))[i][0], retention['error'].reshape((entries,-1))[i][0],\n",
    "        retention['retention'].reshape((entries,-1))[i][1], retention['error'].reshape((entries,-1))[i][1]\n",
    "    ))\n",
    "q.save_experiment_data()\n",
    "xlab = q.experiments[0]['variable_desc'][q.experiments[0]['variable_list'][0]]['description']\n",
    "\n",
    "# plotting\n",
    "fig, ax = plt.subplots(nrows=2, figsize=(5,8))\n",
    "plt.subplots_adjust(wspace=0.3)\n",
    "popts = []\n",
    "pcovs = []\n",
    "for i, yvals in enumerate(['retention', 'loading']):\n",
    "    for e in range(len(retention['ivar'])):\n",
    "        for r in range(2):            \n",
    "            if yvals=='retention':\n",
    "                try:\n",
    "                    ax[i].errorbar(retention['ivar'][e, :, r], retention[yvals][e, :, r],\n",
    "                        yerr=retention['error'][e,:,r],\n",
    "                        **marker_styles[r]\n",
    "                    )\n",
    "                except Exception as ee:\n",
    "                    print(ee)\n",
    "                    ax[i].plot(retention['ivar'][e, :, 0], retention[yvals][e, :, r], **marker_styles[r])\n",
    "                # fitting\n",
    "                xs = np.linspace(min(retention['ivar'][e, :, 0]), max(retention['ivar'][e, :, 0]),100)\n",
    "                guess = [0.2, retention['ivar'][e, np.argmax(retention[yvals][e, :, r]), 0], 0.2, 0.4]\n",
    "                try:\n",
    "                    popt, pcov = optimize.curve_fit(\n",
    "                        gaussian,\n",
    "                        retention['ivar'][e, :, 0],\n",
    "                        retention[yvals][e, :, r],\n",
    "                        p0=guess,\n",
    "                        sigma=retention['error'][e, :, r]\n",
    "                    )\n",
    "                    popts.append(popt)\n",
    "                    pcovs.append(pcov)\n",
    "                except Exception as ee:\n",
    "                    print ee\n",
    "                else:\n",
    "                    ax[i].plot(xs, gaussian(xs, *popt), fmt_map[r][0]+'--', alpha=0.6)\n",
    "                    print(popt)\n",
    "                    fit_data = \"{}\\na: {:.3f}\\nx0: {:.3f}\\ns: {:.3f}\\nb: {:.3f}\"\n",
    "                    start = np.min(retention['ivar'][e, :, 0])\n",
    "                    stop = np.max(retention['ivar'][e, :, 0])\n",
    "                    dx = (stop-start)/10\n",
    "                    ax[i].text(start+dx+r*5*dx, 0.1, fit_data.format(roi_map[r],*popt), fontsize=12)\n",
    "            else:\n",
    "                ax[i].plot(retention['ivar'][e, :, 0], retention[yvals][e, :, r], **marker_styles[r])\n",
    "                \n",
    "        \n",
    "    ax[i].set_ylim(0., 1)\n",
    "    ax[i].set_xlabel(xlab)\n",
    "    ax[i].set_ylabel(yvals)\n",
    "\n",
    "fmts = ['pdf', 'png']\n",
    "fn = os.path.join(dp, q.experiments[0]['source_path'], 'loading_scan.{}')\n",
    "for fmt in fmts:\n",
    "    fig.savefig(fn.format(fmt), dpi=200, format=fmt)"
   ]
  },
  {
   "cell_type": "code",
   "execution_count": 14,
   "metadata": {},
   "outputs": [
    {
     "name": "stdout",
     "output_type": "stream",
     "text": [
      "cs: -0.300 (inf)\n"
     ]
    },
    {
     "ename": "IndexError",
     "evalue": "list index out of range",
     "output_type": "error",
     "traceback": [
      "\u001b[0;31m\u001b[0m",
      "\u001b[0;31mIndexError\u001b[0mTraceback (most recent call last)",
      "\u001b[0;32m<ipython-input-14-04177d6e6500>\u001b[0m in \u001b[0;36m<module>\u001b[0;34m()\u001b[0m\n\u001b[1;32m      1\u001b[0m \u001b[0;32mfor\u001b[0m \u001b[0mr\u001b[0m \u001b[0;32min\u001b[0m \u001b[0mrange\u001b[0m\u001b[0;34m(\u001b[0m\u001b[0;36m2\u001b[0m\u001b[0;34m)\u001b[0m\u001b[0;34m:\u001b[0m\u001b[0;34m\u001b[0m\u001b[0m\n\u001b[0;32m----> 2\u001b[0;31m     \u001b[0;32mprint\u001b[0m\u001b[0;34m(\u001b[0m\u001b[0;34m'{}: {:.3f} ({:.3f})'\u001b[0m\u001b[0;34m.\u001b[0m\u001b[0mformat\u001b[0m\u001b[0;34m(\u001b[0m\u001b[0;34m[\u001b[0m\u001b[0;34m'cs'\u001b[0m\u001b[0;34m,\u001b[0m\u001b[0;34m'rb'\u001b[0m\u001b[0;34m]\u001b[0m\u001b[0;34m[\u001b[0m\u001b[0mr\u001b[0m\u001b[0;34m]\u001b[0m\u001b[0;34m,\u001b[0m \u001b[0mpopts\u001b[0m\u001b[0;34m[\u001b[0m\u001b[0mr\u001b[0m\u001b[0;34m]\u001b[0m\u001b[0;34m[\u001b[0m\u001b[0;36m1\u001b[0m\u001b[0;34m]\u001b[0m\u001b[0;34m,\u001b[0m \u001b[0mnp\u001b[0m\u001b[0;34m.\u001b[0m\u001b[0msqrt\u001b[0m\u001b[0;34m(\u001b[0m\u001b[0mnp\u001b[0m\u001b[0;34m.\u001b[0m\u001b[0mdiagonal\u001b[0m\u001b[0;34m(\u001b[0m\u001b[0mnp\u001b[0m\u001b[0;34m.\u001b[0m\u001b[0mabs\u001b[0m\u001b[0;34m(\u001b[0m\u001b[0mpcovs\u001b[0m\u001b[0;34m[\u001b[0m\u001b[0mr\u001b[0m\u001b[0;34m]\u001b[0m\u001b[0;34m)\u001b[0m\u001b[0;34m)\u001b[0m\u001b[0;34m)\u001b[0m\u001b[0;34m[\u001b[0m\u001b[0;36m1\u001b[0m\u001b[0;34m]\u001b[0m\u001b[0;34m)\u001b[0m\u001b[0;34m)\u001b[0m\u001b[0;34m\u001b[0m\u001b[0m\n\u001b[0m",
      "\u001b[0;31mIndexError\u001b[0m: list index out of range"
     ]
    }
   ],
   "source": [
    "for r in range(2):\n",
    "    print('{}: {:.3f} ({:.3f})'.format(['cs','rb'][r], popts[r][1], np.sqrt(np.diagonal(np.abs(pcovs[r])))[1]))"
   ]
  },
  {
   "cell_type": "code",
   "execution_count": 17,
   "metadata": {
    "scrolled": false
   },
   "outputs": [
    {
     "data": {
      "application/vnd.jupyter.widget-view+json": {
       "model_id": "1d008d5825f240429e6160ca35930dc7",
       "version_major": 2,
       "version_minor": 0
      },
      "text/html": [
       "<p>Failed to display Jupyter Widget of type <code>FigureCanvasNbAgg</code>.</p>\n",
       "<p>\n",
       "  If you're reading this message in Jupyter Notebook or JupyterLab, it may mean\n",
       "  that the widgets JavaScript is still loading. If this message persists, it\n",
       "  likely means that the widgets JavaScript library is either not installed or\n",
       "  not enabled. See the <a href=\"https://ipywidgets.readthedocs.io/en/stable/user_install.html\">Jupyter\n",
       "  Widgets Documentation</a> for setup instructions.\n",
       "</p>\n",
       "<p>\n",
       "  If you're reading this message in another notebook frontend (for example, a static\n",
       "  rendering on GitHub or <a href=\"https://nbviewer.jupyter.org/\">NBViewer</a>),\n",
       "  it may mean that your frontend doesn't currently support widgets.\n",
       "</p>\n"
      ],
      "text/plain": [
       "FigureCanvasNbAgg()"
      ]
     },
     "metadata": {},
     "output_type": "display_data"
    },
    {
     "name": "stdout",
     "output_type": "stream",
     "text": [
      "[ 1.03529112e-58 -3.00000023e-01  1.00000017e-01 -1.41373686e-59]\n",
      "[0.44068486 0.04063953 0.15024421 0.00550193]\n"
     ]
    }
   ],
   "source": [
    "# plotting\n",
    "fig, ax = plt.subplots(nrows=2, figsize=(5,8))\n",
    "plt.subplots_adjust(wspace=0.3)\n",
    "for i, yvals in enumerate(['retention', 'loading']):\n",
    "    for e in range(len(retention['ivar'])):\n",
    "        for r in range(2):            \n",
    "            if yvals=='retention':\n",
    "                try:\n",
    "                    ax[i].errorbar(retention['ivar'][e, :, r], retention[yvals][e, :, r],\n",
    "                        yerr=retention['error'][e,:,r],\n",
    "                        **marker_styles[r]\n",
    "                    )\n",
    "                except Exception as ee:\n",
    "                    print(ee)\n",
    "                    ax[i].plot(retention['ivar'][e, :, 0], retention[yvals][e, :, r], **marker_styles[r])\n",
    "                # fitting\n",
    "                xs = np.linspace(min(retention['ivar'][e, :, 0]), max(retention['ivar'][e, :, 0]),100)\n",
    "                guess = [0.3, retention['ivar'][e, np.argmax(retention[yvals][e, :, r]), 0], 0.1, 0.6]\n",
    "                try:\n",
    "                    popt, pcov = optimize.curve_fit(\n",
    "                        gaussian,\n",
    "                        retention['ivar'][e, :, 0],\n",
    "                        retention[yvals][e, :, r],\n",
    "                        p0=guess,\n",
    "                        sigma=retention['error'][e, :, r]\n",
    "                    )\n",
    "                except Exception as ee:\n",
    "                    print ee\n",
    "                else:\n",
    "                    ax[i].plot(xs, gaussian(xs, *popt), fmt_map[r][0]+'--', alpha=0.6)\n",
    "                    print(popt)\n",
    "                    fit_data = \"{}\\na: {:.3f}\\nx0: {:.3f}\\ns: {:.3f}\\nb: {:.3f}\"\n",
    "                    start = np.min(retention['ivar'][e, :, 0])\n",
    "                    stop = np.max(retention['ivar'][e, :, 0])\n",
    "                    dx = (stop-start)/10\n",
    "                    ax[i].text(start+dx+r*5*dx, 0.5, fit_data.format(roi_map[r],*popt), fontsize=12)\n",
    "            else:\n",
    "                ax[i].plot(retention['ivar'][e, :, 0], retention[yvals][e, :, r], **marker_styles[r])\n",
    "                \n",
    "        \n",
    "#     ax[i].set_ylim(0.6, 1)\n",
    "    ax[i].set_xlabel(xlab)\n",
    "    ax[i].set_ylabel(yvals)\n",
    "\n",
    "fmts = ['pdf', 'png']\n",
    "fn = os.path.join(dp, q.experiments[0]['source_path'], 'loading_scan.{}')\n",
    "for fmt in fmts:\n",
    "    fig.savefig(fn.format(fmt), dpi=200, format=fmt)"
   ]
  },
  {
   "cell_type": "code",
   "execution_count": null,
   "metadata": {},
   "outputs": [],
   "source": []
  }
 ],
 "metadata": {
  "kernelspec": {
   "display_name": "Python 2",
   "language": "python",
   "name": "python2"
  },
  "language_info": {
   "codemirror_mode": {
    "name": "ipython",
    "version": 2
   },
   "file_extension": ".py",
   "mimetype": "text/x-python",
   "name": "python",
   "nbconvert_exporter": "python",
   "pygments_lexer": "ipython2",
   "version": "2.7.6"
  }
 },
 "nbformat": 4,
 "nbformat_minor": 2
}
