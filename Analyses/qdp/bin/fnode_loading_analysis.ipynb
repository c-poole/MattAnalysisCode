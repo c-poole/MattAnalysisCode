{
 "cells": [
  {
   "cell_type": "code",
   "execution_count": 2,
   "metadata": {},
   "outputs": [],
   "source": [
    "%matplotlib ipympl\n",
    "from QDP import qdp\n",
    "import os.path\n",
    "import numpy as np\n",
    "from scipy.stats import poisson\n",
    "import matplotlib.pyplot as plt\n",
    "dp = '/home/ebert/jupyter-notebooks/FNode-data'"
   ]
  },
  {
   "cell_type": "code",
   "execution_count": 12,
   "metadata": {
    "scrolled": false
   },
   "outputs": [
    {
     "name": "stdout",
     "output_type": "stream",
     "text": [
      "data at: 2020_01_27/2020_01_27_15_34_15_rb_det/results.hdf5\n",
      "name 'fort_exp' is not defined\n",
      "name 'rb_uwave_freq' is not defined\n",
      "ivars: [u'rb_d2_pgc_det']\n",
      "--------------------\n",
      "--------------------\n",
      "--------------------\n",
      "--------------------\n",
      "Internal work array size computation failed: -5\n",
      "There may be some issue with your guess: `[2.21306915e-17 0.00000000e+00 0.00000000e+00]`\n",
      "--------------------\n",
      "Internal work array size computation failed: -5\n",
      "There may be some issue with your guess: `[2.21306915e-17 0.00000000e+00 0.00000000e+00]`\n",
      "--------------------\n",
      "Could not find conditional retention\n",
      "Could not find conditional retention\n",
      "Could not find conditional retention\n",
      "Could not find conditional retention\n",
      "Could not find conditional retention\n",
      "Could not find conditional retention\n",
      "Could not find conditional retention\n",
      "Could not find conditional retention\n",
      "Could not find conditional retention\n",
      "Could not find conditional retention\n",
      "Could not find conditional retention\n",
      "{0: [[409], [399]], 1: [[421], [404]], 2: [[nan], [nan]]}\n",
      "ivar: -11.0000\tcloading: 0.153\trloading: 0.023\t\tcretention: 0.891 +- 0.157\trretention: 0.571 +- 0.157\n",
      "ivar: -10.4000\tcloading: 0.113\trloading: 0.023\t\tcretention: 0.912 +- 0.157\trretention: 0.571 +- 0.157\n",
      "ivar: -9.8000\tcloading: 0.103\trloading: 0.063\t\tcretention: 0.935 +- 0.059\trretention: 0.895 +- 0.059\n",
      "ivar: -9.2000\tcloading: 0.193\trloading: 0.186\t\tcretention: 0.897 +- 0.053\trretention: 0.661 +- 0.053\n",
      "ivar: -8.6000\tcloading: 0.156\trloading: 0.395\t\tcretention: 0.787 +- 0.036\trretention: 0.681 +- 0.036\n",
      "ivar: -8.0000\tcloading: 0.150\trloading: 0.561\t\tcretention: 0.800 +- 0.031\trretention: 0.657 +- 0.031\n",
      "ivar: -7.4000\tcloading: 0.133\trloading: 0.615\t\tcretention: 0.925 +- 0.028\trretention: 0.703 +- 0.028\n",
      "ivar: -6.8000\tcloading: 0.159\trloading: 0.545\t\tcretention: 0.896 +- 0.032\trretention: 0.585 +- 0.032\n",
      "ivar: -6.2000\tcloading: 0.159\trloading: 0.545\t\tcretention: 0.875 +- 0.031\trretention: 0.659 +- 0.031\n",
      "ivar: -5.6000\tcloading: 0.179\trloading: 0.688\t\tcretention: 0.685 +- 0.026\trretention: 0.734 +- 0.026\n",
      "ivar: -5.0000\tcloading: 0.156\trloading: 0.664\t\tcretention: 0.787 +- 0.029\trretention: 0.630 +- 0.029\n"
     ]
    },
    {
     "data": {
      "application/vnd.jupyter.widget-view+json": {
       "model_id": "beb105efad2240268e2344ec2040f3d4",
       "version_major": 2,
       "version_minor": 0
      },
      "text/html": [
       "<p>Failed to display Jupyter Widget of type <code>FigureCanvasNbAgg</code>.</p>\n",
       "<p>\n",
       "  If you're reading this message in Jupyter Notebook or JupyterLab, it may mean\n",
       "  that the widgets JavaScript is still loading. If this message persists, it\n",
       "  likely means that the widgets JavaScript library is either not installed or\n",
       "  not enabled. See the <a href=\"https://ipywidgets.readthedocs.io/en/stable/user_install.html\">Jupyter\n",
       "  Widgets Documentation</a> for setup instructions.\n",
       "</p>\n",
       "<p>\n",
       "  If you're reading this message in another notebook frontend (for example, a static\n",
       "  rendering on GitHub or <a href=\"https://nbviewer.jupyter.org/\">NBViewer</a>),\n",
       "  it may mean that your frontend doesn't currently support widgets.\n",
       "</p>\n"
      ],
      "text/plain": [
       "FigureCanvasNbAgg()"
      ]
     },
     "metadata": {},
     "output_type": "display_data"
    }
   ],
   "source": [
    "exp_name = ''\n",
    "if exp_name:\n",
    "    exp_date = '_'.join(exp_name.split('_')[:3])\n",
    "    experiment_file = os.path.join(exp_date, exp_name, 'results.hdf5')\n",
    "else:\n",
    "    experiment_file = ''\n",
    "if 'fig' in locals():\n",
    "    plt.close(fig)\n",
    "q = qdp.QDP(base_data_path=dp)\n",
    "q.load_data_file(experiment_file)\n",
    "print \"ivars: {}\".format(q.experiments[0]['variable_list'])\n",
    "cs_cuts = [[80],[80]]\n",
    "rb_cuts = [[80],[80]]\n",
    "#q.set_thresholds(cs_cuts, roi=0)\n",
    "#q.set_thresholds(rb_cuts, roi=1)\n",
    "q.generate_thresholds(loss=False)\n",
    "retention = q.apply_thresholds(exclude_rois=[2])\n",
    "cuts = q.get_thresholds()\n",
    "\n",
    "print(cuts)\n",
    "roi_map = ['cs', 'rb']\n",
    "entries = np.product(retention['retention'].shape[:-1])\n",
    "tbl_str = \"ivar: {0:.4f}\\tcloading: {1:.3f}\\trloading: {2:.3f}\\t\\tcretention: {3:.3f} +- {4:.3f}\\trretention: {5:.3f} +- {6:.3f}\"\n",
    "for i in range(entries):\n",
    "    print(tbl_str.format(\n",
    "        retention['ivar'].reshape((entries,-1))[i][0],\n",
    "        retention['loading'].reshape((entries,-1))[i][0], retention['loading'].reshape((entries,-1))[i][1],\n",
    "        retention['retention'].reshape((entries,-1))[i][0], retention['error'].reshape((entries,-1))[i][0],\n",
    "        retention['retention'].reshape((entries,-1))[i][1], retention['error'].reshape((entries,-1))[i][1]\n",
    "    ))\n",
    "#q.save_experiment_data()\n",
    "xlab = q.experiments[0]['variable_desc'][q.experiments[0]['variable_list'][0]]['description']\n",
    "fig, ax = plt.subplots()\n",
    "for e in range(len(retention['ivar'])):\n",
    "    ax.plot(retention['ivar'][e, :, 0], retention['loading'][e, :, 0], 'bo')\n",
    "    ax.plot(retention['ivar'][e, :, 0], retention['loading'][e, :, 1], 'rx')\n",
    "ax.set_ylim(0, 1.05*np.nanmax(retention['loading']))\n",
    "ax.set_xlabel(xlab)\n",
    "ax.set_ylabel('loading')\n",
    "\n",
    "fmts = ['pdf', 'png']\n",
    "fn = os.path.join(dp, q.experiments[0]['source_path'], 'loading_scan.{}')\n",
    "for fmt in fmts:\n",
    "    fig.savefig(fn.format(fmt), dpi=200, format=fmt)"
   ]
  },
  {
   "cell_type": "code",
   "execution_count": 114,
   "metadata": {},
   "outputs": [],
   "source": []
  },
  {
   "cell_type": "code",
   "execution_count": null,
   "metadata": {},
   "outputs": [],
   "source": []
  }
 ],
 "metadata": {
  "kernelspec": {
   "display_name": "Python 2",
   "language": "python",
   "name": "python2"
  },
  "language_info": {
   "codemirror_mode": {
    "name": "ipython",
    "version": 2
   },
   "file_extension": ".py",
   "mimetype": "text/x-python",
   "name": "python",
   "nbconvert_exporter": "python",
   "pygments_lexer": "ipython2",
   "version": "2.7.6"
  }
 },
 "nbformat": 4,
 "nbformat_minor": 2
}
