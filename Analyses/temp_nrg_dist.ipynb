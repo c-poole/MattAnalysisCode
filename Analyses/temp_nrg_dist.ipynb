{
 "cells": [
  {
   "cell_type": "code",
   "execution_count": 181,
   "metadata": {},
   "outputs": [],
   "source": [
    "%matplotlib ipympl\n",
    "from QDP import qdp, atom\n",
    "import numpy as np\n",
    "from scipy import constants\n",
    "import matplotlib.pyplot as plt"
   ]
  },
  {
   "cell_type": "code",
   "execution_count": 182,
   "metadata": {},
   "outputs": [
    {
     "name": "stdout",
     "output_type": "stream",
     "text": [
      "(0.33658510270526365, 3.3748747563476837)\n",
      "(0.43974561123525224, 4.3605026996436775)\n",
      "3.75492505677\n"
     ]
    }
   ],
   "source": [
    "T1 = 100\n",
    "T2 = 100\n",
    "k = 1.38064852e-23\n",
    "m1_au = 132.905\n",
    "m2_au = 86.909\n",
    "m1_kg = m1_au*constants.atomic_mass\n",
    "m2_kg = m2_au*constants.atomic_mass\n",
    "\n",
    "\n",
    "wr_um=2.4\n",
    "zr_um=17.\n",
    "\n",
    "U_mk1 = 1.27\n",
    "U_mk2 = 0.744\n",
    "n=100000\n",
    "\n",
    "sr1 = atom.atom_distribution_sigma_um(T1, 37.4, m1_au)\n",
    "sa1 = atom.atom_distribution_sigma_um(T1, 3.730, m1_au)\n",
    "sr2 = atom.atom_distribution_sigma_um(T2, 35.4, m2_au)\n",
    "sa2 = atom.atom_distribution_sigma_um(T2, 3.57, m2_au)\n",
    "\n",
    "sv1 = np.sqrt(k*T1*1e-6/m1_kg)\n",
    "sv2 = np.sqrt(k*T2*1e-6/m2_kg)\n",
    "print(sr1,sa1)\n",
    "print(sr2,sa2)\n",
    "\n",
    "x, y = np.random.normal(scale=sr1, size=(2, n))\n",
    "z = np.random.normal(scale=sa1, size=n)\n",
    "vx, vy, vz = np.random.normal(scale=sv1, size=(3, n))\n",
    "\n",
    "x2, y2 = np.random.normal(scale=sr2, size=(2, n))\n",
    "z2 = np.random.normal(scale=sa2, size=n)\n",
    "vx2, vy2, vz2 = np.random.normal(scale=sv2, size=(3, n))\n",
    "\n",
    "PE_i = k*U_mk1*1E-3*(1-atom.gaussian_beam(x, y, z, wr_um, zr_um))\n",
    "KE = 0.5*m1_kg*(np.power(vx, 2) + np.power(vy, 2) + np.power(vz, 2))\n",
    "KE_re = 0.5*(m1_kg*m2_kg)/(m1_kg+m2_kg)*(np.power(vx-vx2, 2) + np.power(vy-vy2, 2) + np.power(vz-vz2, 2))\n",
    "\n",
    "rho_ij = 1./((2*np.pi)**1.5*(sr1**2 + sr2**2)*np.sqrt(sa1**2 + sa2**2))\n",
    "print(rho_ij*1e2)"
   ]
  },
  {
   "cell_type": "code",
   "execution_count": 183,
   "metadata": {},
   "outputs": [
    {
     "data": {
      "text/plain": [
       "8.5858288561172411e-05"
      ]
     },
     "execution_count": 183,
     "metadata": {},
     "output_type": "execute_result"
    }
   ],
   "source": [
    "np.mean(PE_i)/(3*k/2)"
   ]
  },
  {
   "cell_type": "code",
   "execution_count": 176,
   "metadata": {},
   "outputs": [
    {
     "data": {
      "text/plain": [
       "0.00010036862603846487"
      ]
     },
     "execution_count": 176,
     "metadata": {},
     "output_type": "execute_result"
    }
   ],
   "source": [
    "np.mean(KE)/(3*k/2)"
   ]
  },
  {
   "cell_type": "code",
   "execution_count": 178,
   "metadata": {},
   "outputs": [
    {
     "data": {
      "application/vnd.jupyter.widget-view+json": {
       "model_id": "013db11b59af4caf9a176cf925695ed3",
       "version_major": 2,
       "version_minor": 0
      },
      "text/html": [
       "<p>Failed to display Jupyter Widget of type <code>FigureCanvasNbAgg</code>.</p>\n",
       "<p>\n",
       "  If you're reading this message in Jupyter Notebook or JupyterLab, it may mean\n",
       "  that the widgets JavaScript is still loading. If this message persists, it\n",
       "  likely means that the widgets JavaScript library is either not installed or\n",
       "  not enabled. See the <a href=\"https://ipywidgets.readthedocs.io/en/stable/user_install.html\">Jupyter\n",
       "  Widgets Documentation</a> for setup instructions.\n",
       "</p>\n",
       "<p>\n",
       "  If you're reading this message in another notebook frontend (for example, a static\n",
       "  rendering on GitHub or <a href=\"https://nbviewer.jupyter.org/\">NBViewer</a>),\n",
       "  it may mean that your frontend doesn't currently support widgets.\n",
       "</p>\n"
      ],
      "text/plain": [
       "FigureCanvasNbAgg()"
      ]
     },
     "metadata": {},
     "output_type": "display_data"
    },
    {
     "data": {
      "text/plain": [
       "(0, 1.5e-26)"
      ]
     },
     "execution_count": 178,
     "metadata": {},
     "output_type": "execute_result"
    }
   ],
   "source": [
    "fig, ax = plt.subplots()\n",
    "e_tot = (KE+PE_i)\n",
    "\n",
    "ax.hist(e_tot, 300, normed=True, alpha=0.3)\n",
    "ax.hist(KE, 300, normed=True, alpha=0.3)\n",
    "ax.hist(PE_i, 300, normed=True, alpha=0.3)\n",
    "xs = np.linspace(0, np.max(e_tot),1000)\n",
    "T1p = 1.*T1*1e-6\n",
    "\n",
    "ax.plot(xs, np.power(xs,2)*np.exp(-xs/(k*T1p))/(2*(k*T1p)**3))\n",
    "ax.set_xlim(0,1.5e-26)"
   ]
  },
  {
   "cell_type": "code",
   "execution_count": 180,
   "metadata": {},
   "outputs": [
    {
     "data": {
      "application/vnd.jupyter.widget-view+json": {
       "model_id": "6321522019424874bb862c7ec6c66afe",
       "version_major": 2,
       "version_minor": 0
      },
      "text/html": [
       "<p>Failed to display Jupyter Widget of type <code>FigureCanvasNbAgg</code>.</p>\n",
       "<p>\n",
       "  If you're reading this message in Jupyter Notebook or JupyterLab, it may mean\n",
       "  that the widgets JavaScript is still loading. If this message persists, it\n",
       "  likely means that the widgets JavaScript library is either not installed or\n",
       "  not enabled. See the <a href=\"https://ipywidgets.readthedocs.io/en/stable/user_install.html\">Jupyter\n",
       "  Widgets Documentation</a> for setup instructions.\n",
       "</p>\n",
       "<p>\n",
       "  If you're reading this message in another notebook frontend (for example, a static\n",
       "  rendering on GitHub or <a href=\"https://nbviewer.jupyter.org/\">NBViewer</a>),\n",
       "  it may mean that your frontend doesn't currently support widgets.\n",
       "</p>\n"
      ],
      "text/plain": [
       "FigureCanvasNbAgg()"
      ]
     },
     "metadata": {},
     "output_type": "display_data"
    },
    {
     "data": {
      "text/plain": [
       "[<matplotlib.lines.Line2D at 0x9018580c>]"
      ]
     },
     "execution_count": 180,
     "metadata": {},
     "output_type": "execute_result"
    }
   ],
   "source": [
    "fig, ax = plt.subplots()\n",
    "\n",
    "ax.hist(KE_re, 300, normed=True, alpha=0.3)\n",
    "xs = np.linspace(0, np.max(KE_re),1000)\n",
    "T1p = 1.*T1*1e-6\n",
    "\n",
    "ax.plot(xs, (2./(k*T1p))*np.sqrt(xs/(np.pi*k*T1p))*np.exp(-xs/(k*T1p)))"
   ]
  },
  {
   "cell_type": "code",
   "execution_count": 138,
   "metadata": {},
   "outputs": [
    {
     "data": {
      "text/plain": [
       "1.0835406838177191"
      ]
     },
     "execution_count": 138,
     "metadata": {},
     "output_type": "execute_result"
    }
   ],
   "source": [
    "sep=np.mean(np.sqrt(np.power(x-x2,2)+np.power(y-y2,2)+np.power(z-z2,2)))\n",
    "1e2*sep**-3"
   ]
  },
  {
   "cell_type": "code",
   "execution_count": 139,
   "metadata": {},
   "outputs": [
    {
     "name": "stdout",
     "output_type": "stream",
     "text": [
      "3.75492505677\n"
     ]
    }
   ],
   "source": [
    "print(rho_ij*1e2)"
   ]
  },
  {
   "cell_type": "code",
   "execution_count": 140,
   "metadata": {},
   "outputs": [
    {
     "name": "stdout",
     "output_type": "stream",
     "text": [
      "3.46542138458\n"
     ]
    }
   ],
   "source": [
    "print(rho_ij*1e2/(1e2*sep**-3))"
   ]
  },
  {
   "cell_type": "code",
   "execution_count": 143,
   "metadata": {},
   "outputs": [
    {
     "data": {
      "text/plain": [
       "0.6203504908994001"
      ]
     },
     "execution_count": 143,
     "metadata": {},
     "output_type": "execute_result"
    }
   ],
   "source": [
    "(3/(4*np.pi))**(1./3)"
   ]
  },
  {
   "cell_type": "code",
   "execution_count": 150,
   "metadata": {},
   "outputs": [],
   "source": [
    "x3, y3 = np.random.normal(scale=np.sqrt(sr1**2 + sr2**2), size=(2, n))\n",
    "z3 = np.random.normal(scale=np.sqrt(sa1**2 + sa2**2), size=n)"
   ]
  },
  {
   "cell_type": "code",
   "execution_count": 151,
   "metadata": {},
   "outputs": [
    {
     "data": {
      "text/plain": [
       "4.5330499233898749"
      ]
     },
     "execution_count": 151,
     "metadata": {},
     "output_type": "execute_result"
    }
   ],
   "source": []
  },
  {
   "cell_type": "code",
   "execution_count": 156,
   "metadata": {},
   "outputs": [
    {
     "data": {
      "application/vnd.jupyter.widget-view+json": {
       "model_id": "6ee3d2a07ab14575bdcd3732dbe91f49",
       "version_major": 2,
       "version_minor": 0
      },
      "text/html": [
       "<p>Failed to display Jupyter Widget of type <code>FigureCanvasNbAgg</code>.</p>\n",
       "<p>\n",
       "  If you're reading this message in Jupyter Notebook or JupyterLab, it may mean\n",
       "  that the widgets JavaScript is still loading. If this message persists, it\n",
       "  likely means that the widgets JavaScript library is either not installed or\n",
       "  not enabled. See the <a href=\"https://ipywidgets.readthedocs.io/en/stable/user_install.html\">Jupyter\n",
       "  Widgets Documentation</a> for setup instructions.\n",
       "</p>\n",
       "<p>\n",
       "  If you're reading this message in another notebook frontend (for example, a static\n",
       "  rendering on GitHub or <a href=\"https://nbviewer.jupyter.org/\">NBViewer</a>),\n",
       "  it may mean that your frontend doesn't currently support widgets.\n",
       "</p>\n"
      ],
      "text/plain": [
       "FigureCanvasNbAgg()"
      ]
     },
     "metadata": {},
     "output_type": "display_data"
    },
    {
     "data": {
      "text/plain": [
       "[<matplotlib.lines.Line2D at 0x922591ac>]"
      ]
     },
     "execution_count": 156,
     "metadata": {},
     "output_type": "execute_result"
    }
   ],
   "source": [
    "fig, ax = plt.subplots()\n",
    "ax.hist(np.sqrt(np.power(x-x2,2)+np.power(y-y2,2)+np.power(z-z2,2)), 100, normed=True,alpha=0.4)\n",
    "ax.hist(np.sqrt(np.power(x3,2)+np.power(y3,2)+np.power(z3,2)), 100, normed=True,alpha=0.4)\n",
    "a = 5.\n",
    "xs = np.linspace(0,20,1000)\n",
    "ax.plot(xs, 3./a * np.power(xs/a,2)*np.exp(-np.power(xs/a,3)))"
   ]
  },
  {
   "cell_type": "code",
   "execution_count": 162,
   "metadata": {},
   "outputs": [
    {
     "data": {
      "text/plain": [
       "2.9862963870239199"
      ]
     },
     "execution_count": 162,
     "metadata": {},
     "output_type": "execute_result"
    }
   ],
   "source": [
    "rho_ij**(-1./3)"
   ]
  },
  {
   "cell_type": "code",
   "execution_count": 160,
   "metadata": {},
   "outputs": [
    {
     "data": {
      "text/plain": [
       "4.5190962630983726"
      ]
     },
     "execution_count": 160,
     "metadata": {},
     "output_type": "execute_result"
    }
   ],
   "source": [
    "sep"
   ]
  },
  {
   "cell_type": "code",
   "execution_count": null,
   "metadata": {},
   "outputs": [],
   "source": []
  }
 ],
 "metadata": {
  "kernelspec": {
   "display_name": "Python 2",
   "language": "python",
   "name": "python2"
  },
  "language_info": {
   "codemirror_mode": {
    "name": "ipython",
    "version": 2
   },
   "file_extension": ".py",
   "mimetype": "text/x-python",
   "name": "python",
   "nbconvert_exporter": "python",
   "pygments_lexer": "ipython2",
   "version": "2.7.6"
  }
 },
 "nbformat": 4,
 "nbformat_minor": 2
}
